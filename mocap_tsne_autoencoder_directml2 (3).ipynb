{
 "cells": [
  {
   "cell_type": "code",
   "execution_count": 7,
   "metadata": {
    "id": "OVAdgMoRi6si",
    "ExecuteTime": {
     "end_time": "2025-03-24T20:00:00.584471Z",
     "start_time": "2025-03-24T20:00:00.578497Z"
    }
   },
   "outputs": [],
   "source": [
    "################################################\n",
    "### using filtered data"
   ]
  },
  {
   "cell_type": "code",
   "execution_count": 8,
   "metadata": {
    "colab": {
     "base_uri": "https://localhost:8080/",
     "height": 180
    },
    "id": "LyUj_oZqi6sm",
    "outputId": "92d21141-5656-41fb-9045-025062590251",
    "ExecuteTime": {
     "end_time": "2025-03-24T20:00:01.877097Z",
     "start_time": "2025-03-24T20:00:01.869757Z"
    }
   },
   "outputs": [],
   "source": [
    "import pickle\n",
    "with open('shaped.pickle', 'rb') as f:\n",
    "    ab = pickle.load(f)"
   ]
  },
  {
   "cell_type": "markdown",
   "source": [
    "# Новий розділ"
   ],
   "metadata": {
    "id": "5ZIhw49BjkJR"
   }
  },
  {
   "cell_type": "code",
   "source": [
    "# from google.colab import drive\n",
    "# drive.mount('/content/drive')"
   ],
   "metadata": {
    "id": "OC1DWztdjcpJ",
    "ExecuteTime": {
     "end_time": "2025-03-24T20:05:27.003719Z",
     "start_time": "2025-03-24T20:05:27.001914Z"
    }
   },
   "execution_count": 54,
   "outputs": []
  },
  {
   "cell_type": "code",
   "execution_count": 9,
   "metadata": {
    "id": "slx70xjxi6sn",
    "outputId": "effd2e2d-4c8c-4732-8fb2-0644657badf3",
    "ExecuteTime": {
     "end_time": "2025-03-24T20:00:08.495506Z",
     "start_time": "2025-03-24T20:00:08.490023Z"
    }
   },
   "outputs": [
    {
     "data": {
      "text/plain": "(297, 1200)"
     },
     "execution_count": 9,
     "metadata": {},
     "output_type": "execute_result"
    }
   ],
   "source": [
    "ab.shape"
   ]
  },
  {
   "cell_type": "code",
   "execution_count": 10,
   "metadata": {
    "id": "VCrarOqZi6so",
    "ExecuteTime": {
     "end_time": "2025-03-24T20:00:14.082637Z",
     "start_time": "2025-03-24T20:00:11.461853Z"
    }
   },
   "outputs": [],
   "source": [
    "from sklearn import model_selection, preprocessing, linear_model, naive_bayes, metrics, svm\n",
    "#from sklearn.feature_extraction.text import TfidfVectorizer, CountVectorizer\n",
    "from sklearn import decomposition, ensemble\n",
    "\n",
    "import numpy #,  string #pandas, xgboost, textblob,\n",
    "#from tensorflow.keras.preprocessing import text, sequence\n",
    "from tensorflow.keras import layers, models, optimizers"
   ]
  },
  {
   "cell_type": "code",
   "execution_count": 11,
   "metadata": {
    "id": "FINs3Y7pi6sp",
    "outputId": "6df54803-7f4e-43a1-d9a8-52a930a2eed1",
    "ExecuteTime": {
     "end_time": "2025-03-24T20:00:18.408160Z",
     "start_time": "2025-03-24T20:00:18.402526Z"
    }
   },
   "outputs": [
    {
     "data": {
      "text/plain": "'2.19.0'"
     },
     "execution_count": 11,
     "metadata": {},
     "output_type": "execute_result"
    }
   ],
   "source": [
    "import tensorflow as tf\n",
    "tf. __version__"
   ]
  },
  {
   "cell_type": "code",
   "execution_count": 12,
   "metadata": {
    "id": "knzBAADPi6sp",
    "ExecuteTime": {
     "end_time": "2025-03-24T20:00:27.208856Z",
     "start_time": "2025-03-24T20:00:27.204394Z"
    }
   },
   "outputs": [],
   "source": [
    "# Define models:\n",
    "\n",
    "def train_model(classifier, feature_vector_train, label, feature_vector_valid, is_neural_net=False):\n",
    "    # fit the training dataset on the classifier\n",
    "    classifier.fit(feature_vector_train, label)\n",
    "\n",
    "    # predict the labels on validation dataset\n",
    "    predictions = classifier.predict(feature_vector_valid)\n",
    "\n",
    "    if is_neural_net:\n",
    "        predictions = predictions.argmax(axis=-1)\n",
    "\n",
    "    return metrics.accuracy_score(predictions, valid_y)\n",
    "\n",
    "def train_model2(classifier, feature_vector_train, label, feature_vector_valid, valid_Y, is_neural_net=False):\n",
    "    # fit the training dataset on the classifier\n",
    "    classifier.fit(feature_vector_train, label)\n",
    "\n",
    "    # predict the labels on validation dataset\n",
    "    predictions = classifier.predict(feature_vector_valid)\n",
    "\n",
    "    if is_neural_net:\n",
    "        predictions = predictions.argmax(axis=-1)\n",
    "\n",
    "    return metrics.accuracy_score(predictions, valid_Y)"
   ]
  },
  {
   "cell_type": "code",
   "execution_count": 13,
   "metadata": {
    "id": "yAfQ7puBi6sq",
    "ExecuteTime": {
     "end_time": "2025-03-24T20:00:30.112297Z",
     "start_time": "2025-03-24T20:00:29.945603Z"
    }
   },
   "outputs": [],
   "source": [
    "from sklearn.decomposition import PCA\n",
    "from sklearn.decomposition import TruncatedSVD\n",
    "import numpy as np\n",
    "from scipy.sparse import csr_matrix\n",
    "\n",
    "from sklearn.manifold import TSNE\n",
    "from sklearn.cluster import KMeans\n",
    "import time\n",
    "import warnings\n",
    "\n",
    "import matplotlib.pyplot as plt\n",
    "\n",
    "from sklearn import cluster, datasets, mixture\n",
    "from sklearn.neighbors import kneighbors_graph\n",
    "from sklearn.preprocessing import StandardScaler\n",
    "from itertools import cycle, islice\n",
    "\n",
    "import scipy"
   ]
  },
  {
   "cell_type": "code",
   "execution_count": 14,
   "metadata": {
    "id": "GwncsoKci6sr",
    "ExecuteTime": {
     "end_time": "2025-03-24T20:00:33.080516Z",
     "start_time": "2025-03-24T20:00:33.077637Z"
    }
   },
   "outputs": [],
   "source": [
    "y_ = np.ones(len(ab))"
   ]
  },
  {
   "cell_type": "code",
   "execution_count": 15,
   "metadata": {
    "id": "BaSBlmubi6sr",
    "outputId": "462283e9-8d9b-4dbf-e223-102fa6f22433",
    "ExecuteTime": {
     "end_time": "2025-03-24T20:00:37.170803Z",
     "start_time": "2025-03-24T20:00:37.144329Z"
    }
   },
   "outputs": [
    {
     "data": {
      "text/plain": "0.020007848739624023"
     },
     "execution_count": 15,
     "metadata": {},
     "output_type": "execute_result"
    }
   ],
   "source": [
    "start_time = time.time()\n",
    "#a = np.reshape(np.array(tempvar),(297*20,60))\n",
    "\n",
    "#base parameters\n",
    "default_base = {'quantile': .3,\n",
    "                'eps': .3,\n",
    "                'damping': .9,\n",
    "                'preference': -200,\n",
    "                'n_neighbors': 10, #maybe more\n",
    "                'n_clusters': 4, #3 is actual number\n",
    "                'min_samples': 20,\n",
    "                'xi': 0.05,\n",
    "                'min_cluster_size': 0.1}\n",
    "\n",
    "params = default_base.copy()\n",
    "\n",
    "pca = TruncatedSVD(n_components=10)\n",
    "pca.fit(ab)\n",
    "#csr_matrix(\n",
    "transformed_ = pca.transform(ab)\n",
    "end_time = time.time()\n",
    "end_time-start_time"
   ]
  },
  {
   "cell_type": "code",
   "execution_count": 16,
   "metadata": {
    "id": "GvJ3CMz1i6ss",
    "ExecuteTime": {
     "end_time": "2025-03-24T20:00:41.046326Z",
     "start_time": "2025-03-24T20:00:41.043309Z"
    }
   },
   "outputs": [],
   "source": [
    "#X_embedded2 = X_embedded"
   ]
  },
  {
   "cell_type": "code",
   "execution_count": 17,
   "metadata": {
    "id": "ti2G5fm3i6ss",
    "ExecuteTime": {
     "end_time": "2025-03-24T20:00:41.518218Z",
     "start_time": "2025-03-24T20:00:41.515774Z"
    }
   },
   "outputs": [],
   "source": [
    "#X_embedded = transformed_"
   ]
  },
  {
   "cell_type": "code",
   "execution_count": 18,
   "metadata": {
    "id": "rPIffDu_i6ss",
    "outputId": "4a19a5eb-49c5-4a62-94a8-794bbb1f2d90",
    "ExecuteTime": {
     "end_time": "2025-03-24T20:00:43.199031Z",
     "start_time": "2025-03-24T20:00:43.194769Z"
    }
   },
   "outputs": [
    {
     "data": {
      "text/plain": "3.0994415283203125e-05"
     },
     "execution_count": 18,
     "metadata": {},
     "output_type": "execute_result"
    }
   ],
   "source": [
    "start_time = time.time()\n",
    "#X_embedded = TSNE(n_components=2).fit_transform(transformed_)\n",
    "X_embedded = transformed_\n",
    "end_time = time.time()\n",
    "end_time-start_time"
   ]
  },
  {
   "cell_type": "code",
   "execution_count": 19,
   "metadata": {
    "id": "lXmggtVdi6st",
    "ExecuteTime": {
     "end_time": "2025-03-24T20:00:55.603786Z",
     "start_time": "2025-03-24T20:00:55.600513Z"
    }
   },
   "outputs": [],
   "source": [
    "# ============\n",
    "# Create cluster objects\n",
    "# ============\n",
    "\n",
    "\n",
    "\n",
    "two_means = cluster.MiniBatchKMeans(n_clusters=params['n_clusters'])\n",
    "\n",
    "clustering_algorithms = (\n",
    "        ('MBatchKMeans', two_means),\n",
    ")\n",
    "\n",
    "plot_num = 1"
   ]
  },
  {
   "cell_type": "code",
   "execution_count": 20,
   "metadata": {
    "scrolled": true,
    "id": "i0CkOfswi6st",
    "outputId": "2ffb337e-70e2-4837-a493-8f2a10ff8ba2",
    "ExecuteTime": {
     "end_time": "2025-03-24T20:01:04.596153Z",
     "start_time": "2025-03-24T20:01:04.076189Z"
    }
   },
   "outputs": [
    {
     "data": {
      "text/plain": "0.09894013404846191"
     },
     "execution_count": 20,
     "metadata": {},
     "output_type": "execute_result"
    },
    {
     "data": {
      "text/plain": "<Figure size 640x480 with 1 Axes>",
      "image/png": "[encoded data removed]"
     },
     "metadata": {},
     "output_type": "display_data"
    }
   ],
   "source": [
    "for name, algorithm in clustering_algorithms:\n",
    "\n",
    "        t0 = time.time()\n",
    "\n",
    "        # catch warnings related to kneighbors_graph\n",
    "        with warnings.catch_warnings():\n",
    "            warnings.filterwarnings(\n",
    "                \"ignore\",\n",
    "                message=\"the number of connected components of the \" +\n",
    "                \"connectivity matrix is [0-9]{1,2}\" +\n",
    "                \" > 1. Completing it to avoid stopping the tree early.\",\n",
    "                category=UserWarning)\n",
    "            warnings.filterwarnings(\n",
    "                \"ignore\",\n",
    "                message=\"Graph is not fully connected, spectral embedding\" +\n",
    "                \" may not work as expected.\",\n",
    "                category=UserWarning)\n",
    "            algorithm.fit(X_embedded)\n",
    "\n",
    "\n",
    "\n",
    "        t1 = time.time()\n",
    "\n",
    "        if hasattr(algorithm, 'labels_'):\n",
    "            y_pred = algorithm.labels_.astype(int)\n",
    "        else:\n",
    "            y_pred = algorithm.predict(X_embedded)\n",
    "\n",
    "        plt.subplot(1, len(clustering_algorithms), plot_num)\n",
    "\n",
    "        colors = np.array(list(islice(cycle(['#377eb8', '#ff7f00', '#4daf4a',\n",
    "                                             '#f781bf', '#a65628', '#984ea3',\n",
    "                                             '#999999', '#e41a1c', '#dede00']),\n",
    "                                      int(max(y_pred) + 1))))\n",
    "        # add black color for outliers (if any)\n",
    "        colors = np.append(colors, [\"#000000\"])\n",
    "\n",
    "\n",
    "        plt.scatter(X_embedded[:, 0], X_embedded[:, 1], s=2, color=colors[y_pred])\n",
    "\n",
    "        plt.xlim(-2.5, 2.5)\n",
    "        plt.ylim(-2.5, 2.5)\n",
    "        plt.xticks(())\n",
    "        plt.yticks(())\n",
    "\n",
    "        plot_num += 1\n",
    "\n",
    "        # stop, plot only one image\n",
    "        break\n",
    "\n",
    "#plt.show()\n",
    "t1-t0"
   ]
  },
  {
   "cell_type": "code",
   "execution_count": 21,
   "metadata": {
    "id": "I7Owfj0Qi6st",
    "outputId": "dad0c58e-0c4e-4a5d-82e8-07558917d572",
    "ExecuteTime": {
     "end_time": "2025-03-24T20:01:09.490693Z",
     "start_time": "2025-03-24T20:01:09.411627Z"
    }
   },
   "outputs": [
    {
     "data": {
      "text/plain": "<Figure size 600x600 with 2 Axes>",
      "image/png": "[encoded data removed]"
     },
     "metadata": {},
     "output_type": "display_data"
    }
   ],
   "source": [
    "colors = np.array(list(islice(cycle(['#377eb8', '#ff7f00', '#4daf4a',\n",
    "                                             '#f781bf', '#a65628', '#984ea3',\n",
    "                                             '#999999', '#e41a1c', '#dede00']), int(max(y_pred) + 1))))\n",
    "\n",
    "plt.figure(figsize=(6, 6))\n",
    "plt.scatter(X_embedded[:, 0], X_embedded[:, 1], s=2, c=colors[y_pred])\n",
    "plt.colorbar()\n",
    "plt.show()"
   ]
  },
  {
   "cell_type": "code",
   "execution_count": 22,
   "metadata": {
    "id": "SnBb2R2mi6su",
    "outputId": "629e3b95-1da5-41e9-ddd1-f46f17effecb",
    "ExecuteTime": {
     "end_time": "2025-03-24T20:01:15.431364Z",
     "start_time": "2025-03-24T20:01:15.427712Z"
    }
   },
   "outputs": [
    {
     "data": {
      "text/plain": "(297,)"
     },
     "execution_count": 22,
     "metadata": {},
     "output_type": "execute_result"
    }
   ],
   "source": [
    "y_pred.shape"
   ]
  },
  {
   "cell_type": "code",
   "execution_count": 23,
   "metadata": {
    "id": "xa46Vk3Ui6su",
    "ExecuteTime": {
     "end_time": "2025-03-24T20:01:20.185470Z",
     "start_time": "2025-03-24T20:01:20.172321Z"
    }
   },
   "outputs": [],
   "source": [
    "#optional classifiers to choose\n",
    "from sklearn.naive_bayes import MultinomialNB\n",
    "from sklearn.linear_model import LogisticRegression\n",
    "from sklearn.ensemble import RandomForestClassifier\n",
    "from sklearn.svm import LinearSVC\n",
    "from sklearn.neural_network import MLPClassifier\n",
    "from sklearn.neighbors import KNeighborsClassifier\n",
    "from sklearn.svm import SVC\n",
    "from sklearn.gaussian_process import GaussianProcessClassifier\n",
    "from sklearn.gaussian_process.kernels import RBF\n",
    "from sklearn.tree import DecisionTreeClassifier\n",
    "from sklearn.ensemble import RandomForestClassifier, AdaBoostClassifier\n",
    "from sklearn.naive_bayes import GaussianNB\n",
    "from sklearn.discriminant_analysis import QuadraticDiscriminantAnalysis\n",
    "from sklearn.model_selection import cross_val_score\n",
    "import matplotlib.pyplot as plt\n",
    "#import seaborn as sns"
   ]
  },
  {
   "cell_type": "code",
   "execution_count": 24,
   "metadata": {
    "id": "VgQKR2tPi6su",
    "ExecuteTime": {
     "end_time": "2025-03-24T20:01:23.193592Z",
     "start_time": "2025-03-24T20:01:23.191423Z"
    }
   },
   "outputs": [],
   "source": [
    "# ab (297x1200)!"
   ]
  },
  {
   "cell_type": "code",
   "execution_count": 25,
   "metadata": {
    "id": "lI2HsX6ri6su",
    "outputId": "fe9a4105-d34a-4477-adaf-467738fa4563",
    "ExecuteTime": {
     "end_time": "2025-03-24T20:01:26.044780Z",
     "start_time": "2025-03-24T20:01:26.039792Z"
    }
   },
   "outputs": [
    {
     "data": {
      "text/plain": "0.0009453296661376953"
     },
     "execution_count": 25,
     "metadata": {},
     "output_type": "execute_result"
    }
   ],
   "source": [
    "start_time = time.time()\n",
    "train_x, valid_x, train_y, valid_y = model_selection.train_test_split(X_embedded, y_pred)\n",
    "end_time = time.time()\n",
    "end_time-start_time"
   ]
  },
  {
   "cell_type": "code",
   "execution_count": 26,
   "metadata": {
    "id": "-VE5h4XSi6sv",
    "ExecuteTime": {
     "end_time": "2025-03-24T20:01:31.283387Z",
     "start_time": "2025-03-24T20:01:31.279889Z"
    }
   },
   "outputs": [],
   "source": [
    "import numpy as np\n",
    "#import pandas as pd\n",
    "import os\n",
    "\n",
    "import tensorflow as tf\n",
    "#import tensorflow_addons as tfa #none\n",
    "from tensorflow.keras import layers\n",
    "\n",
    "import matplotlib.pyplot as plt\n",
    "from IPython import display\n",
    "from IPython.display import clear_output\n",
    "\n",
    "import glob\n",
    "#import imageio\n",
    "import time\n",
    "import IPython.display as ipd\n",
    "\n",
    "#AUTOTUNE = tf.data.experimental.AUTOTUNE"
   ]
  },
  {
   "cell_type": "code",
   "execution_count": 27,
   "metadata": {
    "id": "XalkKf_6i6sv",
    "ExecuteTime": {
     "end_time": "2025-03-24T20:01:34.466073Z",
     "start_time": "2025-03-24T20:01:34.462516Z"
    }
   },
   "outputs": [],
   "source": [
    "# Shallow Neural Networks\n",
    "# model nx100xn\n",
    "\n",
    "import numpy as np\n",
    "import scipy.sparse\n",
    "import tensorflow as tf\n",
    "\n",
    "import tensorflow.keras\n",
    "from tensorflow.keras import layers\n",
    "from tensorflow.keras import regularizers"
   ]
  },
  {
   "cell_type": "code",
   "execution_count": 28,
   "metadata": {
    "id": "9nCoLZd7i6sv",
    "ExecuteTime": {
     "end_time": "2025-03-24T20:01:52.701140Z",
     "start_time": "2025-03-24T20:01:52.698811Z"
    }
   },
   "outputs": [],
   "source": [
    "import tensorflow.keras as keras\n",
    "from tensorflow.keras import backend as K"
   ]
  },
  {
   "cell_type": "code",
   "execution_count": 29,
   "metadata": {
    "id": "M9H0QwSvi6sv",
    "ExecuteTime": {
     "end_time": "2025-03-24T20:01:53.474124Z",
     "start_time": "2025-03-24T20:01:53.468897Z"
    }
   },
   "outputs": [],
   "source": [
    "from tensorflow.keras.layers import Input, Dense, Flatten, Reshape\n",
    "from tensorflow.keras.models import Model"
   ]
  },
  {
   "cell_type": "code",
   "execution_count": 30,
   "metadata": {
    "id": "wsHtvAYji6sv",
    "ExecuteTime": {
     "end_time": "2025-03-24T20:01:55.869877Z",
     "start_time": "2025-03-24T20:01:55.864206Z"
    }
   },
   "outputs": [],
   "source": [
    "def create_dense_ae():\n",
    "    # Розмірність кодованого простору\n",
    "    hidden_dim = 60\n",
    "    encoding_dim = 2\n",
    "\n",
    "    # Кодувальник\n",
    "    input = Input(shape=(10*1, )) # 10*1,  - розмірність вхідного шару\n",
    "    # Додатковий шар для кодування вхідного представлення\n",
    "    flat = Flatten()(input)\n",
    "\n",
    "    hidden = Dense(hidden_dim, activation='relu')(flat)\n",
    "    hidden2 = Dense(hidden_dim, activation='relu')(hidden)\n",
    "    # Приховане подання кодувальника\n",
    "    encoded = Dense(encoding_dim, activation='relu')(hidden2)\n",
    "\n",
    "    # Декодувальник\n",
    "    # Аналогічним чином, але послідовність шарів протилежна кодувальнику\n",
    "    input_encoded = Input(shape=(encoding_dim,))\n",
    "    hidden_encoded = Dense(hidden_dim, activation='sigmoid')(input_encoded)\n",
    "    hidden_encoded2 = Dense(hidden_dim, activation='sigmoid')(hidden_encoded)\n",
    "\n",
    "    flat_decoded = Dense(10*1, activation='sigmoid')(hidden_encoded2)\n",
    "    decoded = Reshape((10*1, ))(flat_decoded)\n",
    "\n",
    "    # Таким чином можна подати окремо модель як для кодувальника так і декодувальника\n",
    "    # Або подавати шари окермо\n",
    "    encoder = Model(input, encoded, name=\"encoder\")\n",
    "    decoder = Model(input_encoded, decoded, name=\"decoder\")\n",
    "    autoencoder = Model(input, decoder(encoder(input)), name=\"autoencoder\")\n",
    "    return encoder, decoder, autoencoder"
   ]
  },
  {
   "cell_type": "code",
   "execution_count": 31,
   "metadata": {
    "id": "HPKG2myHi6sw",
    "ExecuteTime": {
     "end_time": "2025-03-24T20:01:59.955635Z",
     "start_time": "2025-03-24T20:01:59.953546Z"
    }
   },
   "outputs": [],
   "source": [
    "# перелік наявних пристроїв (у випадку TF-DML)"
   ]
  },
  {
   "cell_type": "code",
   "execution_count": 32,
   "metadata": {
    "id": "saf7akn4i6sw",
    "outputId": "320c7392-f94f-4ea6-b1a6-ac7aa107fe8b",
    "ExecuteTime": {
     "end_time": "2025-03-24T20:02:01.272727Z",
     "start_time": "2025-03-24T20:02:01.266541Z"
    }
   },
   "outputs": [
    {
     "data": {
      "text/plain": "[PhysicalDevice(name='/physical_device:CPU:0', device_type='CPU')]"
     },
     "execution_count": 32,
     "metadata": {},
     "output_type": "execute_result"
    }
   ],
   "source": [
    "tf.config.list_physical_devices()"
   ]
  },
  {
   "cell_type": "code",
   "execution_count": 35,
   "metadata": {
    "id": "hkWK0oU2i6sw",
    "ExecuteTime": {
     "end_time": "2025-03-24T20:02:52.015141Z",
     "start_time": "2025-03-24T20:02:51.981152Z"
    }
   },
   "outputs": [],
   "source": [
    "with tf.device(\"/device:CPU:0\"): # /device:DML:0 для версії 1.15\n",
    "    encoder, decoder, autoencoder = create_dense_ae()\n",
    "    autoencoder.compile(optimizer='adam', loss='binary_crossentropy', metrics=[\"accuracy\"])"
   ]
  },
  {
   "cell_type": "code",
   "execution_count": 36,
   "metadata": {
    "id": "UAcbw9_gi6sx",
    "ExecuteTime": {
     "end_time": "2025-03-24T20:02:55.189742Z",
     "start_time": "2025-03-24T20:02:55.187043Z"
    }
   },
   "outputs": [],
   "source": [
    "# якщо все гаразд, у консолі Conda має бути подібний текст:\n",
    "# tensorflow/c/logging.cc:34] DirectML: creating device on adapter 0 (___ім'я вашої відеокарти___)\n",
    "# tensorflow/c/logging.cc:34] Successfully opened dynamic library Kernel32.dll\n",
    "# tensorflow/core/common_runtime/pluggable_device/pluggable_device_factory.cc:272]\n",
    "# Created TensorFlow device (/job:localhost/replica:0/task:0/device:GPU:0 with XXXX MB memory) -> physical PluggableDevice (device: 0, name: DML, pci bus id: <undefined>)\n",
    "\n",
    "# зазвичай обсяг пам'яті може бути вищим через віртуальну пам'ять системи, наприклад 8192 замість 4096 МB, якщо відеокарта на 4096 MB"
   ]
  },
  {
   "cell_type": "code",
   "execution_count": 37,
   "metadata": {
    "id": "gJN7vhp2i6sx",
    "ExecuteTime": {
     "end_time": "2025-03-24T20:02:58.063321Z",
     "start_time": "2025-03-24T20:02:58.060705Z"
    }
   },
   "outputs": [],
   "source": [
    "# якщо немає відеокарти як такої (наприклад, якщо є процесор з ARM архітектурою без виділеного відеоядра), можливо написати і так:"
   ]
  },
  {
   "cell_type": "code",
   "execution_count": 38,
   "metadata": {
    "id": "E6tOBZiBi6sx",
    "ExecuteTime": {
     "end_time": "2025-03-24T20:02:59.108793Z",
     "start_time": "2025-03-24T20:02:59.106762Z"
    }
   },
   "outputs": [],
   "source": [
    "#with tf.device(\"/device:CPU:0\"):\n",
    "#    encoder, decoder, autoencoder = create_dense_ae()\n",
    "#    autoencoder.compile(optimizer='adam', loss='binary_crossentropy', metrics=[\"accuracy\"])"
   ]
  },
  {
   "cell_type": "code",
   "execution_count": 39,
   "metadata": {
    "id": "dG2g1TKoi6sx",
    "outputId": "a79e9e94-42d6-4863-e6c8-09639412fb68",
    "ExecuteTime": {
     "end_time": "2025-03-24T20:03:05.041797Z",
     "start_time": "2025-03-24T20:03:05.029529Z"
    }
   },
   "outputs": [
    {
     "data": {
      "text/plain": "\u001B[1mModel: \"autoencoder\"\u001B[0m\n",
      "text/html": "<pre style=\"white-space:pre;overflow-x:auto;line-height:normal;font-family:Menlo,'DejaVu Sans Mono',consolas,'Courier New',monospace\"><span style=\"font-weight: bold\">Model: \"autoencoder\"</span>\n</pre>\n"
     },
     "metadata": {},
     "output_type": "display_data"
    },
    {
     "data": {
      "text/plain": "┏━━━━━━━━━━━━━━━━━━━━━━━━━━━━━━━━━┳━━━━━━━━━━━━━━━━━━━━━━━━┳━━━━━━━━━━━━━━━┓\n┃\u001B[1m \u001B[0m\u001B[1mLayer (type)                   \u001B[0m\u001B[1m \u001B[0m┃\u001B[1m \u001B[0m\u001B[1mOutput Shape          \u001B[0m\u001B[1m \u001B[0m┃\u001B[1m \u001B[0m\u001B[1m      Param #\u001B[0m\u001B[1m \u001B[0m┃\n┡━━━━━━━━━━━━━━━━━━━━━━━━━━━━━━━━━╇━━━━━━━━━━━━━━━━━━━━━━━━╇━━━━━━━━━━━━━━━┩\n│ input_layer_2 (\u001B[38;5;33mInputLayer\u001B[0m)      │ (\u001B[38;5;45mNone\u001B[0m, \u001B[38;5;34m10\u001B[0m)             │             \u001B[38;5;34m0\u001B[0m │\n├─────────────────────────────────┼────────────────────────┼───────────────┤\n│ encoder (\u001B[38;5;33mFunctional\u001B[0m)            │ (\u001B[38;5;45mNone\u001B[0m, \u001B[38;5;34m2\u001B[0m)              │         \u001B[38;5;34m4,442\u001B[0m │\n├─────────────────────────────────┼────────────────────────┼───────────────┤\n│ decoder (\u001B[38;5;33mFunctional\u001B[0m)            │ (\u001B[38;5;45mNone\u001B[0m, \u001B[38;5;34m10\u001B[0m)             │         \u001B[38;5;34m4,450\u001B[0m │\n└─────────────────────────────────┴────────────────────────┴───────────────┘\n",
      "text/html": "<pre style=\"white-space:pre;overflow-x:auto;line-height:normal;font-family:Menlo,'DejaVu Sans Mono',consolas,'Courier New',monospace\">┏━━━━━━━━━━━━━━━━━━━━━━━━━━━━━━━━━┳━━━━━━━━━━━━━━━━━━━━━━━━┳━━━━━━━━━━━━━━━┓\n┃<span style=\"font-weight: bold\"> Layer (type)                    </span>┃<span style=\"font-weight: bold\"> Output Shape           </span>┃<span style=\"font-weight: bold\">       Param # </span>┃\n┡━━━━━━━━━━━━━━━━━━━━━━━━━━━━━━━━━╇━━━━━━━━━━━━━━━━━━━━━━━━╇━━━━━━━━━━━━━━━┩\n│ input_layer_2 (<span style=\"color: #0087ff; text-decoration-color: #0087ff\">InputLayer</span>)      │ (<span style=\"color: #00d7ff; text-decoration-color: #00d7ff\">None</span>, <span style=\"color: #00af00; text-decoration-color: #00af00\">10</span>)             │             <span style=\"color: #00af00; text-decoration-color: #00af00\">0</span> │\n├─────────────────────────────────┼────────────────────────┼───────────────┤\n│ encoder (<span style=\"color: #0087ff; text-decoration-color: #0087ff\">Functional</span>)            │ (<span style=\"color: #00d7ff; text-decoration-color: #00d7ff\">None</span>, <span style=\"color: #00af00; text-decoration-color: #00af00\">2</span>)              │         <span style=\"color: #00af00; text-decoration-color: #00af00\">4,442</span> │\n├─────────────────────────────────┼────────────────────────┼───────────────┤\n│ decoder (<span style=\"color: #0087ff; text-decoration-color: #0087ff\">Functional</span>)            │ (<span style=\"color: #00d7ff; text-decoration-color: #00d7ff\">None</span>, <span style=\"color: #00af00; text-decoration-color: #00af00\">10</span>)             │         <span style=\"color: #00af00; text-decoration-color: #00af00\">4,450</span> │\n└─────────────────────────────────┴────────────────────────┴───────────────┘\n</pre>\n"
     },
     "metadata": {},
     "output_type": "display_data"
    },
    {
     "data": {
      "text/plain": "\u001B[1m Total params: \u001B[0m\u001B[38;5;34m8,892\u001B[0m (34.73 KB)\n",
      "text/html": "<pre style=\"white-space:pre;overflow-x:auto;line-height:normal;font-family:Menlo,'DejaVu Sans Mono',consolas,'Courier New',monospace\"><span style=\"font-weight: bold\"> Total params: </span><span style=\"color: #00af00; text-decoration-color: #00af00\">8,892</span> (34.73 KB)\n</pre>\n"
     },
     "metadata": {},
     "output_type": "display_data"
    },
    {
     "data": {
      "text/plain": "\u001B[1m Trainable params: \u001B[0m\u001B[38;5;34m8,892\u001B[0m (34.73 KB)\n",
      "text/html": "<pre style=\"white-space:pre;overflow-x:auto;line-height:normal;font-family:Menlo,'DejaVu Sans Mono',consolas,'Courier New',monospace\"><span style=\"font-weight: bold\"> Trainable params: </span><span style=\"color: #00af00; text-decoration-color: #00af00\">8,892</span> (34.73 KB)\n</pre>\n"
     },
     "metadata": {},
     "output_type": "display_data"
    },
    {
     "data": {
      "text/plain": "\u001B[1m Non-trainable params: \u001B[0m\u001B[38;5;34m0\u001B[0m (0.00 B)\n",
      "text/html": "<pre style=\"white-space:pre;overflow-x:auto;line-height:normal;font-family:Menlo,'DejaVu Sans Mono',consolas,'Courier New',monospace\"><span style=\"font-weight: bold\"> Non-trainable params: </span><span style=\"color: #00af00; text-decoration-color: #00af00\">0</span> (0.00 B)\n</pre>\n"
     },
     "metadata": {},
     "output_type": "display_data"
    }
   ],
   "source": [
    "autoencoder.summary()"
   ]
  },
  {
   "cell_type": "code",
   "execution_count": 40,
   "metadata": {
    "id": "QrCIdlz2i6sy",
    "outputId": "4908162e-43fa-4c85-ae2f-6bacf507d016",
    "ExecuteTime": {
     "end_time": "2025-03-24T20:03:39.651671Z",
     "start_time": "2025-03-24T20:03:18.498533Z"
    }
   },
   "outputs": [
    {
     "name": "stdout",
     "output_type": "stream",
     "text": [
      "Epoch 1/500\n",
      "\u001B[1m5/5\u001B[0m \u001B[32m━━━━━━━━━━━━━━━━━━━━\u001B[0m\u001B[37m\u001B[0m \u001B[1m1s\u001B[0m 26ms/step - accuracy: 0.4568 - loss: 0.6809 - val_accuracy: 0.5067 - val_loss: 0.3259\n",
      "Epoch 2/500\n",
      "\u001B[1m5/5\u001B[0m \u001B[32m━━━━━━━━━━━━━━━━━━━━\u001B[0m\u001B[37m\u001B[0m \u001B[1m0s\u001B[0m 7ms/step - accuracy: 0.5027 - loss: 0.3429 - val_accuracy: 0.5067 - val_loss: 0.1055\n",
      "Epoch 3/500\n",
      "\u001B[1m5/5\u001B[0m \u001B[32m━━━━━━━━━━━━━━━━━━━━\u001B[0m\u001B[37m\u001B[0m \u001B[1m0s\u001B[0m 7ms/step - accuracy: 0.4721 - loss: 0.1969 - val_accuracy: 0.5067 - val_loss: -0.1017\n",
      "Epoch 4/500\n",
      "\u001B[1m5/5\u001B[0m \u001B[32m━━━━━━━━━━━━━━━━━━━━\u001B[0m\u001B[37m\u001B[0m \u001B[1m0s\u001B[0m 8ms/step - accuracy: 0.4743 - loss: -0.0309 - val_accuracy: 0.5067 - val_loss: -0.2999\n",
      "Epoch 5/500\n",
      "\u001B[1m5/5\u001B[0m \u001B[32m━━━━━━━━━━━━━━━━━━━━\u001B[0m\u001B[37m\u001B[0m \u001B[1m0s\u001B[0m 8ms/step - accuracy: 0.4363 - loss: -0.0711 - val_accuracy: 0.5067 - val_loss: -0.4892\n",
      "Epoch 6/500\n",
      "\u001B[1m5/5\u001B[0m \u001B[32m━━━━━━━━━━━━━━━━━━━━\u001B[0m\u001B[37m\u001B[0m \u001B[1m0s\u001B[0m 7ms/step - accuracy: 0.4632 - loss: -0.3729 - val_accuracy: 0.5067 - val_loss: -0.6768\n",
      "Epoch 7/500\n",
      "\u001B[1m5/5\u001B[0m \u001B[32m━━━━━━━━━━━━━━━━━━━━\u001B[0m\u001B[37m\u001B[0m \u001B[1m0s\u001B[0m 8ms/step - accuracy: 0.5032 - loss: -0.6371 - val_accuracy: 0.5067 - val_loss: -0.8618\n",
      "Epoch 8/500\n",
      "\u001B[1m5/5\u001B[0m \u001B[32m━━━━━━━━━━━━━━━━━━━━\u001B[0m\u001B[37m\u001B[0m \u001B[1m0s\u001B[0m 8ms/step - accuracy: 0.4649 - loss: -0.7665 - val_accuracy: 0.5067 - val_loss: -1.0443\n",
      "Epoch 9/500\n",
      "\u001B[1m5/5\u001B[0m \u001B[32m━━━━━━━━━━━━━━━━━━━━\u001B[0m\u001B[37m\u001B[0m \u001B[1m0s\u001B[0m 7ms/step - accuracy: 0.4538 - loss: -0.9166 - val_accuracy: 0.5067 - val_loss: -1.2263\n",
      "Epoch 10/500\n",
      "\u001B[1m5/5\u001B[0m \u001B[32m━━━━━━━━━━━━━━━━━━━━\u001B[0m\u001B[37m\u001B[0m \u001B[1m0s\u001B[0m 9ms/step - accuracy: 0.4746 - loss: -1.0976 - val_accuracy: 0.5067 - val_loss: -1.4099\n",
      "Epoch 11/500\n",
      "\u001B[1m5/5\u001B[0m \u001B[32m━━━━━━━━━━━━━━━━━━━━\u001B[0m\u001B[37m\u001B[0m \u001B[1m0s\u001B[0m 8ms/step - accuracy: 0.4624 - loss: -1.1820 - val_accuracy: 0.5067 - val_loss: -1.5928\n",
      "Epoch 12/500\n",
      "\u001B[1m5/5\u001B[0m \u001B[32m━━━━━━━━━━━━━━━━━━━━\u001B[0m\u001B[37m\u001B[0m \u001B[1m0s\u001B[0m 8ms/step - accuracy: 0.4782 - loss: -1.4186 - val_accuracy: 0.5067 - val_loss: -1.7775\n",
      "Epoch 13/500\n",
      "\u001B[1m5/5\u001B[0m \u001B[32m━━━━━━━━━━━━━━━━━━━━\u001B[0m\u001B[37m\u001B[0m \u001B[1m0s\u001B[0m 8ms/step - accuracy: 0.4549 - loss: -1.5217 - val_accuracy: 0.5067 - val_loss: -1.9628\n",
      "Epoch 14/500\n",
      "\u001B[1m5/5\u001B[0m \u001B[32m━━━━━━━━━━━━━━━━━━━━\u001B[0m\u001B[37m\u001B[0m \u001B[1m0s\u001B[0m 8ms/step - accuracy: 0.4624 - loss: -1.7575 - val_accuracy: 0.5067 - val_loss: -2.1498\n",
      "Epoch 15/500\n",
      "\u001B[1m5/5\u001B[0m \u001B[32m━━━━━━━━━━━━━━━━━━━━\u001B[0m\u001B[37m\u001B[0m \u001B[1m0s\u001B[0m 8ms/step - accuracy: 0.4985 - loss: -2.1566 - val_accuracy: 0.5067 - val_loss: -2.3378\n",
      "Epoch 16/500\n",
      "\u001B[1m5/5\u001B[0m \u001B[32m━━━━━━━━━━━━━━━━━━━━\u001B[0m\u001B[37m\u001B[0m \u001B[1m0s\u001B[0m 8ms/step - accuracy: 0.4590 - loss: -2.1334 - val_accuracy: 0.5067 - val_loss: -2.5231\n",
      "Epoch 17/500\n",
      "\u001B[1m5/5\u001B[0m \u001B[32m━━━━━━━━━━━━━━━━━━━━\u001B[0m\u001B[37m\u001B[0m \u001B[1m0s\u001B[0m 8ms/step - accuracy: 0.4672 - loss: -2.3822 - val_accuracy: 0.6533 - val_loss: -2.7114\n",
      "Epoch 18/500\n",
      "\u001B[1m5/5\u001B[0m \u001B[32m━━━━━━━━━━━━━━━━━━━━\u001B[0m\u001B[37m\u001B[0m \u001B[1m0s\u001B[0m 8ms/step - accuracy: 0.6861 - loss: -2.5984 - val_accuracy: 0.6667 - val_loss: -2.9127\n",
      "Epoch 19/500\n",
      "\u001B[1m5/5\u001B[0m \u001B[32m━━━━━━━━━━━━━━━━━━━━\u001B[0m\u001B[37m\u001B[0m \u001B[1m0s\u001B[0m 13ms/step - accuracy: 0.6576 - loss: -2.6867 - val_accuracy: 0.6667 - val_loss: -3.1374\n",
      "Epoch 20/500\n",
      "\u001B[1m5/5\u001B[0m \u001B[32m━━━━━━━━━━━━━━━━━━━━\u001B[0m\u001B[37m\u001B[0m \u001B[1m0s\u001B[0m 8ms/step - accuracy: 0.6468 - loss: -2.8826 - val_accuracy: 0.6667 - val_loss: -3.3878\n",
      "Epoch 21/500\n",
      "\u001B[1m5/5\u001B[0m \u001B[32m━━━━━━━━━━━━━━━━━━━━\u001B[0m\u001B[37m\u001B[0m \u001B[1m0s\u001B[0m 12ms/step - accuracy: 0.7062 - loss: -3.3414 - val_accuracy: 0.6667 - val_loss: -3.6611\n",
      "Epoch 22/500\n",
      "\u001B[1m5/5\u001B[0m \u001B[32m━━━━━━━━━━━━━━━━━━━━\u001B[0m\u001B[37m\u001B[0m \u001B[1m0s\u001B[0m 8ms/step - accuracy: 0.6693 - loss: -3.8481 - val_accuracy: 0.6667 - val_loss: -3.9424\n",
      "Epoch 23/500\n",
      "\u001B[1m5/5\u001B[0m \u001B[32m━━━━━━━━━━━━━━━━━━━━\u001B[0m\u001B[37m\u001B[0m \u001B[1m0s\u001B[0m 7ms/step - accuracy: 0.6579 - loss: -3.7421 - val_accuracy: 0.6667 - val_loss: -4.2179\n",
      "Epoch 24/500\n",
      "\u001B[1m5/5\u001B[0m \u001B[32m━━━━━━━━━━━━━━━━━━━━\u001B[0m\u001B[37m\u001B[0m \u001B[1m0s\u001B[0m 7ms/step - accuracy: 0.6765 - loss: -4.1586 - val_accuracy: 0.6667 - val_loss: -4.4951\n",
      "Epoch 25/500\n",
      "\u001B[1m5/5\u001B[0m \u001B[32m━━━━━━━━━━━━━━━━━━━━\u001B[0m\u001B[37m\u001B[0m \u001B[1m0s\u001B[0m 7ms/step - accuracy: 0.6612 - loss: -4.3714 - val_accuracy: 0.6667 - val_loss: -4.7627\n",
      "Epoch 26/500\n",
      "\u001B[1m5/5\u001B[0m \u001B[32m━━━━━━━━━━━━━━━━━━━━\u001B[0m\u001B[37m\u001B[0m \u001B[1m0s\u001B[0m 8ms/step - accuracy: 0.6579 - loss: -4.4124 - val_accuracy: 0.6667 - val_loss: -5.0222\n",
      "Epoch 27/500\n",
      "\u001B[1m5/5\u001B[0m \u001B[32m━━━━━━━━━━━━━━━━━━━━\u001B[0m\u001B[37m\u001B[0m \u001B[1m0s\u001B[0m 8ms/step - accuracy: 0.6562 - loss: -5.0745 - val_accuracy: 0.6667 - val_loss: -5.2801\n",
      "Epoch 28/500\n",
      "\u001B[1m5/5\u001B[0m \u001B[32m━━━━━━━━━━━━━━━━━━━━\u001B[0m\u001B[37m\u001B[0m \u001B[1m0s\u001B[0m 8ms/step - accuracy: 0.6865 - loss: -5.2127 - val_accuracy: 0.6667 - val_loss: -5.5277\n",
      "Epoch 29/500\n",
      "\u001B[1m5/5\u001B[0m \u001B[32m━━━━━━━━━━━━━━━━━━━━\u001B[0m\u001B[37m\u001B[0m \u001B[1m0s\u001B[0m 8ms/step - accuracy: 0.6743 - loss: -5.1743 - val_accuracy: 0.6667 - val_loss: -5.7682\n",
      "Epoch 30/500\n",
      "\u001B[1m5/5\u001B[0m \u001B[32m━━━━━━━━━━━━━━━━━━━━\u001B[0m\u001B[37m\u001B[0m \u001B[1m0s\u001B[0m 8ms/step - accuracy: 0.6687 - loss: -5.7848 - val_accuracy: 0.6667 - val_loss: -6.0052\n",
      "Epoch 31/500\n",
      "\u001B[1m5/5\u001B[0m \u001B[32m━━━━━━━━━━━━━━━━━━━━\u001B[0m\u001B[37m\u001B[0m \u001B[1m0s\u001B[0m 8ms/step - accuracy: 0.6857 - loss: -5.7519 - val_accuracy: 0.6667 - val_loss: -6.2332\n",
      "Epoch 32/500\n",
      "\u001B[1m5/5\u001B[0m \u001B[32m━━━━━━━━━━━━━━━━━━━━\u001B[0m\u001B[37m\u001B[0m \u001B[1m0s\u001B[0m 8ms/step - accuracy: 0.6662 - loss: -5.8476 - val_accuracy: 0.6667 - val_loss: -6.4605\n",
      "Epoch 33/500\n",
      "\u001B[1m5/5\u001B[0m \u001B[32m━━━━━━━━━━━━━━━━━━━━\u001B[0m\u001B[37m\u001B[0m \u001B[1m0s\u001B[0m 8ms/step - accuracy: 0.6509 - loss: -5.9157 - val_accuracy: 0.6667 - val_loss: -6.6855\n",
      "Epoch 34/500\n",
      "\u001B[1m5/5\u001B[0m \u001B[32m━━━━━━━━━━━━━━━━━━━━\u001B[0m\u001B[37m\u001B[0m \u001B[1m0s\u001B[0m 8ms/step - accuracy: 0.6673 - loss: -6.2219 - val_accuracy: 0.6667 - val_loss: -6.9107\n",
      "Epoch 35/500\n",
      "\u001B[1m5/5\u001B[0m \u001B[32m━━━━━━━━━━━━━━━━━━━━\u001B[0m\u001B[37m\u001B[0m \u001B[1m0s\u001B[0m 7ms/step - accuracy: 0.6707 - loss: -6.7950 - val_accuracy: 0.6667 - val_loss: -7.1402\n",
      "Epoch 36/500\n",
      "\u001B[1m5/5\u001B[0m \u001B[32m━━━━━━━━━━━━━━━━━━━━\u001B[0m\u001B[37m\u001B[0m \u001B[1m0s\u001B[0m 8ms/step - accuracy: 0.6534 - loss: -6.6992 - val_accuracy: 0.6667 - val_loss: -7.3594\n",
      "Epoch 37/500\n",
      "\u001B[1m5/5\u001B[0m \u001B[32m━━━━━━━━━━━━━━━━━━━━\u001B[0m\u001B[37m\u001B[0m \u001B[1m0s\u001B[0m 8ms/step - accuracy: 0.6446 - loss: -7.0748 - val_accuracy: 0.6667 - val_loss: -7.5772\n",
      "Epoch 38/500\n",
      "\u001B[1m5/5\u001B[0m \u001B[32m━━━━━━━━━━━━━━━━━━━━\u001B[0m\u001B[37m\u001B[0m \u001B[1m0s\u001B[0m 7ms/step - accuracy: 0.6418 - loss: -6.9509 - val_accuracy: 0.6667 - val_loss: -7.7984\n",
      "Epoch 39/500\n",
      "\u001B[1m5/5\u001B[0m \u001B[32m━━━━━━━━━━━━━━━━━━━━\u001B[0m\u001B[37m\u001B[0m \u001B[1m0s\u001B[0m 7ms/step - accuracy: 0.6307 - loss: -7.2033 - val_accuracy: 0.6667 - val_loss: -7.9956\n",
      "Epoch 40/500\n",
      "\u001B[1m5/5\u001B[0m \u001B[32m━━━━━━━━━━━━━━━━━━━━\u001B[0m\u001B[37m\u001B[0m \u001B[1m0s\u001B[0m 7ms/step - accuracy: 0.6673 - loss: -7.4574 - val_accuracy: 0.6667 - val_loss: -8.1770\n",
      "Epoch 41/500\n",
      "\u001B[1m5/5\u001B[0m \u001B[32m━━━━━━━━━━━━━━━━━━━━\u001B[0m\u001B[37m\u001B[0m \u001B[1m0s\u001B[0m 7ms/step - accuracy: 0.6593 - loss: -7.5545 - val_accuracy: 0.6667 - val_loss: -8.4126\n",
      "Epoch 42/500\n",
      "\u001B[1m5/5\u001B[0m \u001B[32m━━━━━━━━━━━━━━━━━━━━\u001B[0m\u001B[37m\u001B[0m \u001B[1m0s\u001B[0m 7ms/step - accuracy: 0.6590 - loss: -8.0876 - val_accuracy: 0.6667 - val_loss: -8.5903\n",
      "Epoch 43/500\n",
      "\u001B[1m5/5\u001B[0m \u001B[32m━━━━━━━━━━━━━━━━━━━━\u001B[0m\u001B[37m\u001B[0m \u001B[1m0s\u001B[0m 8ms/step - accuracy: 0.6698 - loss: -8.4356 - val_accuracy: 0.6667 - val_loss: -8.8270\n",
      "Epoch 44/500\n",
      "\u001B[1m5/5\u001B[0m \u001B[32m━━━━━━━━━━━━━━━━━━━━\u001B[0m\u001B[37m\u001B[0m \u001B[1m0s\u001B[0m 7ms/step - accuracy: 0.6651 - loss: -8.7558 - val_accuracy: 0.6667 - val_loss: -8.8825\n",
      "Epoch 45/500\n",
      "\u001B[1m5/5\u001B[0m \u001B[32m━━━━━━━━━━━━━━━━━━━━\u001B[0m\u001B[37m\u001B[0m \u001B[1m0s\u001B[0m 8ms/step - accuracy: 0.6412 - loss: -8.2346 - val_accuracy: 0.6667 - val_loss: -8.9566\n",
      "Epoch 46/500\n",
      "\u001B[1m5/5\u001B[0m \u001B[32m━━━━━━━━━━━━━━━━━━━━\u001B[0m\u001B[37m\u001B[0m \u001B[1m0s\u001B[0m 7ms/step - accuracy: 0.6596 - loss: -8.3930 - val_accuracy: 0.6667 - val_loss: -9.0396\n",
      "Epoch 47/500\n",
      "\u001B[1m5/5\u001B[0m \u001B[32m━━━━━━━━━━━━━━━━━━━━\u001B[0m\u001B[37m\u001B[0m \u001B[1m0s\u001B[0m 8ms/step - accuracy: 0.6784 - loss: -8.8493 - val_accuracy: 0.6667 - val_loss: -9.1284\n",
      "Epoch 48/500\n",
      "\u001B[1m5/5\u001B[0m \u001B[32m━━━━━━━━━━━━━━━━━━━━\u001B[0m\u001B[37m\u001B[0m \u001B[1m0s\u001B[0m 8ms/step - accuracy: 0.6807 - loss: -8.9641 - val_accuracy: 0.6667 - val_loss: -9.2174\n",
      "Epoch 49/500\n",
      "\u001B[1m5/5\u001B[0m \u001B[32m━━━━━━━━━━━━━━━━━━━━\u001B[0m\u001B[37m\u001B[0m \u001B[1m0s\u001B[0m 9ms/step - accuracy: 0.6846 - loss: -8.8042 - val_accuracy: 0.6667 - val_loss: -9.3103\n",
      "Epoch 50/500\n",
      "\u001B[1m5/5\u001B[0m \u001B[32m━━━━━━━━━━━━━━━━━━━━\u001B[0m\u001B[37m\u001B[0m \u001B[1m0s\u001B[0m 9ms/step - accuracy: 0.6796 - loss: -9.0764 - val_accuracy: 0.6667 - val_loss: -9.4009\n",
      "Epoch 51/500\n",
      "\u001B[1m5/5\u001B[0m \u001B[32m━━━━━━━━━━━━━━━━━━━━\u001B[0m\u001B[37m\u001B[0m \u001B[1m0s\u001B[0m 7ms/step - accuracy: 0.6684 - loss: -8.9253 - val_accuracy: 0.6667 - val_loss: -9.4851\n",
      "Epoch 52/500\n",
      "\u001B[1m5/5\u001B[0m \u001B[32m━━━━━━━━━━━━━━━━━━━━\u001B[0m\u001B[37m\u001B[0m \u001B[1m0s\u001B[0m 8ms/step - accuracy: 0.6496 - loss: -9.0782 - val_accuracy: 0.6667 - val_loss: -9.5610\n",
      "Epoch 53/500\n",
      "\u001B[1m5/5\u001B[0m \u001B[32m━━━━━━━━━━━━━━━━━━━━\u001B[0m\u001B[37m\u001B[0m \u001B[1m0s\u001B[0m 7ms/step - accuracy: 0.6818 - loss: -9.5508 - val_accuracy: 0.6667 - val_loss: -9.6348\n",
      "Epoch 54/500\n",
      "\u001B[1m5/5\u001B[0m \u001B[32m━━━━━━━━━━━━━━━━━━━━\u001B[0m\u001B[37m\u001B[0m \u001B[1m0s\u001B[0m 8ms/step - accuracy: 0.6557 - loss: -9.2391 - val_accuracy: 0.6667 - val_loss: -9.7107\n",
      "Epoch 55/500\n",
      "\u001B[1m5/5\u001B[0m \u001B[32m━━━━━━━━━━━━━━━━━━━━\u001B[0m\u001B[37m\u001B[0m \u001B[1m0s\u001B[0m 8ms/step - accuracy: 0.6457 - loss: -9.2442 - val_accuracy: 0.6667 - val_loss: -9.7803\n",
      "Epoch 56/500\n",
      "\u001B[1m5/5\u001B[0m \u001B[32m━━━━━━━━━━━━━━━━━━━━\u001B[0m\u001B[37m\u001B[0m \u001B[1m0s\u001B[0m 8ms/step - accuracy: 0.6546 - loss: -9.3908 - val_accuracy: 0.6667 - val_loss: -9.8487\n",
      "Epoch 57/500\n",
      "\u001B[1m5/5\u001B[0m \u001B[32m━━━━━━━━━━━━━━━━━━━━\u001B[0m\u001B[37m\u001B[0m \u001B[1m0s\u001B[0m 8ms/step - accuracy: 0.6712 - loss: -9.9235 - val_accuracy: 0.6667 - val_loss: -9.9211\n",
      "Epoch 58/500\n",
      "\u001B[1m5/5\u001B[0m \u001B[32m━━━━━━━━━━━━━━━━━━━━\u001B[0m\u001B[37m\u001B[0m \u001B[1m0s\u001B[0m 8ms/step - accuracy: 0.6821 - loss: -9.7593 - val_accuracy: 0.6667 - val_loss: -9.9934\n",
      "Epoch 59/500\n",
      "\u001B[1m5/5\u001B[0m \u001B[32m━━━━━━━━━━━━━━━━━━━━\u001B[0m\u001B[37m\u001B[0m \u001B[1m0s\u001B[0m 8ms/step - accuracy: 0.6743 - loss: -9.9911 - val_accuracy: 0.6667 - val_loss: -10.0614\n",
      "Epoch 60/500\n",
      "\u001B[1m5/5\u001B[0m \u001B[32m━━━━━━━━━━━━━━━━━━━━\u001B[0m\u001B[37m\u001B[0m \u001B[1m0s\u001B[0m 8ms/step - accuracy: 0.6537 - loss: -9.5684 - val_accuracy: 0.6667 - val_loss: -10.1326\n",
      "Epoch 61/500\n",
      "\u001B[1m5/5\u001B[0m \u001B[32m━━━━━━━━━━━━━━━━━━━━\u001B[0m\u001B[37m\u001B[0m \u001B[1m0s\u001B[0m 7ms/step - accuracy: 0.6501 - loss: -9.7740 - val_accuracy: 0.6667 - val_loss: -10.2003\n",
      "Epoch 62/500\n",
      "\u001B[1m5/5\u001B[0m \u001B[32m━━━━━━━━━━━━━━━━━━━━\u001B[0m\u001B[37m\u001B[0m \u001B[1m0s\u001B[0m 8ms/step - accuracy: 0.6796 - loss: -10.0511 - val_accuracy: 0.6667 - val_loss: -10.2712\n",
      "Epoch 63/500\n",
      "\u001B[1m5/5\u001B[0m \u001B[32m━━━━━━━━━━━━━━━━━━━━\u001B[0m\u001B[37m\u001B[0m \u001B[1m0s\u001B[0m 7ms/step - accuracy: 0.6729 - loss: -10.2825 - val_accuracy: 0.6667 - val_loss: -10.3417\n",
      "Epoch 64/500\n",
      "\u001B[1m5/5\u001B[0m \u001B[32m━━━━━━━━━━━━━━━━━━━━\u001B[0m\u001B[37m\u001B[0m \u001B[1m0s\u001B[0m 7ms/step - accuracy: 0.6671 - loss: -10.2838 - val_accuracy: 0.6667 - val_loss: -10.4118\n",
      "Epoch 65/500\n",
      "\u001B[1m5/5\u001B[0m \u001B[32m━━━━━━━━━━━━━━━━━━━━\u001B[0m\u001B[37m\u001B[0m \u001B[1m0s\u001B[0m 7ms/step - accuracy: 0.6796 - loss: -10.4283 - val_accuracy: 0.6667 - val_loss: -10.4825\n",
      "Epoch 66/500\n",
      "\u001B[1m5/5\u001B[0m \u001B[32m━━━━━━━━━━━━━━━━━━━━\u001B[0m\u001B[37m\u001B[0m \u001B[1m0s\u001B[0m 7ms/step - accuracy: 0.6926 - loss: -10.6303 - val_accuracy: 0.6667 - val_loss: -10.5529\n",
      "Epoch 67/500\n",
      "\u001B[1m5/5\u001B[0m \u001B[32m━━━━━━━━━━━━━━━━━━━━\u001B[0m\u001B[37m\u001B[0m \u001B[1m0s\u001B[0m 10ms/step - accuracy: 0.6971 - loss: -10.8029 - val_accuracy: 0.6667 - val_loss: -10.6246\n",
      "Epoch 68/500\n",
      "\u001B[1m5/5\u001B[0m \u001B[32m━━━━━━━━━━━━━━━━━━━━\u001B[0m\u001B[37m\u001B[0m \u001B[1m0s\u001B[0m 12ms/step - accuracy: 0.6629 - loss: -10.2253 - val_accuracy: 0.6667 - val_loss: -10.6970\n",
      "Epoch 69/500\n",
      "\u001B[1m5/5\u001B[0m \u001B[32m━━━━━━━━━━━━━━━━━━━━\u001B[0m\u001B[37m\u001B[0m \u001B[1m0s\u001B[0m 8ms/step - accuracy: 0.6882 - loss: -10.7674 - val_accuracy: 0.6667 - val_loss: -10.7672\n",
      "Epoch 70/500\n",
      "\u001B[1m5/5\u001B[0m \u001B[32m━━━━━━━━━━━━━━━━━━━━\u001B[0m\u001B[37m\u001B[0m \u001B[1m0s\u001B[0m 8ms/step - accuracy: 0.6421 - loss: -10.6087 - val_accuracy: 0.6667 - val_loss: -10.8379\n",
      "Epoch 71/500\n",
      "\u001B[1m5/5\u001B[0m \u001B[32m━━━━━━━━━━━━━━━━━━━━\u001B[0m\u001B[37m\u001B[0m \u001B[1m0s\u001B[0m 8ms/step - accuracy: 0.6837 - loss: -10.8673 - val_accuracy: 0.6667 - val_loss: -10.9073\n",
      "Epoch 72/500\n",
      "\u001B[1m5/5\u001B[0m \u001B[32m━━━━━━━━━━━━━━━━━━━━\u001B[0m\u001B[37m\u001B[0m \u001B[1m0s\u001B[0m 8ms/step - accuracy: 0.6687 - loss: -10.7706 - val_accuracy: 0.6667 - val_loss: -10.9787\n",
      "Epoch 73/500\n",
      "\u001B[1m5/5\u001B[0m \u001B[32m━━━━━━━━━━━━━━━━━━━━\u001B[0m\u001B[37m\u001B[0m \u001B[1m0s\u001B[0m 8ms/step - accuracy: 0.7115 - loss: -11.4596 - val_accuracy: 0.6667 - val_loss: -11.0464\n",
      "Epoch 74/500\n",
      "\u001B[1m5/5\u001B[0m \u001B[32m━━━━━━━━━━━━━━━━━━━━\u001B[0m\u001B[37m\u001B[0m \u001B[1m0s\u001B[0m 8ms/step - accuracy: 0.6390 - loss: -10.5447 - val_accuracy: 0.6667 - val_loss: -11.1169\n",
      "Epoch 75/500\n",
      "\u001B[1m5/5\u001B[0m \u001B[32m━━━━━━━━━━━━━━━━━━━━\u001B[0m\u001B[37m\u001B[0m \u001B[1m0s\u001B[0m 8ms/step - accuracy: 0.6676 - loss: -10.8937 - val_accuracy: 0.6667 - val_loss: -11.1852\n",
      "Epoch 76/500\n",
      "\u001B[1m5/5\u001B[0m \u001B[32m━━━━━━━━━━━━━━━━━━━━\u001B[0m\u001B[37m\u001B[0m \u001B[1m0s\u001B[0m 8ms/step - accuracy: 0.6651 - loss: -11.0902 - val_accuracy: 0.6667 - val_loss: -11.2571\n",
      "Epoch 77/500\n",
      "\u001B[1m5/5\u001B[0m \u001B[32m━━━━━━━━━━━━━━━━━━━━\u001B[0m\u001B[37m\u001B[0m \u001B[1m0s\u001B[0m 8ms/step - accuracy: 0.6848 - loss: -11.2543 - val_accuracy: 0.6667 - val_loss: -11.3255\n",
      "Epoch 78/500\n",
      "\u001B[1m5/5\u001B[0m \u001B[32m━━━━━━━━━━━━━━━━━━━━\u001B[0m\u001B[37m\u001B[0m \u001B[1m0s\u001B[0m 8ms/step - accuracy: 0.6779 - loss: -11.2164 - val_accuracy: 0.6667 - val_loss: -11.3895\n",
      "Epoch 79/500\n",
      "\u001B[1m5/5\u001B[0m \u001B[32m━━━━━━━━━━━━━━━━━━━━\u001B[0m\u001B[37m\u001B[0m \u001B[1m0s\u001B[0m 8ms/step - accuracy: 0.6557 - loss: -11.2724 - val_accuracy: 0.6667 - val_loss: -11.4607\n",
      "Epoch 80/500\n",
      "\u001B[1m5/5\u001B[0m \u001B[32m━━━━━━━━━━━━━━━━━━━━\u001B[0m\u001B[37m\u001B[0m \u001B[1m0s\u001B[0m 8ms/step - accuracy: 0.6787 - loss: -11.3645 - val_accuracy: 0.6667 - val_loss: -11.5255\n",
      "Epoch 81/500\n",
      "\u001B[1m5/5\u001B[0m \u001B[32m━━━━━━━━━━━━━━━━━━━━\u001B[0m\u001B[37m\u001B[0m \u001B[1m0s\u001B[0m 8ms/step - accuracy: 0.6784 - loss: -11.4720 - val_accuracy: 0.6667 - val_loss: -11.5880\n",
      "Epoch 82/500\n",
      "\u001B[1m5/5\u001B[0m \u001B[32m━━━━━━━━━━━━━━━━━━━━\u001B[0m\u001B[37m\u001B[0m \u001B[1m0s\u001B[0m 7ms/step - accuracy: 0.6698 - loss: -11.4134 - val_accuracy: 0.6400 - val_loss: -11.6294\n",
      "Epoch 83/500\n",
      "\u001B[1m5/5\u001B[0m \u001B[32m━━━━━━━━━━━━━━━━━━━━\u001B[0m\u001B[37m\u001B[0m \u001B[1m0s\u001B[0m 8ms/step - accuracy: 0.6629 - loss: -11.1971 - val_accuracy: 0.6400 - val_loss: -11.6871\n",
      "Epoch 84/500\n",
      "\u001B[1m5/5\u001B[0m \u001B[32m━━━━━━━━━━━━━━━━━━━━\u001B[0m\u001B[37m\u001B[0m \u001B[1m0s\u001B[0m 8ms/step - accuracy: 0.6354 - loss: -11.0438 - val_accuracy: 0.6400 - val_loss: -11.7273\n",
      "Epoch 85/500\n",
      "\u001B[1m5/5\u001B[0m \u001B[32m━━━━━━━━━━━━━━━━━━━━\u001B[0m\u001B[37m\u001B[0m \u001B[1m0s\u001B[0m 8ms/step - accuracy: 0.6929 - loss: -11.7450 - val_accuracy: 0.6400 - val_loss: -11.7630\n",
      "Epoch 86/500\n",
      "\u001B[1m5/5\u001B[0m \u001B[32m━━━━━━━━━━━━━━━━━━━━\u001B[0m\u001B[37m\u001B[0m \u001B[1m0s\u001B[0m 9ms/step - accuracy: 0.6225 - loss: -11.8012 - val_accuracy: 0.4400 - val_loss: -11.7956\n",
      "Epoch 87/500\n",
      "\u001B[1m5/5\u001B[0m \u001B[32m━━━━━━━━━━━━━━━━━━━━\u001B[0m\u001B[37m\u001B[0m \u001B[1m0s\u001B[0m 13ms/step - accuracy: 0.5281 - loss: -11.9015 - val_accuracy: 0.6400 - val_loss: -11.8305\n",
      "Epoch 88/500\n",
      "\u001B[1m5/5\u001B[0m \u001B[32m━━━━━━━━━━━━━━━━━━━━\u001B[0m\u001B[37m\u001B[0m \u001B[1m0s\u001B[0m 11ms/step - accuracy: 0.6810 - loss: -11.9785 - val_accuracy: 0.2267 - val_loss: -11.8689\n",
      "Epoch 89/500\n",
      "\u001B[1m5/5\u001B[0m \u001B[32m━━━━━━━━━━━━━━━━━━━━\u001B[0m\u001B[37m\u001B[0m \u001B[1m0s\u001B[0m 12ms/step - accuracy: 0.3303 - loss: -12.3823 - val_accuracy: 0.2267 - val_loss: -11.9020\n",
      "Epoch 90/500\n",
      "\u001B[1m5/5\u001B[0m \u001B[32m━━━━━━━━━━━━━━━━━━━━\u001B[0m\u001B[37m\u001B[0m \u001B[1m0s\u001B[0m 10ms/step - accuracy: 0.2182 - loss: -12.0513 - val_accuracy: 0.2267 - val_loss: -11.9233\n",
      "Epoch 91/500\n",
      "\u001B[1m5/5\u001B[0m \u001B[32m━━━━━━━━━━━━━━━━━━━━\u001B[0m\u001B[37m\u001B[0m \u001B[1m0s\u001B[0m 12ms/step - accuracy: 0.2546 - loss: -12.1053 - val_accuracy: 0.2267 - val_loss: -11.9392\n",
      "Epoch 92/500\n",
      "\u001B[1m5/5\u001B[0m \u001B[32m━━━━━━━━━━━━━━━━━━━━\u001B[0m\u001B[37m\u001B[0m \u001B[1m0s\u001B[0m 11ms/step - accuracy: 0.2113 - loss: -11.6951 - val_accuracy: 0.2267 - val_loss: -11.9610\n",
      "Epoch 93/500\n",
      "\u001B[1m5/5\u001B[0m \u001B[32m━━━━━━━━━━━━━━━━━━━━\u001B[0m\u001B[37m\u001B[0m \u001B[1m0s\u001B[0m 7ms/step - accuracy: 0.2555 - loss: -11.9029 - val_accuracy: 0.2267 - val_loss: -11.9873\n",
      "Epoch 94/500\n",
      "\u001B[1m5/5\u001B[0m \u001B[32m━━━━━━━━━━━━━━━━━━━━\u001B[0m\u001B[37m\u001B[0m \u001B[1m0s\u001B[0m 7ms/step - accuracy: 0.2285 - loss: -12.0010 - val_accuracy: 0.2267 - val_loss: -12.0120\n",
      "Epoch 95/500\n",
      "\u001B[1m5/5\u001B[0m \u001B[32m━━━━━━━━━━━━━━━━━━━━\u001B[0m\u001B[37m\u001B[0m \u001B[1m0s\u001B[0m 7ms/step - accuracy: 0.2388 - loss: -11.9712 - val_accuracy: 0.2267 - val_loss: -12.0388\n",
      "Epoch 96/500\n",
      "\u001B[1m5/5\u001B[0m \u001B[32m━━━━━━━━━━━━━━━━━━━━\u001B[0m\u001B[37m\u001B[0m \u001B[1m0s\u001B[0m 8ms/step - accuracy: 0.2313 - loss: -12.5292 - val_accuracy: 0.2267 - val_loss: -12.0626\n",
      "Epoch 97/500\n",
      "\u001B[1m5/5\u001B[0m \u001B[32m━━━━━━━━━━━━━━━━━━━━\u001B[0m\u001B[37m\u001B[0m \u001B[1m0s\u001B[0m 7ms/step - accuracy: 0.2360 - loss: -12.2531 - val_accuracy: 0.2267 - val_loss: -12.0866\n",
      "Epoch 98/500\n",
      "\u001B[1m5/5\u001B[0m \u001B[32m━━━━━━━━━━━━━━━━━━━━\u001B[0m\u001B[37m\u001B[0m \u001B[1m0s\u001B[0m 7ms/step - accuracy: 0.2535 - loss: -12.2066 - val_accuracy: 0.2267 - val_loss: -12.1120\n",
      "Epoch 99/500\n",
      "\u001B[1m5/5\u001B[0m \u001B[32m━━━━━━━━━━━━━━━━━━━━\u001B[0m\u001B[37m\u001B[0m \u001B[1m0s\u001B[0m 7ms/step - accuracy: 0.2255 - loss: -12.5837 - val_accuracy: 0.2267 - val_loss: -12.1369\n",
      "Epoch 100/500\n",
      "\u001B[1m5/5\u001B[0m \u001B[32m━━━━━━━━━━━━━━━━━━━━\u001B[0m\u001B[37m\u001B[0m \u001B[1m0s\u001B[0m 8ms/step - accuracy: 0.2194 - loss: -12.7291 - val_accuracy: 0.2267 - val_loss: -12.1610\n",
      "Epoch 101/500\n",
      "\u001B[1m5/5\u001B[0m \u001B[32m━━━━━━━━━━━━━━━━━━━━\u001B[0m\u001B[37m\u001B[0m \u001B[1m0s\u001B[0m 7ms/step - accuracy: 0.2127 - loss: -12.5090 - val_accuracy: 0.2267 - val_loss: -12.1859\n",
      "Epoch 102/500\n",
      "\u001B[1m5/5\u001B[0m \u001B[32m━━━━━━━━━━━━━━━━━━━━\u001B[0m\u001B[37m\u001B[0m \u001B[1m0s\u001B[0m 7ms/step - accuracy: 0.2171 - loss: -12.6840 - val_accuracy: 0.2267 - val_loss: -12.2114\n",
      "Epoch 103/500\n",
      "\u001B[1m5/5\u001B[0m \u001B[32m━━━━━━━━━━━━━━━━━━━━\u001B[0m\u001B[37m\u001B[0m \u001B[1m0s\u001B[0m 7ms/step - accuracy: 0.2682 - loss: -12.4852 - val_accuracy: 0.2267 - val_loss: -12.2366\n",
      "Epoch 104/500\n",
      "\u001B[1m5/5\u001B[0m \u001B[32m━━━━━━━━━━━━━━━━━━━━\u001B[0m\u001B[37m\u001B[0m \u001B[1m0s\u001B[0m 7ms/step - accuracy: 0.2210 - loss: -12.2158 - val_accuracy: 0.2267 - val_loss: -12.2615\n",
      "Epoch 105/500\n",
      "\u001B[1m5/5\u001B[0m \u001B[32m━━━━━━━━━━━━━━━━━━━━\u001B[0m\u001B[37m\u001B[0m \u001B[1m0s\u001B[0m 7ms/step - accuracy: 0.2424 - loss: -12.1993 - val_accuracy: 0.2267 - val_loss: -12.2845\n",
      "Epoch 106/500\n",
      "\u001B[1m5/5\u001B[0m \u001B[32m━━━━━━━━━━━━━━━━━━━━\u001B[0m\u001B[37m\u001B[0m \u001B[1m0s\u001B[0m 7ms/step - accuracy: 0.2227 - loss: -12.8277 - val_accuracy: 0.2267 - val_loss: -12.3066\n",
      "Epoch 107/500\n",
      "\u001B[1m5/5\u001B[0m \u001B[32m━━━━━━━━━━━━━━━━━━━━\u001B[0m\u001B[37m\u001B[0m \u001B[1m0s\u001B[0m 7ms/step - accuracy: 0.2338 - loss: -12.8327 - val_accuracy: 0.2267 - val_loss: -12.3288\n",
      "Epoch 108/500\n",
      "\u001B[1m5/5\u001B[0m \u001B[32m━━━━━━━━━━━━━━━━━━━━\u001B[0m\u001B[37m\u001B[0m \u001B[1m0s\u001B[0m 7ms/step - accuracy: 0.2088 - loss: -12.6642 - val_accuracy: 0.2267 - val_loss: -12.3525\n",
      "Epoch 109/500\n",
      "\u001B[1m5/5\u001B[0m \u001B[32m━━━━━━━━━━━━━━━━━━━━\u001B[0m\u001B[37m\u001B[0m \u001B[1m0s\u001B[0m 7ms/step - accuracy: 0.1988 - loss: -12.5634 - val_accuracy: 0.2267 - val_loss: -12.3769\n",
      "Epoch 110/500\n",
      "\u001B[1m5/5\u001B[0m \u001B[32m━━━━━━━━━━━━━━━━━━━━\u001B[0m\u001B[37m\u001B[0m \u001B[1m0s\u001B[0m 7ms/step - accuracy: 0.2419 - loss: -12.7195 - val_accuracy: 0.2267 - val_loss: -12.4008\n",
      "Epoch 111/500\n",
      "\u001B[1m5/5\u001B[0m \u001B[32m━━━━━━━━━━━━━━━━━━━━\u001B[0m\u001B[37m\u001B[0m \u001B[1m0s\u001B[0m 7ms/step - accuracy: 0.2577 - loss: -12.5857 - val_accuracy: 0.2267 - val_loss: -12.4254\n",
      "Epoch 112/500\n",
      "\u001B[1m5/5\u001B[0m \u001B[32m━━━━━━━━━━━━━━━━━━━━\u001B[0m\u001B[37m\u001B[0m \u001B[1m0s\u001B[0m 7ms/step - accuracy: 0.2219 - loss: -12.6524 - val_accuracy: 0.2267 - val_loss: -12.4498\n",
      "Epoch 113/500\n",
      "\u001B[1m5/5\u001B[0m \u001B[32m━━━━━━━━━━━━━━━━━━━━\u001B[0m\u001B[37m\u001B[0m \u001B[1m0s\u001B[0m 7ms/step - accuracy: 0.2082 - loss: -12.4925 - val_accuracy: 0.2267 - val_loss: -12.4728\n",
      "Epoch 114/500\n",
      "\u001B[1m5/5\u001B[0m \u001B[32m━━━━━━━━━━━━━━━━━━━━\u001B[0m\u001B[37m\u001B[0m \u001B[1m0s\u001B[0m 7ms/step - accuracy: 0.2374 - loss: -12.7565 - val_accuracy: 0.2267 - val_loss: -12.4962\n",
      "Epoch 115/500\n",
      "\u001B[1m5/5\u001B[0m \u001B[32m━━━━━━━━━━━━━━━━━━━━\u001B[0m\u001B[37m\u001B[0m \u001B[1m0s\u001B[0m 7ms/step - accuracy: 0.2346 - loss: -12.4981 - val_accuracy: 0.2267 - val_loss: -12.5201\n",
      "Epoch 116/500\n",
      "\u001B[1m5/5\u001B[0m \u001B[32m━━━━━━━━━━━━━━━━━━━━\u001B[0m\u001B[37m\u001B[0m \u001B[1m0s\u001B[0m 7ms/step - accuracy: 0.2277 - loss: -12.9317 - val_accuracy: 0.2267 - val_loss: -12.5416\n",
      "Epoch 117/500\n",
      "\u001B[1m5/5\u001B[0m \u001B[32m━━━━━━━━━━━━━━━━━━━━\u001B[0m\u001B[37m\u001B[0m \u001B[1m0s\u001B[0m 7ms/step - accuracy: 0.2546 - loss: -12.9970 - val_accuracy: 0.2267 - val_loss: -12.5679\n",
      "Epoch 118/500\n",
      "\u001B[1m5/5\u001B[0m \u001B[32m━━━━━━━━━━━━━━━━━━━━\u001B[0m\u001B[37m\u001B[0m \u001B[1m0s\u001B[0m 7ms/step - accuracy: 0.2152 - loss: -12.9936 - val_accuracy: 0.2267 - val_loss: -12.5854\n",
      "Epoch 119/500\n",
      "\u001B[1m5/5\u001B[0m \u001B[32m━━━━━━━━━━━━━━━━━━━━\u001B[0m\u001B[37m\u001B[0m \u001B[1m0s\u001B[0m 7ms/step - accuracy: 0.1982 - loss: -12.9068 - val_accuracy: 0.2267 - val_loss: -12.6121\n",
      "Epoch 120/500\n",
      "\u001B[1m5/5\u001B[0m \u001B[32m━━━━━━━━━━━━━━━━━━━━\u001B[0m\u001B[37m\u001B[0m \u001B[1m0s\u001B[0m 7ms/step - accuracy: 0.2307 - loss: -12.8397 - val_accuracy: 0.2267 - val_loss: -12.6299\n",
      "Epoch 121/500\n",
      "\u001B[1m5/5\u001B[0m \u001B[32m━━━━━━━━━━━━━━━━━━━━\u001B[0m\u001B[37m\u001B[0m \u001B[1m0s\u001B[0m 7ms/step - accuracy: 0.2307 - loss: -13.3285 - val_accuracy: 0.2267 - val_loss: -12.6497\n",
      "Epoch 122/500\n",
      "\u001B[1m5/5\u001B[0m \u001B[32m━━━━━━━━━━━━━━━━━━━━\u001B[0m\u001B[37m\u001B[0m \u001B[1m0s\u001B[0m 7ms/step - accuracy: 0.2232 - loss: -13.2250 - val_accuracy: 0.2267 - val_loss: -12.6767\n",
      "Epoch 123/500\n",
      "\u001B[1m5/5\u001B[0m \u001B[32m━━━━━━━━━━━━━━━━━━━━\u001B[0m\u001B[37m\u001B[0m \u001B[1m0s\u001B[0m 7ms/step - accuracy: 0.2574 - loss: -13.3490 - val_accuracy: 0.2267 - val_loss: -12.7006\n",
      "Epoch 124/500\n",
      "\u001B[1m5/5\u001B[0m \u001B[32m━━━━━━━━━━━━━━━━━━━━\u001B[0m\u001B[37m\u001B[0m \u001B[1m0s\u001B[0m 7ms/step - accuracy: 0.1974 - loss: -13.0196 - val_accuracy: 0.2267 - val_loss: -12.7103\n",
      "Epoch 125/500\n",
      "\u001B[1m5/5\u001B[0m \u001B[32m━━━━━━━━━━━━━━━━━━━━\u001B[0m\u001B[37m\u001B[0m \u001B[1m0s\u001B[0m 7ms/step - accuracy: 0.2188 - loss: -12.8056 - val_accuracy: 0.2267 - val_loss: -12.7201\n",
      "Epoch 126/500\n",
      "\u001B[1m5/5\u001B[0m \u001B[32m━━━━━━━━━━━━━━━━━━━━\u001B[0m\u001B[37m\u001B[0m \u001B[1m0s\u001B[0m 7ms/step - accuracy: 0.2296 - loss: -13.4817 - val_accuracy: 0.2267 - val_loss: -12.7353\n",
      "Epoch 127/500\n",
      "\u001B[1m5/5\u001B[0m \u001B[32m━━━━━━━━━━━━━━━━━━━━\u001B[0m\u001B[37m\u001B[0m \u001B[1m0s\u001B[0m 7ms/step - accuracy: 0.2194 - loss: -12.7159 - val_accuracy: 0.2267 - val_loss: -12.7495\n",
      "Epoch 128/500\n",
      "\u001B[1m5/5\u001B[0m \u001B[32m━━━━━━━━━━━━━━━━━━━━\u001B[0m\u001B[37m\u001B[0m \u001B[1m0s\u001B[0m 7ms/step - accuracy: 0.2360 - loss: -13.4074 - val_accuracy: 0.2267 - val_loss: -12.7392\n",
      "Epoch 129/500\n",
      "\u001B[1m5/5\u001B[0m \u001B[32m━━━━━━━━━━━━━━━━━━━━\u001B[0m\u001B[37m\u001B[0m \u001B[1m0s\u001B[0m 7ms/step - accuracy: 0.2266 - loss: -13.1220 - val_accuracy: 0.2267 - val_loss: -12.7491\n",
      "Epoch 130/500\n",
      "\u001B[1m5/5\u001B[0m \u001B[32m━━━━━━━━━━━━━━━━━━━━\u001B[0m\u001B[37m\u001B[0m \u001B[1m0s\u001B[0m 7ms/step - accuracy: 0.2260 - loss: -13.5373 - val_accuracy: 0.2267 - val_loss: -12.7643\n",
      "Epoch 131/500\n",
      "\u001B[1m5/5\u001B[0m \u001B[32m━━━━━━━━━━━━━━━━━━━━\u001B[0m\u001B[37m\u001B[0m \u001B[1m0s\u001B[0m 7ms/step - accuracy: 0.2477 - loss: -13.3908 - val_accuracy: 0.2267 - val_loss: -12.7769\n",
      "Epoch 132/500\n",
      "\u001B[1m5/5\u001B[0m \u001B[32m━━━━━━━━━━━━━━━━━━━━\u001B[0m\u001B[37m\u001B[0m \u001B[1m0s\u001B[0m 7ms/step - accuracy: 0.2355 - loss: -13.2626 - val_accuracy: 0.2267 - val_loss: -12.7918\n",
      "Epoch 133/500\n",
      "\u001B[1m5/5\u001B[0m \u001B[32m━━━━━━━━━━━━━━━━━━━━\u001B[0m\u001B[37m\u001B[0m \u001B[1m0s\u001B[0m 7ms/step - accuracy: 0.2346 - loss: -13.4448 - val_accuracy: 0.2267 - val_loss: -12.8090\n",
      "Epoch 134/500\n",
      "\u001B[1m5/5\u001B[0m \u001B[32m━━━━━━━━━━━━━━━━━━━━\u001B[0m\u001B[37m\u001B[0m \u001B[1m0s\u001B[0m 7ms/step - accuracy: 0.2260 - loss: -13.4818 - val_accuracy: 0.2267 - val_loss: -12.8273\n",
      "Epoch 135/500\n",
      "\u001B[1m5/5\u001B[0m \u001B[32m━━━━━━━━━━━━━━━━━━━━\u001B[0m\u001B[37m\u001B[0m \u001B[1m0s\u001B[0m 7ms/step - accuracy: 0.2199 - loss: -13.2814 - val_accuracy: 0.2267 - val_loss: -12.8462\n",
      "Epoch 136/500\n",
      "\u001B[1m5/5\u001B[0m \u001B[32m━━━━━━━━━━━━━━━━━━━━\u001B[0m\u001B[37m\u001B[0m \u001B[1m0s\u001B[0m 7ms/step - accuracy: 0.2105 - loss: -13.5215 - val_accuracy: 0.2267 - val_loss: -12.8654\n",
      "Epoch 137/500\n",
      "\u001B[1m5/5\u001B[0m \u001B[32m━━━━━━━━━━━━━━━━━━━━\u001B[0m\u001B[37m\u001B[0m \u001B[1m0s\u001B[0m 7ms/step - accuracy: 0.2163 - loss: -13.4396 - val_accuracy: 0.2267 - val_loss: -12.8844\n",
      "Epoch 138/500\n",
      "\u001B[1m5/5\u001B[0m \u001B[32m━━━━━━━━━━━━━━━━━━━━\u001B[0m\u001B[37m\u001B[0m \u001B[1m0s\u001B[0m 7ms/step - accuracy: 0.2407 - loss: -13.2617 - val_accuracy: 0.2267 - val_loss: -12.9056\n",
      "Epoch 139/500\n",
      "\u001B[1m5/5\u001B[0m \u001B[32m━━━━━━━━━━━━━━━━━━━━\u001B[0m\u001B[37m\u001B[0m \u001B[1m0s\u001B[0m 7ms/step - accuracy: 0.2396 - loss: -13.3536 - val_accuracy: 0.2267 - val_loss: -12.9257\n",
      "Epoch 140/500\n",
      "\u001B[1m5/5\u001B[0m \u001B[32m━━━━━━━━━━━━━━━━━━━━\u001B[0m\u001B[37m\u001B[0m \u001B[1m0s\u001B[0m 7ms/step - accuracy: 0.2394 - loss: -13.5748 - val_accuracy: 0.2267 - val_loss: -12.9472\n",
      "Epoch 141/500\n",
      "\u001B[1m5/5\u001B[0m \u001B[32m━━━━━━━━━━━━━━━━━━━━\u001B[0m\u001B[37m\u001B[0m \u001B[1m0s\u001B[0m 7ms/step - accuracy: 0.2263 - loss: -13.3808 - val_accuracy: 0.2267 - val_loss: -12.9681\n",
      "Epoch 142/500\n",
      "\u001B[1m5/5\u001B[0m \u001B[32m━━━━━━━━━━━━━━━━━━━━\u001B[0m\u001B[37m\u001B[0m \u001B[1m0s\u001B[0m 7ms/step - accuracy: 0.2238 - loss: -13.7784 - val_accuracy: 0.2267 - val_loss: -12.9875\n",
      "Epoch 143/500\n",
      "\u001B[1m5/5\u001B[0m \u001B[32m━━━━━━━━━━━━━━━━━━━━\u001B[0m\u001B[37m\u001B[0m \u001B[1m0s\u001B[0m 7ms/step - accuracy: 0.2291 - loss: -13.3472 - val_accuracy: 0.2267 - val_loss: -13.0088\n",
      "Epoch 144/500\n",
      "\u001B[1m5/5\u001B[0m \u001B[32m━━━━━━━━━━━━━━━━━━━━\u001B[0m\u001B[37m\u001B[0m \u001B[1m0s\u001B[0m 7ms/step - accuracy: 0.2180 - loss: -13.5144 - val_accuracy: 0.2267 - val_loss: -13.0282\n",
      "Epoch 145/500\n",
      "\u001B[1m5/5\u001B[0m \u001B[32m━━━━━━━━━━━━━━━━━━━━\u001B[0m\u001B[37m\u001B[0m \u001B[1m0s\u001B[0m 7ms/step - accuracy: 0.2138 - loss: -13.2514 - val_accuracy: 0.2267 - val_loss: -13.0476\n",
      "Epoch 146/500\n",
      "\u001B[1m5/5\u001B[0m \u001B[32m━━━━━━━━━━━━━━━━━━━━\u001B[0m\u001B[37m\u001B[0m \u001B[1m0s\u001B[0m 7ms/step - accuracy: 0.2266 - loss: -13.3306 - val_accuracy: 0.2267 - val_loss: -13.0652\n",
      "Epoch 147/500\n",
      "\u001B[1m5/5\u001B[0m \u001B[32m━━━━━━━━━━━━━━━━━━━━\u001B[0m\u001B[37m\u001B[0m \u001B[1m0s\u001B[0m 7ms/step - accuracy: 0.2052 - loss: -13.4438 - val_accuracy: 0.2267 - val_loss: -13.0849\n",
      "Epoch 148/500\n",
      "\u001B[1m5/5\u001B[0m \u001B[32m━━━━━━━━━━━━━━━━━━━━\u001B[0m\u001B[37m\u001B[0m \u001B[1m0s\u001B[0m 7ms/step - accuracy: 0.2257 - loss: -13.8944 - val_accuracy: 0.2267 - val_loss: -13.1066\n",
      "Epoch 149/500\n",
      "\u001B[1m5/5\u001B[0m \u001B[32m━━━━━━━━━━━━━━━━━━━━\u001B[0m\u001B[37m\u001B[0m \u001B[1m0s\u001B[0m 7ms/step - accuracy: 0.2202 - loss: -13.6518 - val_accuracy: 0.2267 - val_loss: -13.1271\n",
      "Epoch 150/500\n",
      "\u001B[1m5/5\u001B[0m \u001B[32m━━━━━━━━━━━━━━━━━━━━\u001B[0m\u001B[37m\u001B[0m \u001B[1m0s\u001B[0m 7ms/step - accuracy: 0.2377 - loss: -13.7275 - val_accuracy: 0.2267 - val_loss: -13.1452\n",
      "Epoch 151/500\n",
      "\u001B[1m5/5\u001B[0m \u001B[32m━━━━━━━━━━━━━━━━━━━━\u001B[0m\u001B[37m\u001B[0m \u001B[1m0s\u001B[0m 8ms/step - accuracy: 0.2046 - loss: -13.9199 - val_accuracy: 0.2267 - val_loss: -13.1653\n",
      "Epoch 152/500\n",
      "\u001B[1m5/5\u001B[0m \u001B[32m━━━━━━━━━━━━━━━━━━━━\u001B[0m\u001B[37m\u001B[0m \u001B[1m0s\u001B[0m 7ms/step - accuracy: 0.2363 - loss: -13.9277 - val_accuracy: 0.2267 - val_loss: -13.1855\n",
      "Epoch 153/500\n",
      "\u001B[1m5/5\u001B[0m \u001B[32m━━━━━━━━━━━━━━━━━━━━\u001B[0m\u001B[37m\u001B[0m \u001B[1m0s\u001B[0m 7ms/step - accuracy: 0.2280 - loss: -13.8486 - val_accuracy: 0.2267 - val_loss: -13.2046\n",
      "Epoch 154/500\n",
      "\u001B[1m5/5\u001B[0m \u001B[32m━━━━━━━━━━━━━━━━━━━━\u001B[0m\u001B[37m\u001B[0m \u001B[1m0s\u001B[0m 7ms/step - accuracy: 0.2566 - loss: -13.7834 - val_accuracy: 0.2267 - val_loss: -13.2248\n",
      "Epoch 155/500\n",
      "\u001B[1m5/5\u001B[0m \u001B[32m━━━━━━━━━━━━━━━━━━━━\u001B[0m\u001B[37m\u001B[0m \u001B[1m0s\u001B[0m 7ms/step - accuracy: 0.2196 - loss: -13.6047 - val_accuracy: 0.2267 - val_loss: -13.2451\n",
      "Epoch 156/500\n",
      "\u001B[1m5/5\u001B[0m \u001B[32m━━━━━━━━━━━━━━━━━━━━\u001B[0m\u001B[37m\u001B[0m \u001B[1m0s\u001B[0m 7ms/step - accuracy: 0.2427 - loss: -13.7685 - val_accuracy: 0.2267 - val_loss: -13.2645\n",
      "Epoch 157/500\n",
      "\u001B[1m5/5\u001B[0m \u001B[32m━━━━━━━━━━━━━━━━━━━━\u001B[0m\u001B[37m\u001B[0m \u001B[1m0s\u001B[0m 8ms/step - accuracy: 0.2466 - loss: -14.0298 - val_accuracy: 0.2267 - val_loss: -13.2833\n",
      "Epoch 158/500\n",
      "\u001B[1m5/5\u001B[0m \u001B[32m━━━━━━━━━━━━━━━━━━━━\u001B[0m\u001B[37m\u001B[0m \u001B[1m0s\u001B[0m 7ms/step - accuracy: 0.2313 - loss: -13.8633 - val_accuracy: 0.2267 - val_loss: -13.3030\n",
      "Epoch 159/500\n",
      "\u001B[1m5/5\u001B[0m \u001B[32m━━━━━━━━━━━━━━━━━━━━\u001B[0m\u001B[37m\u001B[0m \u001B[1m0s\u001B[0m 7ms/step - accuracy: 0.2452 - loss: -14.1625 - val_accuracy: 0.2267 - val_loss: -13.3219\n",
      "Epoch 160/500\n",
      "\u001B[1m5/5\u001B[0m \u001B[32m━━━━━━━━━━━━━━━━━━━━\u001B[0m\u001B[37m\u001B[0m \u001B[1m0s\u001B[0m 7ms/step - accuracy: 0.2182 - loss: -13.5947 - val_accuracy: 0.2267 - val_loss: -13.3418\n",
      "Epoch 161/500\n",
      "\u001B[1m5/5\u001B[0m \u001B[32m━━━━━━━━━━━━━━━━━━━━\u001B[0m\u001B[37m\u001B[0m \u001B[1m0s\u001B[0m 7ms/step - accuracy: 0.2588 - loss: -14.2856 - val_accuracy: 0.2267 - val_loss: -13.3605\n",
      "Epoch 162/500\n",
      "\u001B[1m5/5\u001B[0m \u001B[32m━━━━━━━━━━━━━━━━━━━━\u001B[0m\u001B[37m\u001B[0m \u001B[1m0s\u001B[0m 7ms/step - accuracy: 0.2102 - loss: -13.8970 - val_accuracy: 0.2267 - val_loss: -13.3803\n",
      "Epoch 163/500\n",
      "\u001B[1m5/5\u001B[0m \u001B[32m━━━━━━━━━━━━━━━━━━━━\u001B[0m\u001B[37m\u001B[0m \u001B[1m0s\u001B[0m 7ms/step - accuracy: 0.2094 - loss: -14.2007 - val_accuracy: 0.2267 - val_loss: -13.4009\n",
      "Epoch 164/500\n",
      "\u001B[1m5/5\u001B[0m \u001B[32m━━━━━━━━━━━━━━━━━━━━\u001B[0m\u001B[37m\u001B[0m \u001B[1m0s\u001B[0m 8ms/step - accuracy: 0.2257 - loss: -13.7761 - val_accuracy: 0.2267 - val_loss: -13.4205\n",
      "Epoch 165/500\n",
      "\u001B[1m5/5\u001B[0m \u001B[32m━━━━━━━━━━━━━━━━━━━━\u001B[0m\u001B[37m\u001B[0m \u001B[1m0s\u001B[0m 7ms/step - accuracy: 0.2280 - loss: -13.9658 - val_accuracy: 0.2267 - val_loss: -13.4410\n",
      "Epoch 166/500\n",
      "\u001B[1m5/5\u001B[0m \u001B[32m━━━━━━━━━━━━━━━━━━━━\u001B[0m\u001B[37m\u001B[0m \u001B[1m0s\u001B[0m 7ms/step - accuracy: 0.2357 - loss: -13.9884 - val_accuracy: 0.2267 - val_loss: -13.4613\n",
      "Epoch 167/500\n",
      "\u001B[1m5/5\u001B[0m \u001B[32m━━━━━━━━━━━━━━━━━━━━\u001B[0m\u001B[37m\u001B[0m \u001B[1m0s\u001B[0m 7ms/step - accuracy: 0.2469 - loss: -14.5519 - val_accuracy: 0.2267 - val_loss: -13.4806\n",
      "Epoch 168/500\n",
      "\u001B[1m5/5\u001B[0m \u001B[32m━━━━━━━━━━━━━━━━━━━━\u001B[0m\u001B[37m\u001B[0m \u001B[1m0s\u001B[0m 7ms/step - accuracy: 0.2380 - loss: -14.3755 - val_accuracy: 0.2267 - val_loss: -13.5012\n",
      "Epoch 169/500\n",
      "\u001B[1m5/5\u001B[0m \u001B[32m━━━━━━━━━━━━━━━━━━━━\u001B[0m\u001B[37m\u001B[0m \u001B[1m0s\u001B[0m 7ms/step - accuracy: 0.2135 - loss: -14.4797 - val_accuracy: 0.2267 - val_loss: -13.5208\n",
      "Epoch 170/500\n",
      "\u001B[1m5/5\u001B[0m \u001B[32m━━━━━━━━━━━━━━━━━━━━\u001B[0m\u001B[37m\u001B[0m \u001B[1m0s\u001B[0m 7ms/step - accuracy: 0.2424 - loss: -14.4244 - val_accuracy: 0.2267 - val_loss: -13.5418\n",
      "Epoch 171/500\n",
      "\u001B[1m5/5\u001B[0m \u001B[32m━━━━━━━━━━━━━━━━━━━━\u001B[0m\u001B[37m\u001B[0m \u001B[1m0s\u001B[0m 7ms/step - accuracy: 0.2299 - loss: -14.2057 - val_accuracy: 0.2267 - val_loss: -13.5621\n",
      "Epoch 172/500\n",
      "\u001B[1m5/5\u001B[0m \u001B[32m━━━━━━━━━━━━━━━━━━━━\u001B[0m\u001B[37m\u001B[0m \u001B[1m0s\u001B[0m 7ms/step - accuracy: 0.2213 - loss: -13.9676 - val_accuracy: 0.2267 - val_loss: -13.5814\n",
      "Epoch 173/500\n",
      "\u001B[1m5/5\u001B[0m \u001B[32m━━━━━━━━━━━━━━━━━━━━\u001B[0m\u001B[37m\u001B[0m \u001B[1m0s\u001B[0m 7ms/step - accuracy: 0.2466 - loss: -14.0132 - val_accuracy: 0.2267 - val_loss: -13.6016\n",
      "Epoch 174/500\n",
      "\u001B[1m5/5\u001B[0m \u001B[32m━━━━━━━━━━━━━━━━━━━━\u001B[0m\u001B[37m\u001B[0m \u001B[1m0s\u001B[0m 7ms/step - accuracy: 0.2480 - loss: -14.2786 - val_accuracy: 0.2267 - val_loss: -13.6216\n",
      "Epoch 175/500\n",
      "\u001B[1m5/5\u001B[0m \u001B[32m━━━━━━━━━━━━━━━━━━━━\u001B[0m\u001B[37m\u001B[0m \u001B[1m0s\u001B[0m 7ms/step - accuracy: 0.2396 - loss: -14.9090 - val_accuracy: 0.2267 - val_loss: -13.6411\n",
      "Epoch 176/500\n",
      "\u001B[1m5/5\u001B[0m \u001B[32m━━━━━━━━━━━━━━━━━━━━\u001B[0m\u001B[37m\u001B[0m \u001B[1m0s\u001B[0m 7ms/step - accuracy: 0.2182 - loss: -14.6543 - val_accuracy: 0.2267 - val_loss: -13.6600\n",
      "Epoch 177/500\n",
      "\u001B[1m5/5\u001B[0m \u001B[32m━━━━━━━━━━━━━━━━━━━━\u001B[0m\u001B[37m\u001B[0m \u001B[1m0s\u001B[0m 8ms/step - accuracy: 0.2446 - loss: -14.4555 - val_accuracy: 0.2267 - val_loss: -13.6677\n",
      "Epoch 178/500\n",
      "\u001B[1m5/5\u001B[0m \u001B[32m━━━━━━━━━━━━━━━━━━━━\u001B[0m\u001B[37m\u001B[0m \u001B[1m0s\u001B[0m 7ms/step - accuracy: 0.2235 - loss: -14.4225 - val_accuracy: 0.2267 - val_loss: -13.6695\n",
      "Epoch 179/500\n",
      "\u001B[1m5/5\u001B[0m \u001B[32m━━━━━━━━━━━━━━━━━━━━\u001B[0m\u001B[37m\u001B[0m \u001B[1m0s\u001B[0m 7ms/step - accuracy: 0.2432 - loss: -14.2684 - val_accuracy: 0.2267 - val_loss: -13.6731\n",
      "Epoch 180/500\n",
      "\u001B[1m5/5\u001B[0m \u001B[32m━━━━━━━━━━━━━━━━━━━━\u001B[0m\u001B[37m\u001B[0m \u001B[1m0s\u001B[0m 7ms/step - accuracy: 0.2177 - loss: -14.1178 - val_accuracy: 0.2267 - val_loss: -13.6794\n",
      "Epoch 181/500\n",
      "\u001B[1m5/5\u001B[0m \u001B[32m━━━━━━━━━━━━━━━━━━━━\u001B[0m\u001B[37m\u001B[0m \u001B[1m0s\u001B[0m 7ms/step - accuracy: 0.2185 - loss: -14.4293 - val_accuracy: 0.2267 - val_loss: -13.6872\n",
      "Epoch 182/500\n",
      "\u001B[1m5/5\u001B[0m \u001B[32m━━━━━━━━━━━━━━━━━━━━\u001B[0m\u001B[37m\u001B[0m \u001B[1m0s\u001B[0m 7ms/step - accuracy: 0.2371 - loss: -14.6145 - val_accuracy: 0.2267 - val_loss: -13.6964\n",
      "Epoch 183/500\n",
      "\u001B[1m5/5\u001B[0m \u001B[32m━━━━━━━━━━━━━━━━━━━━\u001B[0m\u001B[37m\u001B[0m \u001B[1m0s\u001B[0m 7ms/step - accuracy: 0.2344 - loss: -14.3030 - val_accuracy: 0.2267 - val_loss: -13.6981\n",
      "Epoch 184/500\n",
      "\u001B[1m5/5\u001B[0m \u001B[32m━━━━━━━━━━━━━━━━━━━━\u001B[0m\u001B[37m\u001B[0m \u001B[1m0s\u001B[0m 7ms/step - accuracy: 0.2482 - loss: -14.4226 - val_accuracy: 0.2267 - val_loss: -13.6915\n",
      "Epoch 185/500\n",
      "\u001B[1m5/5\u001B[0m \u001B[32m━━━━━━━━━━━━━━━━━━━━\u001B[0m\u001B[37m\u001B[0m \u001B[1m0s\u001B[0m 7ms/step - accuracy: 0.2474 - loss: -14.6110 - val_accuracy: 0.2267 - val_loss: -13.6857\n",
      "Epoch 186/500\n",
      "\u001B[1m5/5\u001B[0m \u001B[32m━━━━━━━━━━━━━━━━━━━━\u001B[0m\u001B[37m\u001B[0m \u001B[1m0s\u001B[0m 7ms/step - accuracy: 0.2480 - loss: -14.8983 - val_accuracy: 0.2267 - val_loss: -13.6841\n",
      "Epoch 187/500\n",
      "\u001B[1m5/5\u001B[0m \u001B[32m━━━━━━━━━━━━━━━━━━━━\u001B[0m\u001B[37m\u001B[0m \u001B[1m0s\u001B[0m 7ms/step - accuracy: 0.2391 - loss: -14.5127 - val_accuracy: 0.2267 - val_loss: -13.6781\n",
      "Epoch 188/500\n",
      "\u001B[1m5/5\u001B[0m \u001B[32m━━━━━━━━━━━━━━━━━━━━\u001B[0m\u001B[37m\u001B[0m \u001B[1m0s\u001B[0m 7ms/step - accuracy: 0.1785 - loss: -14.2542 - val_accuracy: 0.2267 - val_loss: -13.6733\n",
      "Epoch 189/500\n",
      "\u001B[1m5/5\u001B[0m \u001B[32m━━━━━━━━━━━━━━━━━━━━\u001B[0m\u001B[37m\u001B[0m \u001B[1m0s\u001B[0m 7ms/step - accuracy: 0.2349 - loss: -14.1814 - val_accuracy: 0.2267 - val_loss: -13.6703\n",
      "Epoch 190/500\n",
      "\u001B[1m5/5\u001B[0m \u001B[32m━━━━━━━━━━━━━━━━━━━━\u001B[0m\u001B[37m\u001B[0m \u001B[1m0s\u001B[0m 8ms/step - accuracy: 0.2402 - loss: -14.3884 - val_accuracy: 0.2267 - val_loss: -13.6672\n",
      "Epoch 191/500\n",
      "\u001B[1m5/5\u001B[0m \u001B[32m━━━━━━━━━━━━━━━━━━━━\u001B[0m\u001B[37m\u001B[0m \u001B[1m0s\u001B[0m 7ms/step - accuracy: 0.2119 - loss: -14.4203 - val_accuracy: 0.2267 - val_loss: -13.6640\n",
      "Epoch 192/500\n",
      "\u001B[1m5/5\u001B[0m \u001B[32m━━━━━━━━━━━━━━━━━━━━\u001B[0m\u001B[37m\u001B[0m \u001B[1m0s\u001B[0m 8ms/step - accuracy: 0.2488 - loss: -14.3832 - val_accuracy: 0.2267 - val_loss: -13.6621\n",
      "Epoch 193/500\n",
      "\u001B[1m5/5\u001B[0m \u001B[32m━━━━━━━━━━━━━━━━━━━━\u001B[0m\u001B[37m\u001B[0m \u001B[1m0s\u001B[0m 7ms/step - accuracy: 0.2260 - loss: -14.1192 - val_accuracy: 0.2267 - val_loss: -13.6618\n",
      "Epoch 194/500\n",
      "\u001B[1m5/5\u001B[0m \u001B[32m━━━━━━━━━━━━━━━━━━━━\u001B[0m\u001B[37m\u001B[0m \u001B[1m0s\u001B[0m 7ms/step - accuracy: 0.2219 - loss: -13.8305 - val_accuracy: 0.2267 - val_loss: -13.6612\n",
      "Epoch 195/500\n",
      "\u001B[1m5/5\u001B[0m \u001B[32m━━━━━━━━━━━━━━━━━━━━\u001B[0m\u001B[37m\u001B[0m \u001B[1m0s\u001B[0m 7ms/step - accuracy: 0.2302 - loss: -14.5568 - val_accuracy: 0.2267 - val_loss: -13.6595\n",
      "Epoch 196/500\n",
      "\u001B[1m5/5\u001B[0m \u001B[32m━━━━━━━━━━━━━━━━━━━━\u001B[0m\u001B[37m\u001B[0m \u001B[1m0s\u001B[0m 8ms/step - accuracy: 0.2485 - loss: -15.2192 - val_accuracy: 0.2267 - val_loss: -13.6584\n",
      "Epoch 197/500\n",
      "\u001B[1m5/5\u001B[0m \u001B[32m━━━━━━━━━━━━━━━━━━━━\u001B[0m\u001B[37m\u001B[0m \u001B[1m0s\u001B[0m 7ms/step - accuracy: 0.2269 - loss: -14.1467 - val_accuracy: 0.2267 - val_loss: -13.6582\n",
      "Epoch 198/500\n",
      "\u001B[1m5/5\u001B[0m \u001B[32m━━━━━━━━━━━━━━━━━━━━\u001B[0m\u001B[37m\u001B[0m \u001B[1m0s\u001B[0m 7ms/step - accuracy: 0.2249 - loss: -14.1455 - val_accuracy: 0.2267 - val_loss: -13.6577\n",
      "Epoch 199/500\n",
      "\u001B[1m5/5\u001B[0m \u001B[32m━━━━━━━━━━━━━━━━━━━━\u001B[0m\u001B[37m\u001B[0m \u001B[1m0s\u001B[0m 7ms/step - accuracy: 0.2460 - loss: -14.3995 - val_accuracy: 0.2267 - val_loss: -13.6574\n",
      "Epoch 200/500\n",
      "\u001B[1m5/5\u001B[0m \u001B[32m━━━━━━━━━━━━━━━━━━━━\u001B[0m\u001B[37m\u001B[0m \u001B[1m0s\u001B[0m 7ms/step - accuracy: 0.2363 - loss: -14.3309 - val_accuracy: 0.2267 - val_loss: -13.6563\n",
      "Epoch 201/500\n",
      "\u001B[1m5/5\u001B[0m \u001B[32m━━━━━━━━━━━━━━━━━━━━\u001B[0m\u001B[37m\u001B[0m \u001B[1m0s\u001B[0m 7ms/step - accuracy: 0.2294 - loss: -14.2822 - val_accuracy: 0.2267 - val_loss: -13.6547\n",
      "Epoch 202/500\n",
      "\u001B[1m5/5\u001B[0m \u001B[32m━━━━━━━━━━━━━━━━━━━━\u001B[0m\u001B[37m\u001B[0m \u001B[1m0s\u001B[0m 7ms/step - accuracy: 0.2446 - loss: -14.5615 - val_accuracy: 0.2267 - val_loss: -13.6538\n",
      "Epoch 203/500\n",
      "\u001B[1m5/5\u001B[0m \u001B[32m━━━━━━━━━━━━━━━━━━━━\u001B[0m\u001B[37m\u001B[0m \u001B[1m0s\u001B[0m 7ms/step - accuracy: 0.2427 - loss: -14.5791 - val_accuracy: 0.2267 - val_loss: -13.6534\n",
      "Epoch 204/500\n",
      "\u001B[1m5/5\u001B[0m \u001B[32m━━━━━━━━━━━━━━━━━━━━\u001B[0m\u001B[37m\u001B[0m \u001B[1m0s\u001B[0m 7ms/step - accuracy: 0.2671 - loss: -14.6318 - val_accuracy: 0.2267 - val_loss: -13.6533\n",
      "Epoch 205/500\n",
      "\u001B[1m5/5\u001B[0m \u001B[32m━━━━━━━━━━━━━━━━━━━━\u001B[0m\u001B[37m\u001B[0m \u001B[1m0s\u001B[0m 7ms/step - accuracy: 0.2494 - loss: -14.2347 - val_accuracy: 0.2267 - val_loss: -13.6528\n",
      "Epoch 206/500\n",
      "\u001B[1m5/5\u001B[0m \u001B[32m━━━━━━━━━━━━━━━━━━━━\u001B[0m\u001B[37m\u001B[0m \u001B[1m0s\u001B[0m 7ms/step - accuracy: 0.2407 - loss: -14.6099 - val_accuracy: 0.2267 - val_loss: -13.6518\n",
      "Epoch 207/500\n",
      "\u001B[1m5/5\u001B[0m \u001B[32m━━━━━━━━━━━━━━━━━━━━\u001B[0m\u001B[37m\u001B[0m \u001B[1m0s\u001B[0m 7ms/step - accuracy: 0.2410 - loss: -14.6730 - val_accuracy: 0.2267 - val_loss: -13.6511\n",
      "Epoch 208/500\n",
      "\u001B[1m5/5\u001B[0m \u001B[32m━━━━━━━━━━━━━━━━━━━━\u001B[0m\u001B[37m\u001B[0m \u001B[1m0s\u001B[0m 7ms/step - accuracy: 0.2505 - loss: -14.8179 - val_accuracy: 0.2267 - val_loss: -13.6509\n",
      "Epoch 209/500\n",
      "\u001B[1m5/5\u001B[0m \u001B[32m━━━━━━━━━━━━━━━━━━━━\u001B[0m\u001B[37m\u001B[0m \u001B[1m0s\u001B[0m 7ms/step - accuracy: 0.2149 - loss: -14.3947 - val_accuracy: 0.2267 - val_loss: -13.6515\n",
      "Epoch 210/500\n",
      "\u001B[1m5/5\u001B[0m \u001B[32m━━━━━━━━━━━━━━━━━━━━\u001B[0m\u001B[37m\u001B[0m \u001B[1m0s\u001B[0m 7ms/step - accuracy: 0.2407 - loss: -14.4382 - val_accuracy: 0.2267 - val_loss: -13.6516\n",
      "Epoch 211/500\n",
      "\u001B[1m5/5\u001B[0m \u001B[32m━━━━━━━━━━━━━━━━━━━━\u001B[0m\u001B[37m\u001B[0m \u001B[1m0s\u001B[0m 7ms/step - accuracy: 0.2046 - loss: -14.3916 - val_accuracy: 0.2267 - val_loss: -13.6517\n",
      "Epoch 212/500\n",
      "\u001B[1m5/5\u001B[0m \u001B[32m━━━━━━━━━━━━━━━━━━━━\u001B[0m\u001B[37m\u001B[0m \u001B[1m0s\u001B[0m 7ms/step - accuracy: 0.2113 - loss: -14.3357 - val_accuracy: 0.2267 - val_loss: -13.6776\n",
      "Epoch 213/500\n",
      "\u001B[1m5/5\u001B[0m \u001B[32m━━━━━━━━━━━━━━━━━━━━\u001B[0m\u001B[37m\u001B[0m \u001B[1m0s\u001B[0m 7ms/step - accuracy: 0.2227 - loss: -14.5887 - val_accuracy: 0.2267 - val_loss: -13.6776\n",
      "Epoch 214/500\n",
      "\u001B[1m5/5\u001B[0m \u001B[32m━━━━━━━━━━━━━━━━━━━━\u001B[0m\u001B[37m\u001B[0m \u001B[1m0s\u001B[0m 7ms/step - accuracy: 0.2413 - loss: -14.3725 - val_accuracy: 0.2267 - val_loss: -13.6770\n",
      "Epoch 215/500\n",
      "\u001B[1m5/5\u001B[0m \u001B[32m━━━━━━━━━━━━━━━━━━━━\u001B[0m\u001B[37m\u001B[0m \u001B[1m0s\u001B[0m 7ms/step - accuracy: 0.2227 - loss: -14.3472 - val_accuracy: 0.2267 - val_loss: -13.6762\n",
      "Epoch 216/500\n",
      "\u001B[1m5/5\u001B[0m \u001B[32m━━━━━━━━━━━━━━━━━━━━\u001B[0m\u001B[37m\u001B[0m \u001B[1m0s\u001B[0m 7ms/step - accuracy: 0.2019 - loss: -14.0776 - val_accuracy: 0.2267 - val_loss: -13.6761\n",
      "Epoch 217/500\n",
      "\u001B[1m5/5\u001B[0m \u001B[32m━━━━━━━━━━━━━━━━━━━━\u001B[0m\u001B[37m\u001B[0m \u001B[1m0s\u001B[0m 7ms/step - accuracy: 0.2224 - loss: -14.1763 - val_accuracy: 0.2267 - val_loss: -13.6749\n",
      "Epoch 218/500\n",
      "\u001B[1m5/5\u001B[0m \u001B[32m━━━━━━━━━━━━━━━━━━━━\u001B[0m\u001B[37m\u001B[0m \u001B[1m0s\u001B[0m 7ms/step - accuracy: 0.2132 - loss: -14.1742 - val_accuracy: 0.2267 - val_loss: -13.6750\n",
      "Epoch 219/500\n",
      "\u001B[1m5/5\u001B[0m \u001B[32m━━━━━━━━━━━━━━━━━━━━\u001B[0m\u001B[37m\u001B[0m \u001B[1m0s\u001B[0m 7ms/step - accuracy: 0.2291 - loss: -14.3015 - val_accuracy: 0.2267 - val_loss: -13.6758\n",
      "Epoch 220/500\n",
      "\u001B[1m5/5\u001B[0m \u001B[32m━━━━━━━━━━━━━━━━━━━━\u001B[0m\u001B[37m\u001B[0m \u001B[1m0s\u001B[0m 7ms/step - accuracy: 0.2299 - loss: -14.6840 - val_accuracy: 0.2267 - val_loss: -13.6763\n",
      "Epoch 221/500\n",
      "\u001B[1m5/5\u001B[0m \u001B[32m━━━━━━━━━━━━━━━━━━━━\u001B[0m\u001B[37m\u001B[0m \u001B[1m0s\u001B[0m 7ms/step - accuracy: 0.2319 - loss: -14.2736 - val_accuracy: 0.2267 - val_loss: -13.6768\n",
      "Epoch 222/500\n",
      "\u001B[1m5/5\u001B[0m \u001B[32m━━━━━━━━━━━━━━━━━━━━\u001B[0m\u001B[37m\u001B[0m \u001B[1m0s\u001B[0m 7ms/step - accuracy: 0.2132 - loss: -14.3331 - val_accuracy: 0.2267 - val_loss: -13.6776\n",
      "Epoch 223/500\n",
      "\u001B[1m5/5\u001B[0m \u001B[32m━━━━━━━━━━━━━━━━━━━━\u001B[0m\u001B[37m\u001B[0m \u001B[1m0s\u001B[0m 7ms/step - accuracy: 0.2305 - loss: -14.5983 - val_accuracy: 0.2267 - val_loss: -13.6781\n",
      "Epoch 224/500\n",
      "\u001B[1m5/5\u001B[0m \u001B[32m━━━━━━━━━━━━━━━━━━━━\u001B[0m\u001B[37m\u001B[0m \u001B[1m0s\u001B[0m 7ms/step - accuracy: 0.2199 - loss: -14.2464 - val_accuracy: 0.2267 - val_loss: -13.6779\n",
      "Epoch 225/500\n",
      "\u001B[1m5/5\u001B[0m \u001B[32m━━━━━━━━━━━━━━━━━━━━\u001B[0m\u001B[37m\u001B[0m \u001B[1m0s\u001B[0m 7ms/step - accuracy: 0.2216 - loss: -14.3342 - val_accuracy: 0.2267 - val_loss: -13.6789\n",
      "Epoch 226/500\n",
      "\u001B[1m5/5\u001B[0m \u001B[32m━━━━━━━━━━━━━━━━━━━━\u001B[0m\u001B[37m\u001B[0m \u001B[1m0s\u001B[0m 7ms/step - accuracy: 0.2121 - loss: -14.2774 - val_accuracy: 0.2267 - val_loss: -13.6800\n",
      "Epoch 227/500\n",
      "\u001B[1m5/5\u001B[0m \u001B[32m━━━━━━━━━━━━━━━━━━━━\u001B[0m\u001B[37m\u001B[0m \u001B[1m0s\u001B[0m 7ms/step - accuracy: 0.2271 - loss: -14.2050 - val_accuracy: 0.2267 - val_loss: -13.6807\n",
      "Epoch 228/500\n",
      "\u001B[1m5/5\u001B[0m \u001B[32m━━━━━━━━━━━━━━━━━━━━\u001B[0m\u001B[37m\u001B[0m \u001B[1m0s\u001B[0m 7ms/step - accuracy: 0.1991 - loss: -14.1006 - val_accuracy: 0.2267 - val_loss: -13.6804\n",
      "Epoch 229/500\n",
      "\u001B[1m5/5\u001B[0m \u001B[32m━━━━━━━━━━━━━━━━━━━━\u001B[0m\u001B[37m\u001B[0m \u001B[1m0s\u001B[0m 7ms/step - accuracy: 0.1957 - loss: -13.9044 - val_accuracy: 0.2267 - val_loss: -13.6804\n",
      "Epoch 230/500\n",
      "\u001B[1m5/5\u001B[0m \u001B[32m━━━━━━━━━━━━━━━━━━━━\u001B[0m\u001B[37m\u001B[0m \u001B[1m0s\u001B[0m 7ms/step - accuracy: 0.2185 - loss: -14.0815 - val_accuracy: 0.2267 - val_loss: -13.6801\n",
      "Epoch 231/500\n",
      "\u001B[1m5/5\u001B[0m \u001B[32m━━━━━━━━━━━━━━━━━━━━\u001B[0m\u001B[37m\u001B[0m \u001B[1m0s\u001B[0m 7ms/step - accuracy: 0.2394 - loss: -14.3721 - val_accuracy: 0.2267 - val_loss: -13.6797\n",
      "Epoch 232/500\n",
      "\u001B[1m5/5\u001B[0m \u001B[32m━━━━━━━━━━━━━━━━━━━━\u001B[0m\u001B[37m\u001B[0m \u001B[1m0s\u001B[0m 7ms/step - accuracy: 0.2077 - loss: -14.1429 - val_accuracy: 0.2267 - val_loss: -13.6799\n",
      "Epoch 233/500\n",
      "\u001B[1m5/5\u001B[0m \u001B[32m━━━━━━━━━━━━━━━━━━━━\u001B[0m\u001B[37m\u001B[0m \u001B[1m0s\u001B[0m 7ms/step - accuracy: 0.2430 - loss: -14.5540 - val_accuracy: 0.2267 - val_loss: -13.6790\n",
      "Epoch 234/500\n",
      "\u001B[1m5/5\u001B[0m \u001B[32m━━━━━━━━━━━━━━━━━━━━\u001B[0m\u001B[37m\u001B[0m \u001B[1m0s\u001B[0m 7ms/step - accuracy: 0.2424 - loss: -14.5716 - val_accuracy: 0.2267 - val_loss: -13.6783\n",
      "Epoch 235/500\n",
      "\u001B[1m5/5\u001B[0m \u001B[32m━━━━━━━━━━━━━━━━━━━━\u001B[0m\u001B[37m\u001B[0m \u001B[1m0s\u001B[0m 7ms/step - accuracy: 0.2282 - loss: -14.3083 - val_accuracy: 0.2267 - val_loss: -13.6783\n",
      "Epoch 236/500\n",
      "\u001B[1m5/5\u001B[0m \u001B[32m━━━━━━━━━━━━━━━━━━━━\u001B[0m\u001B[37m\u001B[0m \u001B[1m0s\u001B[0m 7ms/step - accuracy: 0.2407 - loss: -14.8969 - val_accuracy: 0.2267 - val_loss: -13.6779\n",
      "Epoch 237/500\n",
      "\u001B[1m5/5\u001B[0m \u001B[32m━━━━━━━━━━━━━━━━━━━━\u001B[0m\u001B[37m\u001B[0m \u001B[1m0s\u001B[0m 7ms/step - accuracy: 0.2585 - loss: -14.6582 - val_accuracy: 0.2267 - val_loss: -13.6777\n",
      "Epoch 238/500\n",
      "\u001B[1m5/5\u001B[0m \u001B[32m━━━━━━━━━━━━━━━━━━━━\u001B[0m\u001B[37m\u001B[0m \u001B[1m0s\u001B[0m 7ms/step - accuracy: 0.2260 - loss: -14.5161 - val_accuracy: 0.2267 - val_loss: -13.6772\n",
      "Epoch 239/500\n",
      "\u001B[1m5/5\u001B[0m \u001B[32m━━━━━━━━━━━━━━━━━━━━\u001B[0m\u001B[37m\u001B[0m \u001B[1m0s\u001B[0m 7ms/step - accuracy: 0.2049 - loss: -14.4441 - val_accuracy: 0.2267 - val_loss: -13.6775\n",
      "Epoch 240/500\n",
      "\u001B[1m5/5\u001B[0m \u001B[32m━━━━━━━━━━━━━━━━━━━━\u001B[0m\u001B[37m\u001B[0m \u001B[1m0s\u001B[0m 7ms/step - accuracy: 0.2669 - loss: -15.1903 - val_accuracy: 0.2267 - val_loss: -13.6766\n",
      "Epoch 241/500\n",
      "\u001B[1m5/5\u001B[0m \u001B[32m━━━━━━━━━━━━━━━━━━━━\u001B[0m\u001B[37m\u001B[0m \u001B[1m0s\u001B[0m 7ms/step - accuracy: 0.2346 - loss: -14.3343 - val_accuracy: 0.2267 - val_loss: -13.6945\n",
      "Epoch 242/500\n",
      "\u001B[1m5/5\u001B[0m \u001B[32m━━━━━━━━━━━━━━━━━━━━\u001B[0m\u001B[37m\u001B[0m \u001B[1m0s\u001B[0m 7ms/step - accuracy: 0.2155 - loss: -14.3424 - val_accuracy: 0.2267 - val_loss: -13.6951\n",
      "Epoch 243/500\n",
      "\u001B[1m5/5\u001B[0m \u001B[32m━━━━━━━━━━━━━━━━━━━━\u001B[0m\u001B[37m\u001B[0m \u001B[1m0s\u001B[0m 7ms/step - accuracy: 0.2335 - loss: -14.6555 - val_accuracy: 0.2267 - val_loss: -13.6963\n",
      "Epoch 244/500\n",
      "\u001B[1m5/5\u001B[0m \u001B[32m━━━━━━━━━━━━━━━━━━━━\u001B[0m\u001B[37m\u001B[0m \u001B[1m0s\u001B[0m 7ms/step - accuracy: 0.2327 - loss: -14.7833 - val_accuracy: 0.2267 - val_loss: -13.6974\n",
      "Epoch 245/500\n",
      "\u001B[1m5/5\u001B[0m \u001B[32m━━━━━━━━━━━━━━━━━━━━\u001B[0m\u001B[37m\u001B[0m \u001B[1m0s\u001B[0m 7ms/step - accuracy: 0.2294 - loss: -14.2465 - val_accuracy: 0.2267 - val_loss: -13.6988\n",
      "Epoch 246/500\n",
      "\u001B[1m5/5\u001B[0m \u001B[32m━━━━━━━━━━━━━━━━━━━━\u001B[0m\u001B[37m\u001B[0m \u001B[1m0s\u001B[0m 7ms/step - accuracy: 0.2232 - loss: -14.4565 - val_accuracy: 0.2267 - val_loss: -13.6999\n",
      "Epoch 247/500\n",
      "\u001B[1m5/5\u001B[0m \u001B[32m━━━━━━━━━━━━━━━━━━━━\u001B[0m\u001B[37m\u001B[0m \u001B[1m0s\u001B[0m 7ms/step - accuracy: 0.2341 - loss: -14.1795 - val_accuracy: 0.2267 - val_loss: -13.7009\n",
      "Epoch 248/500\n",
      "\u001B[1m5/5\u001B[0m \u001B[32m━━━━━━━━━━━━━━━━━━━━\u001B[0m\u001B[37m\u001B[0m \u001B[1m0s\u001B[0m 7ms/step - accuracy: 0.2307 - loss: -14.3143 - val_accuracy: 0.2267 - val_loss: -13.7163\n",
      "Epoch 249/500\n",
      "\u001B[1m5/5\u001B[0m \u001B[32m━━━━━━━━━━━━━━━━━━━━\u001B[0m\u001B[37m\u001B[0m \u001B[1m0s\u001B[0m 7ms/step - accuracy: 0.2177 - loss: -14.2781 - val_accuracy: 0.2267 - val_loss: -13.7184\n",
      "Epoch 250/500\n",
      "\u001B[1m5/5\u001B[0m \u001B[32m━━━━━━━━━━━━━━━━━━━━\u001B[0m\u001B[37m\u001B[0m \u001B[1m0s\u001B[0m 7ms/step - accuracy: 0.2210 - loss: -14.6504 - val_accuracy: 0.2267 - val_loss: -13.7195\n",
      "Epoch 251/500\n",
      "\u001B[1m5/5\u001B[0m \u001B[32m━━━━━━━━━━━━━━━━━━━━\u001B[0m\u001B[37m\u001B[0m \u001B[1m0s\u001B[0m 7ms/step - accuracy: 0.2182 - loss: -14.3369 - val_accuracy: 0.2267 - val_loss: -13.7307\n",
      "Epoch 252/500\n",
      "\u001B[1m5/5\u001B[0m \u001B[32m━━━━━━━━━━━━━━━━━━━━\u001B[0m\u001B[37m\u001B[0m \u001B[1m0s\u001B[0m 7ms/step - accuracy: 0.2235 - loss: -14.2444 - val_accuracy: 0.2267 - val_loss: -13.7337\n",
      "Epoch 253/500\n",
      "\u001B[1m5/5\u001B[0m \u001B[32m━━━━━━━━━━━━━━━━━━━━\u001B[0m\u001B[37m\u001B[0m \u001B[1m0s\u001B[0m 7ms/step - accuracy: 0.1932 - loss: -14.2896 - val_accuracy: 0.2267 - val_loss: -13.7339\n",
      "Epoch 254/500\n",
      "\u001B[1m5/5\u001B[0m \u001B[32m━━━━━━━━━━━━━━━━━━━━\u001B[0m\u001B[37m\u001B[0m \u001B[1m0s\u001B[0m 7ms/step - accuracy: 0.2624 - loss: -14.8134 - val_accuracy: 0.2267 - val_loss: -13.7426\n",
      "Epoch 255/500\n",
      "\u001B[1m5/5\u001B[0m \u001B[32m━━━━━━━━━━━━━━━━━━━━\u001B[0m\u001B[37m\u001B[0m \u001B[1m0s\u001B[0m 7ms/step - accuracy: 0.2255 - loss: -14.3159 - val_accuracy: 0.2267 - val_loss: -13.7419\n",
      "Epoch 256/500\n",
      "\u001B[1m5/5\u001B[0m \u001B[32m━━━━━━━━━━━━━━━━━━━━\u001B[0m\u001B[37m\u001B[0m \u001B[1m0s\u001B[0m 7ms/step - accuracy: 0.2191 - loss: -14.4294 - val_accuracy: 0.2267 - val_loss: -13.7429\n",
      "Epoch 257/500\n",
      "\u001B[1m5/5\u001B[0m \u001B[32m━━━━━━━━━━━━━━━━━━━━\u001B[0m\u001B[37m\u001B[0m \u001B[1m0s\u001B[0m 7ms/step - accuracy: 0.2641 - loss: -14.1758 - val_accuracy: 0.2267 - val_loss: -13.7498\n",
      "Epoch 258/500\n",
      "\u001B[1m5/5\u001B[0m \u001B[32m━━━━━━━━━━━━━━━━━━━━\u001B[0m\u001B[37m\u001B[0m \u001B[1m0s\u001B[0m 7ms/step - accuracy: 0.2324 - loss: -14.6077 - val_accuracy: 0.2267 - val_loss: -13.7558\n",
      "Epoch 259/500\n",
      "\u001B[1m5/5\u001B[0m \u001B[32m━━━━━━━━━━━━━━━━━━━━\u001B[0m\u001B[37m\u001B[0m \u001B[1m0s\u001B[0m 7ms/step - accuracy: 0.2385 - loss: -14.6980 - val_accuracy: 0.2267 - val_loss: -13.7577\n",
      "Epoch 260/500\n",
      "\u001B[1m5/5\u001B[0m \u001B[32m━━━━━━━━━━━━━━━━━━━━\u001B[0m\u001B[37m\u001B[0m \u001B[1m0s\u001B[0m 7ms/step - accuracy: 0.2566 - loss: -14.5842 - val_accuracy: 0.2267 - val_loss: -13.7642\n",
      "Epoch 261/500\n",
      "\u001B[1m5/5\u001B[0m \u001B[32m━━━━━━━━━━━━━━━━━━━━\u001B[0m\u001B[37m\u001B[0m \u001B[1m0s\u001B[0m 7ms/step - accuracy: 0.2271 - loss: -14.6184 - val_accuracy: 0.2267 - val_loss: -13.7644\n",
      "Epoch 262/500\n",
      "\u001B[1m5/5\u001B[0m \u001B[32m━━━━━━━━━━━━━━━━━━━━\u001B[0m\u001B[37m\u001B[0m \u001B[1m0s\u001B[0m 7ms/step - accuracy: 0.2216 - loss: -14.6057 - val_accuracy: 0.2267 - val_loss: -13.7691\n",
      "Epoch 263/500\n",
      "\u001B[1m5/5\u001B[0m \u001B[32m━━━━━━━━━━━━━━━━━━━━\u001B[0m\u001B[37m\u001B[0m \u001B[1m0s\u001B[0m 7ms/step - accuracy: 0.2332 - loss: -15.0278 - val_accuracy: 0.2267 - val_loss: -13.7738\n",
      "Epoch 264/500\n",
      "\u001B[1m5/5\u001B[0m \u001B[32m━━━━━━━━━━━━━━━━━━━━\u001B[0m\u001B[37m\u001B[0m \u001B[1m0s\u001B[0m 7ms/step - accuracy: 0.2532 - loss: -14.6747 - val_accuracy: 0.2267 - val_loss: -13.7727\n",
      "Epoch 265/500\n",
      "\u001B[1m5/5\u001B[0m \u001B[32m━━━━━━━━━━━━━━━━━━━━\u001B[0m\u001B[37m\u001B[0m \u001B[1m0s\u001B[0m 7ms/step - accuracy: 0.2071 - loss: -14.4377 - val_accuracy: 0.2267 - val_loss: -13.7779\n",
      "Epoch 266/500\n",
      "\u001B[1m5/5\u001B[0m \u001B[32m━━━━━━━━━━━━━━━━━━━━\u001B[0m\u001B[37m\u001B[0m \u001B[1m0s\u001B[0m 7ms/step - accuracy: 0.2310 - loss: -14.7374 - val_accuracy: 0.2267 - val_loss: -13.7817\n",
      "Epoch 267/500\n",
      "\u001B[1m5/5\u001B[0m \u001B[32m━━━━━━━━━━━━━━━━━━━━\u001B[0m\u001B[37m\u001B[0m \u001B[1m0s\u001B[0m 7ms/step - accuracy: 0.2399 - loss: -14.7804 - val_accuracy: 0.2267 - val_loss: -13.7856\n",
      "Epoch 268/500\n",
      "\u001B[1m5/5\u001B[0m \u001B[32m━━━━━━━━━━━━━━━━━━━━\u001B[0m\u001B[37m\u001B[0m \u001B[1m0s\u001B[0m 6ms/step - accuracy: 0.2060 - loss: -14.7323 - val_accuracy: 0.2267 - val_loss: -13.7900\n",
      "Epoch 269/500\n",
      "\u001B[1m5/5\u001B[0m \u001B[32m━━━━━━━━━━━━━━━━━━━━\u001B[0m\u001B[37m\u001B[0m \u001B[1m0s\u001B[0m 7ms/step - accuracy: 0.2380 - loss: -14.6522 - val_accuracy: 0.2267 - val_loss: -13.7930\n",
      "Epoch 270/500\n",
      "\u001B[1m5/5\u001B[0m \u001B[32m━━━━━━━━━━━━━━━━━━━━\u001B[0m\u001B[37m\u001B[0m \u001B[1m0s\u001B[0m 7ms/step - accuracy: 0.2102 - loss: -14.5873 - val_accuracy: 0.2267 - val_loss: -13.7961\n",
      "Epoch 271/500\n",
      "\u001B[1m5/5\u001B[0m \u001B[32m━━━━━━━━━━━━━━━━━━━━\u001B[0m\u001B[37m\u001B[0m \u001B[1m0s\u001B[0m 9ms/step - accuracy: 0.2257 - loss: -14.5828 - val_accuracy: 0.2267 - val_loss: -13.7997\n",
      "Epoch 272/500\n",
      "\u001B[1m5/5\u001B[0m \u001B[32m━━━━━━━━━━━━━━━━━━━━\u001B[0m\u001B[37m\u001B[0m \u001B[1m0s\u001B[0m 8ms/step - accuracy: 0.2188 - loss: -14.3944 - val_accuracy: 0.2267 - val_loss: -13.8027\n",
      "Epoch 273/500\n",
      "\u001B[1m5/5\u001B[0m \u001B[32m━━━━━━━━━━━━━━━━━━━━\u001B[0m\u001B[37m\u001B[0m \u001B[1m0s\u001B[0m 8ms/step - accuracy: 0.2060 - loss: -14.4262 - val_accuracy: 0.2267 - val_loss: -13.8093\n",
      "Epoch 274/500\n",
      "\u001B[1m5/5\u001B[0m \u001B[32m━━━━━━━━━━━━━━━━━━━━\u001B[0m\u001B[37m\u001B[0m \u001B[1m0s\u001B[0m 9ms/step - accuracy: 0.2366 - loss: -14.7313 - val_accuracy: 0.2267 - val_loss: -13.8124\n",
      "Epoch 275/500\n",
      "\u001B[1m5/5\u001B[0m \u001B[32m━━━━━━━━━━━━━━━━━━━━\u001B[0m\u001B[37m\u001B[0m \u001B[1m0s\u001B[0m 10ms/step - accuracy: 0.2313 - loss: -14.5941 - val_accuracy: 0.2267 - val_loss: -13.8171\n",
      "Epoch 276/500\n",
      "\u001B[1m5/5\u001B[0m \u001B[32m━━━━━━━━━━━━━━━━━━━━\u001B[0m\u001B[37m\u001B[0m \u001B[1m0s\u001B[0m 8ms/step - accuracy: 0.2438 - loss: -14.5169 - val_accuracy: 0.2267 - val_loss: -13.8240\n",
      "Epoch 277/500\n",
      "\u001B[1m5/5\u001B[0m \u001B[32m━━━━━━━━━━━━━━━━━━━━\u001B[0m\u001B[37m\u001B[0m \u001B[1m0s\u001B[0m 8ms/step - accuracy: 0.2338 - loss: -14.4998 - val_accuracy: 0.2267 - val_loss: -13.8282\n",
      "Epoch 278/500\n",
      "\u001B[1m5/5\u001B[0m \u001B[32m━━━━━━━━━━━━━━━━━━━━\u001B[0m\u001B[37m\u001B[0m \u001B[1m0s\u001B[0m 9ms/step - accuracy: 0.2591 - loss: -14.9179 - val_accuracy: 0.2267 - val_loss: -13.8345\n",
      "Epoch 279/500\n",
      "\u001B[1m5/5\u001B[0m \u001B[32m━━━━━━━━━━━━━━━━━━━━\u001B[0m\u001B[37m\u001B[0m \u001B[1m0s\u001B[0m 8ms/step - accuracy: 0.2474 - loss: -14.8336 - val_accuracy: 0.2267 - val_loss: -13.8401\n",
      "Epoch 280/500\n",
      "\u001B[1m5/5\u001B[0m \u001B[32m━━━━━━━━━━━━━━━━━━━━\u001B[0m\u001B[37m\u001B[0m \u001B[1m0s\u001B[0m 7ms/step - accuracy: 0.2560 - loss: -15.1688 - val_accuracy: 0.2267 - val_loss: -13.8479\n",
      "Epoch 281/500\n",
      "\u001B[1m5/5\u001B[0m \u001B[32m━━━━━━━━━━━━━━━━━━━━\u001B[0m\u001B[37m\u001B[0m \u001B[1m0s\u001B[0m 7ms/step - accuracy: 0.2360 - loss: -14.3417 - val_accuracy: 0.2267 - val_loss: -13.8553\n",
      "Epoch 282/500\n",
      "\u001B[1m5/5\u001B[0m \u001B[32m━━━━━━━━━━━━━━━━━━━━\u001B[0m\u001B[37m\u001B[0m \u001B[1m0s\u001B[0m 7ms/step - accuracy: 0.2427 - loss: -14.2800 - val_accuracy: 0.2267 - val_loss: -13.8645\n",
      "Epoch 283/500\n",
      "\u001B[1m5/5\u001B[0m \u001B[32m━━━━━━━━━━━━━━━━━━━━\u001B[0m\u001B[37m\u001B[0m \u001B[1m0s\u001B[0m 7ms/step - accuracy: 0.2252 - loss: -14.2865 - val_accuracy: 0.2267 - val_loss: -13.8735\n",
      "Epoch 284/500\n",
      "\u001B[1m5/5\u001B[0m \u001B[32m━━━━━━━━━━━━━━━━━━━━\u001B[0m\u001B[37m\u001B[0m \u001B[1m0s\u001B[0m 7ms/step - accuracy: 0.2124 - loss: -14.5937 - val_accuracy: 0.2267 - val_loss: -13.8809\n",
      "Epoch 285/500\n",
      "\u001B[1m5/5\u001B[0m \u001B[32m━━━━━━━━━━━━━━━━━━━━\u001B[0m\u001B[37m\u001B[0m \u001B[1m0s\u001B[0m 7ms/step - accuracy: 0.2596 - loss: -14.7320 - val_accuracy: 0.2267 - val_loss: -13.8892\n",
      "Epoch 286/500\n",
      "\u001B[1m5/5\u001B[0m \u001B[32m━━━━━━━━━━━━━━━━━━━━\u001B[0m\u001B[37m\u001B[0m \u001B[1m0s\u001B[0m 7ms/step - accuracy: 0.2349 - loss: -14.6833 - val_accuracy: 0.2267 - val_loss: -13.8958\n",
      "Epoch 287/500\n",
      "\u001B[1m5/5\u001B[0m \u001B[32m━━━━━━━━━━━━━━━━━━━━\u001B[0m\u001B[37m\u001B[0m \u001B[1m0s\u001B[0m 7ms/step - accuracy: 0.2219 - loss: -14.6549 - val_accuracy: 0.2267 - val_loss: -13.9004\n",
      "Epoch 288/500\n",
      "\u001B[1m5/5\u001B[0m \u001B[32m━━━━━━━━━━━━━━━━━━━━\u001B[0m\u001B[37m\u001B[0m \u001B[1m0s\u001B[0m 7ms/step - accuracy: 0.2435 - loss: -14.7652 - val_accuracy: 0.2267 - val_loss: -13.9084\n",
      "Epoch 289/500\n",
      "\u001B[1m5/5\u001B[0m \u001B[32m━━━━━━━━━━━━━━━━━━━━\u001B[0m\u001B[37m\u001B[0m \u001B[1m0s\u001B[0m 7ms/step - accuracy: 0.2363 - loss: -14.8408 - val_accuracy: 0.2267 - val_loss: -13.9152\n",
      "Epoch 290/500\n",
      "\u001B[1m5/5\u001B[0m \u001B[32m━━━━━━━━━━━━━━━━━━━━\u001B[0m\u001B[37m\u001B[0m \u001B[1m0s\u001B[0m 7ms/step - accuracy: 0.2121 - loss: -14.7890 - val_accuracy: 0.2267 - val_loss: -13.9191\n",
      "Epoch 291/500\n",
      "\u001B[1m5/5\u001B[0m \u001B[32m━━━━━━━━━━━━━━━━━━━━\u001B[0m\u001B[37m\u001B[0m \u001B[1m0s\u001B[0m 7ms/step - accuracy: 0.2744 - loss: -14.9347 - val_accuracy: 0.2267 - val_loss: -13.9258\n",
      "Epoch 292/500\n",
      "\u001B[1m5/5\u001B[0m \u001B[32m━━━━━━━━━━━━━━━━━━━━\u001B[0m\u001B[37m\u001B[0m \u001B[1m0s\u001B[0m 7ms/step - accuracy: 0.2321 - loss: -14.5996 - val_accuracy: 0.2267 - val_loss: -13.9306\n",
      "Epoch 293/500\n",
      "\u001B[1m5/5\u001B[0m \u001B[32m━━━━━━━━━━━━━━━━━━━━\u001B[0m\u001B[37m\u001B[0m \u001B[1m0s\u001B[0m 7ms/step - accuracy: 0.2491 - loss: -14.9198 - val_accuracy: 0.2267 - val_loss: -13.9348\n",
      "Epoch 294/500\n",
      "\u001B[1m5/5\u001B[0m \u001B[32m━━━━━━━━━━━━━━━━━━━━\u001B[0m\u001B[37m\u001B[0m \u001B[1m0s\u001B[0m 7ms/step - accuracy: 0.2571 - loss: -15.1904 - val_accuracy: 0.2267 - val_loss: -13.9408\n",
      "Epoch 295/500\n",
      "\u001B[1m5/5\u001B[0m \u001B[32m━━━━━━━━━━━━━━━━━━━━\u001B[0m\u001B[37m\u001B[0m \u001B[1m0s\u001B[0m 7ms/step - accuracy: 0.2410 - loss: -15.1356 - val_accuracy: 0.2267 - val_loss: -13.9463\n",
      "Epoch 296/500\n",
      "\u001B[1m5/5\u001B[0m \u001B[32m━━━━━━━━━━━━━━━━━━━━\u001B[0m\u001B[37m\u001B[0m \u001B[1m0s\u001B[0m 7ms/step - accuracy: 0.2327 - loss: -14.9890 - val_accuracy: 0.2267 - val_loss: -13.9519\n",
      "Epoch 297/500\n",
      "\u001B[1m5/5\u001B[0m \u001B[32m━━━━━━━━━━━━━━━━━━━━\u001B[0m\u001B[37m\u001B[0m \u001B[1m0s\u001B[0m 6ms/step - accuracy: 0.2363 - loss: -14.6625 - val_accuracy: 0.2267 - val_loss: -13.9571\n",
      "Epoch 298/500\n",
      "\u001B[1m5/5\u001B[0m \u001B[32m━━━━━━━━━━━━━━━━━━━━\u001B[0m\u001B[37m\u001B[0m \u001B[1m0s\u001B[0m 7ms/step - accuracy: 0.1969 - loss: -14.6335 - val_accuracy: 0.2267 - val_loss: -13.9625\n",
      "Epoch 299/500\n",
      "\u001B[1m5/5\u001B[0m \u001B[32m━━━━━━━━━━━━━━━━━━━━\u001B[0m\u001B[37m\u001B[0m \u001B[1m0s\u001B[0m 7ms/step - accuracy: 0.2130 - loss: -14.6973 - val_accuracy: 0.2267 - val_loss: -13.9678\n",
      "Epoch 300/500\n",
      "\u001B[1m5/5\u001B[0m \u001B[32m━━━━━━━━━━━━━━━━━━━━\u001B[0m\u001B[37m\u001B[0m \u001B[1m0s\u001B[0m 7ms/step - accuracy: 0.2460 - loss: -15.0033 - val_accuracy: 0.2267 - val_loss: -13.9731\n",
      "Epoch 301/500\n",
      "\u001B[1m5/5\u001B[0m \u001B[32m━━━━━━━━━━━━━━━━━━━━\u001B[0m\u001B[37m\u001B[0m \u001B[1m0s\u001B[0m 7ms/step - accuracy: 0.2332 - loss: -14.9661 - val_accuracy: 0.2267 - val_loss: -13.9776\n",
      "Epoch 302/500\n",
      "\u001B[1m5/5\u001B[0m \u001B[32m━━━━━━━━━━━━━━━━━━━━\u001B[0m\u001B[37m\u001B[0m \u001B[1m0s\u001B[0m 7ms/step - accuracy: 0.2435 - loss: -15.0582 - val_accuracy: 0.2267 - val_loss: -13.9829\n",
      "Epoch 303/500\n",
      "\u001B[1m5/5\u001B[0m \u001B[32m━━━━━━━━━━━━━━━━━━━━\u001B[0m\u001B[37m\u001B[0m \u001B[1m0s\u001B[0m 7ms/step - accuracy: 0.2638 - loss: -15.2400 - val_accuracy: 0.2267 - val_loss: -13.9908\n",
      "Epoch 304/500\n",
      "\u001B[1m5/5\u001B[0m \u001B[32m━━━━━━━━━━━━━━━━━━━━\u001B[0m\u001B[37m\u001B[0m \u001B[1m0s\u001B[0m 7ms/step - accuracy: 0.2510 - loss: -14.6257 - val_accuracy: 0.2267 - val_loss: -13.9967\n",
      "Epoch 305/500\n",
      "\u001B[1m5/5\u001B[0m \u001B[32m━━━━━━━━━━━━━━━━━━━━\u001B[0m\u001B[37m\u001B[0m \u001B[1m0s\u001B[0m 7ms/step - accuracy: 0.2535 - loss: -15.1074 - val_accuracy: 0.2267 - val_loss: -14.0033\n",
      "Epoch 306/500\n",
      "\u001B[1m5/5\u001B[0m \u001B[32m━━━━━━━━━━━━━━━━━━━━\u001B[0m\u001B[37m\u001B[0m \u001B[1m0s\u001B[0m 7ms/step - accuracy: 0.2019 - loss: -14.6015 - val_accuracy: 0.2267 - val_loss: -14.0095\n",
      "Epoch 307/500\n",
      "\u001B[1m5/5\u001B[0m \u001B[32m━━━━━━━━━━━━━━━━━━━━\u001B[0m\u001B[37m\u001B[0m \u001B[1m0s\u001B[0m 7ms/step - accuracy: 0.2432 - loss: -14.7024 - val_accuracy: 0.2267 - val_loss: -14.0154\n",
      "Epoch 308/500\n",
      "\u001B[1m5/5\u001B[0m \u001B[32m━━━━━━━━━━━━━━━━━━━━\u001B[0m\u001B[37m\u001B[0m \u001B[1m0s\u001B[0m 8ms/step - accuracy: 0.2480 - loss: -14.9610 - val_accuracy: 0.2267 - val_loss: -14.0209\n",
      "Epoch 309/500\n",
      "\u001B[1m5/5\u001B[0m \u001B[32m━━━━━━━━━━━━━━━━━━━━\u001B[0m\u001B[37m\u001B[0m \u001B[1m0s\u001B[0m 7ms/step - accuracy: 0.2341 - loss: -15.3067 - val_accuracy: 0.2267 - val_loss: -14.0264\n",
      "Epoch 310/500\n",
      "\u001B[1m5/5\u001B[0m \u001B[32m━━━━━━━━━━━━━━━━━━━━\u001B[0m\u001B[37m\u001B[0m \u001B[1m0s\u001B[0m 7ms/step - accuracy: 0.2277 - loss: -14.3619 - val_accuracy: 0.2267 - val_loss: -14.0383\n",
      "Epoch 311/500\n",
      "\u001B[1m5/5\u001B[0m \u001B[32m━━━━━━━━━━━━━━━━━━━━\u001B[0m\u001B[37m\u001B[0m \u001B[1m0s\u001B[0m 7ms/step - accuracy: 0.2155 - loss: -14.8559 - val_accuracy: 0.2267 - val_loss: -14.0468\n",
      "Epoch 312/500\n",
      "\u001B[1m5/5\u001B[0m \u001B[32m━━━━━━━━━━━━━━━━━━━━\u001B[0m\u001B[37m\u001B[0m \u001B[1m0s\u001B[0m 7ms/step - accuracy: 0.2371 - loss: -15.1953 - val_accuracy: 0.2267 - val_loss: -14.0546\n",
      "Epoch 313/500\n",
      "\u001B[1m5/5\u001B[0m \u001B[32m━━━━━━━━━━━━━━━━━━━━\u001B[0m\u001B[37m\u001B[0m \u001B[1m0s\u001B[0m 7ms/step - accuracy: 0.2410 - loss: -15.1078 - val_accuracy: 0.2267 - val_loss: -14.0589\n",
      "Epoch 314/500\n",
      "\u001B[1m5/5\u001B[0m \u001B[32m━━━━━━━━━━━━━━━━━━━━\u001B[0m\u001B[37m\u001B[0m \u001B[1m0s\u001B[0m 7ms/step - accuracy: 0.2424 - loss: -14.8985 - val_accuracy: 0.2267 - val_loss: -14.0635\n",
      "Epoch 315/500\n",
      "\u001B[1m5/5\u001B[0m \u001B[32m━━━━━━━━━━━━━━━━━━━━\u001B[0m\u001B[37m\u001B[0m \u001B[1m0s\u001B[0m 7ms/step - accuracy: 0.2155 - loss: -14.6354 - val_accuracy: 0.2267 - val_loss: -14.0696\n",
      "Epoch 316/500\n",
      "\u001B[1m5/5\u001B[0m \u001B[32m━━━━━━━━━━━━━━━━━━━━\u001B[0m\u001B[37m\u001B[0m \u001B[1m0s\u001B[0m 7ms/step - accuracy: 0.2135 - loss: -14.8775 - val_accuracy: 0.2267 - val_loss: -14.0757\n",
      "Epoch 317/500\n",
      "\u001B[1m5/5\u001B[0m \u001B[32m━━━━━━━━━━━━━━━━━━━━\u001B[0m\u001B[37m\u001B[0m \u001B[1m0s\u001B[0m 7ms/step - accuracy: 0.2346 - loss: -14.8830 - val_accuracy: 0.2267 - val_loss: -14.0804\n",
      "Epoch 318/500\n",
      "\u001B[1m5/5\u001B[0m \u001B[32m━━━━━━━━━━━━━━━━━━━━\u001B[0m\u001B[37m\u001B[0m \u001B[1m0s\u001B[0m 7ms/step - accuracy: 0.2196 - loss: -14.8300 - val_accuracy: 0.2267 - val_loss: -14.0848\n",
      "Epoch 319/500\n",
      "\u001B[1m5/5\u001B[0m \u001B[32m━━━━━━━━━━━━━━━━━━━━\u001B[0m\u001B[37m\u001B[0m \u001B[1m0s\u001B[0m 7ms/step - accuracy: 0.2327 - loss: -15.1246 - val_accuracy: 0.2267 - val_loss: -14.0904\n",
      "Epoch 320/500\n",
      "\u001B[1m5/5\u001B[0m \u001B[32m━━━━━━━━━━━━━━━━━━━━\u001B[0m\u001B[37m\u001B[0m \u001B[1m0s\u001B[0m 7ms/step - accuracy: 0.2230 - loss: -14.7002 - val_accuracy: 0.2267 - val_loss: -14.0973\n",
      "Epoch 321/500\n",
      "\u001B[1m5/5\u001B[0m \u001B[32m━━━━━━━━━━━━━━━━━━━━\u001B[0m\u001B[37m\u001B[0m \u001B[1m0s\u001B[0m 8ms/step - accuracy: 0.2171 - loss: -15.0819 - val_accuracy: 0.2267 - val_loss: -14.0999\n",
      "Epoch 322/500\n",
      "\u001B[1m5/5\u001B[0m \u001B[32m━━━━━━━━━━━━━━━━━━━━\u001B[0m\u001B[37m\u001B[0m \u001B[1m0s\u001B[0m 7ms/step - accuracy: 0.2119 - loss: -14.6297 - val_accuracy: 0.2267 - val_loss: -14.1041\n",
      "Epoch 323/500\n",
      "\u001B[1m5/5\u001B[0m \u001B[32m━━━━━━━━━━━━━━━━━━━━\u001B[0m\u001B[37m\u001B[0m \u001B[1m0s\u001B[0m 7ms/step - accuracy: 0.2438 - loss: -15.1471 - val_accuracy: 0.2267 - val_loss: -14.1082\n",
      "Epoch 324/500\n",
      "\u001B[1m5/5\u001B[0m \u001B[32m━━━━━━━━━━━━━━━━━━━━\u001B[0m\u001B[37m\u001B[0m \u001B[1m0s\u001B[0m 7ms/step - accuracy: 0.2255 - loss: -15.0946 - val_accuracy: 0.2267 - val_loss: -14.1130\n",
      "Epoch 325/500\n",
      "\u001B[1m5/5\u001B[0m \u001B[32m━━━━━━━━━━━━━━━━━━━━\u001B[0m\u001B[37m\u001B[0m \u001B[1m0s\u001B[0m 7ms/step - accuracy: 0.2099 - loss: -15.0308 - val_accuracy: 0.2267 - val_loss: -14.1174\n",
      "Epoch 326/500\n",
      "\u001B[1m5/5\u001B[0m \u001B[32m━━━━━━━━━━━━━━━━━━━━\u001B[0m\u001B[37m\u001B[0m \u001B[1m0s\u001B[0m 7ms/step - accuracy: 0.2410 - loss: -15.3396 - val_accuracy: 0.2267 - val_loss: -14.1245\n",
      "Epoch 327/500\n",
      "\u001B[1m5/5\u001B[0m \u001B[32m━━━━━━━━━━━━━━━━━━━━\u001B[0m\u001B[37m\u001B[0m \u001B[1m0s\u001B[0m 7ms/step - accuracy: 0.2382 - loss: -14.8864 - val_accuracy: 0.2267 - val_loss: -14.1292\n",
      "Epoch 328/500\n",
      "\u001B[1m5/5\u001B[0m \u001B[32m━━━━━━━━━━━━━━━━━━━━\u001B[0m\u001B[37m\u001B[0m \u001B[1m0s\u001B[0m 7ms/step - accuracy: 0.2441 - loss: -15.2496 - val_accuracy: 0.2267 - val_loss: -14.1347\n",
      "Epoch 329/500\n",
      "\u001B[1m5/5\u001B[0m \u001B[32m━━━━━━━━━━━━━━━━━━━━\u001B[0m\u001B[37m\u001B[0m \u001B[1m0s\u001B[0m 7ms/step - accuracy: 0.2057 - loss: -14.7282 - val_accuracy: 0.2267 - val_loss: -14.1384\n",
      "Epoch 330/500\n",
      "\u001B[1m5/5\u001B[0m \u001B[32m━━━━━━━━━━━━━━━━━━━━\u001B[0m\u001B[37m\u001B[0m \u001B[1m0s\u001B[0m 7ms/step - accuracy: 0.2299 - loss: -15.1925 - val_accuracy: 0.2267 - val_loss: -14.1426\n",
      "Epoch 331/500\n",
      "\u001B[1m5/5\u001B[0m \u001B[32m━━━━━━━━━━━━━━━━━━━━\u001B[0m\u001B[37m\u001B[0m \u001B[1m0s\u001B[0m 7ms/step - accuracy: 0.2241 - loss: -15.0309 - val_accuracy: 0.2267 - val_loss: -14.1469\n",
      "Epoch 332/500\n",
      "\u001B[1m5/5\u001B[0m \u001B[32m━━━━━━━━━━━━━━━━━━━━\u001B[0m\u001B[37m\u001B[0m \u001B[1m0s\u001B[0m 6ms/step - accuracy: 0.2216 - loss: -14.7438 - val_accuracy: 0.2267 - val_loss: -14.1488\n",
      "Epoch 333/500\n",
      "\u001B[1m5/5\u001B[0m \u001B[32m━━━━━━━━━━━━━━━━━━━━\u001B[0m\u001B[37m\u001B[0m \u001B[1m0s\u001B[0m 7ms/step - accuracy: 0.2141 - loss: -14.9746 - val_accuracy: 0.2267 - val_loss: -14.1557\n",
      "Epoch 334/500\n",
      "\u001B[1m5/5\u001B[0m \u001B[32m━━━━━━━━━━━━━━━━━━━━\u001B[0m\u001B[37m\u001B[0m \u001B[1m0s\u001B[0m 7ms/step - accuracy: 0.2444 - loss: -15.1817 - val_accuracy: 0.2267 - val_loss: -14.1601\n",
      "Epoch 335/500\n",
      "\u001B[1m5/5\u001B[0m \u001B[32m━━━━━━━━━━━━━━━━━━━━\u001B[0m\u001B[37m\u001B[0m \u001B[1m0s\u001B[0m 8ms/step - accuracy: 0.2130 - loss: -15.0782 - val_accuracy: 0.2267 - val_loss: -14.1659\n",
      "Epoch 336/500\n",
      "\u001B[1m5/5\u001B[0m \u001B[32m━━━━━━━━━━━━━━━━━━━━\u001B[0m\u001B[37m\u001B[0m \u001B[1m0s\u001B[0m 8ms/step - accuracy: 0.2038 - loss: -14.7241 - val_accuracy: 0.2267 - val_loss: -14.1715\n",
      "Epoch 337/500\n",
      "\u001B[1m5/5\u001B[0m \u001B[32m━━━━━━━━━━━━━━━━━━━━\u001B[0m\u001B[37m\u001B[0m \u001B[1m0s\u001B[0m 7ms/step - accuracy: 0.2032 - loss: -14.6100 - val_accuracy: 0.2267 - val_loss: -14.1793\n",
      "Epoch 338/500\n",
      "\u001B[1m5/5\u001B[0m \u001B[32m━━━━━━━━━━━━━━━━━━━━\u001B[0m\u001B[37m\u001B[0m \u001B[1m0s\u001B[0m 7ms/step - accuracy: 0.2291 - loss: -15.0845 - val_accuracy: 0.2267 - val_loss: -14.1835\n",
      "Epoch 339/500\n",
      "\u001B[1m5/5\u001B[0m \u001B[32m━━━━━━━━━━━━━━━━━━━━\u001B[0m\u001B[37m\u001B[0m \u001B[1m0s\u001B[0m 7ms/step - accuracy: 0.2177 - loss: -14.8779 - val_accuracy: 0.2267 - val_loss: -14.1902\n",
      "Epoch 340/500\n",
      "\u001B[1m5/5\u001B[0m \u001B[32m━━━━━━━━━━━━━━━━━━━━\u001B[0m\u001B[37m\u001B[0m \u001B[1m0s\u001B[0m 6ms/step - accuracy: 0.2444 - loss: -15.3353 - val_accuracy: 0.2267 - val_loss: -14.2005\n",
      "Epoch 341/500\n",
      "\u001B[1m5/5\u001B[0m \u001B[32m━━━━━━━━━━━━━━━━━━━━\u001B[0m\u001B[37m\u001B[0m \u001B[1m0s\u001B[0m 7ms/step - accuracy: 0.2252 - loss: -14.8128 - val_accuracy: 0.2267 - val_loss: -14.2112\n",
      "Epoch 342/500\n",
      "\u001B[1m5/5\u001B[0m \u001B[32m━━━━━━━━━━━━━━━━━━━━\u001B[0m\u001B[37m\u001B[0m \u001B[1m0s\u001B[0m 7ms/step - accuracy: 0.2271 - loss: -15.1914 - val_accuracy: 0.2267 - val_loss: -14.2191\n",
      "Epoch 343/500\n",
      "\u001B[1m5/5\u001B[0m \u001B[32m━━━━━━━━━━━━━━━━━━━━\u001B[0m\u001B[37m\u001B[0m \u001B[1m0s\u001B[0m 7ms/step - accuracy: 0.2335 - loss: -14.9778 - val_accuracy: 0.2267 - val_loss: -14.2255\n",
      "Epoch 344/500\n",
      "\u001B[1m5/5\u001B[0m \u001B[32m━━━━━━━━━━━━━━━━━━━━\u001B[0m\u001B[37m\u001B[0m \u001B[1m0s\u001B[0m 7ms/step - accuracy: 0.2466 - loss: -15.0683 - val_accuracy: 0.2267 - val_loss: -14.2289\n",
      "Epoch 345/500\n",
      "\u001B[1m5/5\u001B[0m \u001B[32m━━━━━━━━━━━━━━━━━━━━\u001B[0m\u001B[37m\u001B[0m \u001B[1m0s\u001B[0m 6ms/step - accuracy: 0.2480 - loss: -14.9394 - val_accuracy: 0.2267 - val_loss: -14.2326\n",
      "Epoch 346/500\n",
      "\u001B[1m5/5\u001B[0m \u001B[32m━━━━━━━━━━━━━━━━━━━━\u001B[0m\u001B[37m\u001B[0m \u001B[1m0s\u001B[0m 6ms/step - accuracy: 0.2138 - loss: -14.8324 - val_accuracy: 0.2267 - val_loss: -14.2365\n",
      "Epoch 347/500\n",
      "\u001B[1m5/5\u001B[0m \u001B[32m━━━━━━━━━━━━━━━━━━━━\u001B[0m\u001B[37m\u001B[0m \u001B[1m0s\u001B[0m 7ms/step - accuracy: 0.2288 - loss: -14.6756 - val_accuracy: 0.2267 - val_loss: -14.2402\n",
      "Epoch 348/500\n",
      "\u001B[1m5/5\u001B[0m \u001B[32m━━━━━━━━━━━━━━━━━━━━\u001B[0m\u001B[37m\u001B[0m \u001B[1m0s\u001B[0m 7ms/step - accuracy: 0.2624 - loss: -15.4998 - val_accuracy: 0.2267 - val_loss: -14.2446\n",
      "Epoch 349/500\n",
      "\u001B[1m5/5\u001B[0m \u001B[32m━━━━━━━━━━━━━━━━━━━━\u001B[0m\u001B[37m\u001B[0m \u001B[1m0s\u001B[0m 7ms/step - accuracy: 0.2396 - loss: -14.8691 - val_accuracy: 0.2267 - val_loss: -14.2511\n",
      "Epoch 350/500\n",
      "\u001B[1m5/5\u001B[0m \u001B[32m━━━━━━━━━━━━━━━━━━━━\u001B[0m\u001B[37m\u001B[0m \u001B[1m0s\u001B[0m 7ms/step - accuracy: 0.2224 - loss: -15.0844 - val_accuracy: 0.2267 - val_loss: -14.2596\n",
      "Epoch 351/500\n",
      "\u001B[1m5/5\u001B[0m \u001B[32m━━━━━━━━━━━━━━━━━━━━\u001B[0m\u001B[37m\u001B[0m \u001B[1m0s\u001B[0m 6ms/step - accuracy: 0.2449 - loss: -14.9226 - val_accuracy: 0.2267 - val_loss: -14.2659\n",
      "Epoch 352/500\n",
      "\u001B[1m5/5\u001B[0m \u001B[32m━━━━━━━━━━━━━━━━━━━━\u001B[0m\u001B[37m\u001B[0m \u001B[1m0s\u001B[0m 7ms/step - accuracy: 0.2552 - loss: -15.3722 - val_accuracy: 0.2267 - val_loss: -14.2738\n",
      "Epoch 353/500\n",
      "\u001B[1m5/5\u001B[0m \u001B[32m━━━━━━━━━━━━━━━━━━━━\u001B[0m\u001B[37m\u001B[0m \u001B[1m0s\u001B[0m 8ms/step - accuracy: 0.2260 - loss: -15.1438 - val_accuracy: 0.2267 - val_loss: -14.2804\n",
      "Epoch 354/500\n",
      "\u001B[1m5/5\u001B[0m \u001B[32m━━━━━━━━━━━━━━━━━━━━\u001B[0m\u001B[37m\u001B[0m \u001B[1m0s\u001B[0m 7ms/step - accuracy: 0.2402 - loss: -15.2976 - val_accuracy: 0.2267 - val_loss: -14.2883\n",
      "Epoch 355/500\n",
      "\u001B[1m5/5\u001B[0m \u001B[32m━━━━━━━━━━━━━━━━━━━━\u001B[0m\u001B[37m\u001B[0m \u001B[1m0s\u001B[0m 7ms/step - accuracy: 0.2646 - loss: -15.1704 - val_accuracy: 0.2267 - val_loss: -14.2949\n",
      "Epoch 356/500\n",
      "\u001B[1m5/5\u001B[0m \u001B[32m━━━━━━━━━━━━━━━━━━━━\u001B[0m\u001B[37m\u001B[0m \u001B[1m0s\u001B[0m 7ms/step - accuracy: 0.2224 - loss: -15.3376 - val_accuracy: 0.2267 - val_loss: -14.3021\n",
      "Epoch 357/500\n",
      "\u001B[1m5/5\u001B[0m \u001B[32m━━━━━━━━━━━━━━━━━━━━\u001B[0m\u001B[37m\u001B[0m \u001B[1m0s\u001B[0m 6ms/step - accuracy: 0.2146 - loss: -15.1472 - val_accuracy: 0.2267 - val_loss: -14.3104\n",
      "Epoch 358/500\n",
      "\u001B[1m5/5\u001B[0m \u001B[32m━━━━━━━━━━━━━━━━━━━━\u001B[0m\u001B[37m\u001B[0m \u001B[1m0s\u001B[0m 7ms/step - accuracy: 0.2274 - loss: -14.8148 - val_accuracy: 0.2267 - val_loss: -14.3186\n",
      "Epoch 359/500\n",
      "\u001B[1m5/5\u001B[0m \u001B[32m━━━━━━━━━━━━━━━━━━━━\u001B[0m\u001B[37m\u001B[0m \u001B[1m0s\u001B[0m 7ms/step - accuracy: 0.2302 - loss: -15.0336 - val_accuracy: 0.2267 - val_loss: -14.3261\n",
      "Epoch 360/500\n",
      "\u001B[1m5/5\u001B[0m \u001B[32m━━━━━━━━━━━━━━━━━━━━\u001B[0m\u001B[37m\u001B[0m \u001B[1m0s\u001B[0m 6ms/step - accuracy: 0.1963 - loss: -14.6639 - val_accuracy: 0.2267 - val_loss: -14.3341\n",
      "Epoch 361/500\n",
      "\u001B[1m5/5\u001B[0m \u001B[32m━━━━━━━━━━━━━━━━━━━━\u001B[0m\u001B[37m\u001B[0m \u001B[1m0s\u001B[0m 8ms/step - accuracy: 0.2255 - loss: -14.9539 - val_accuracy: 0.2267 - val_loss: -14.3413\n",
      "Epoch 362/500\n",
      "\u001B[1m5/5\u001B[0m \u001B[32m━━━━━━━━━━━━━━━━━━━━\u001B[0m\u001B[37m\u001B[0m \u001B[1m0s\u001B[0m 7ms/step - accuracy: 0.2488 - loss: -14.9068 - val_accuracy: 0.2267 - val_loss: -14.3481\n",
      "Epoch 363/500\n",
      "\u001B[1m5/5\u001B[0m \u001B[32m━━━━━━━━━━━━━━━━━━━━\u001B[0m\u001B[37m\u001B[0m \u001B[1m0s\u001B[0m 7ms/step - accuracy: 0.2063 - loss: -14.7668 - val_accuracy: 0.2267 - val_loss: -14.3550\n",
      "Epoch 364/500\n",
      "\u001B[1m5/5\u001B[0m \u001B[32m━━━━━━━━━━━━━━━━━━━━\u001B[0m\u001B[37m\u001B[0m \u001B[1m0s\u001B[0m 8ms/step - accuracy: 0.2132 - loss: -14.9284 - val_accuracy: 0.2267 - val_loss: -14.3609\n",
      "Epoch 365/500\n",
      "\u001B[1m5/5\u001B[0m \u001B[32m━━━━━━━━━━━━━━━━━━━━\u001B[0m\u001B[37m\u001B[0m \u001B[1m0s\u001B[0m 7ms/step - accuracy: 0.2527 - loss: -15.1293 - val_accuracy: 0.2267 - val_loss: -14.3701\n",
      "Epoch 366/500\n",
      "\u001B[1m5/5\u001B[0m \u001B[32m━━━━━━━━━━━━━━━━━━━━\u001B[0m\u001B[37m\u001B[0m \u001B[1m0s\u001B[0m 7ms/step - accuracy: 0.2163 - loss: -14.9098 - val_accuracy: 0.2267 - val_loss: -14.3771\n",
      "Epoch 367/500\n",
      "\u001B[1m5/5\u001B[0m \u001B[32m━━━━━━━━━━━━━━━━━━━━\u001B[0m\u001B[37m\u001B[0m \u001B[1m0s\u001B[0m 7ms/step - accuracy: 0.2394 - loss: -15.1053 - val_accuracy: 0.2267 - val_loss: -14.3854\n",
      "Epoch 368/500\n",
      "\u001B[1m5/5\u001B[0m \u001B[32m━━━━━━━━━━━━━━━━━━━━\u001B[0m\u001B[37m\u001B[0m \u001B[1m0s\u001B[0m 7ms/step - accuracy: 0.2396 - loss: -15.0467 - val_accuracy: 0.2267 - val_loss: -14.3920\n",
      "Epoch 369/500\n",
      "\u001B[1m5/5\u001B[0m \u001B[32m━━━━━━━━━━━━━━━━━━━━\u001B[0m\u001B[37m\u001B[0m \u001B[1m0s\u001B[0m 7ms/step - accuracy: 0.2130 - loss: -15.2325 - val_accuracy: 0.2267 - val_loss: -14.4015\n",
      "Epoch 370/500\n",
      "\u001B[1m5/5\u001B[0m \u001B[32m━━━━━━━━━━━━━━━━━━━━\u001B[0m\u001B[37m\u001B[0m \u001B[1m0s\u001B[0m 7ms/step - accuracy: 0.2110 - loss: -15.2618 - val_accuracy: 0.2267 - val_loss: -14.4075\n",
      "Epoch 371/500\n",
      "\u001B[1m5/5\u001B[0m \u001B[32m━━━━━━━━━━━━━━━━━━━━\u001B[0m\u001B[37m\u001B[0m \u001B[1m0s\u001B[0m 7ms/step - accuracy: 0.2313 - loss: -14.9381 - val_accuracy: 0.2267 - val_loss: -14.4150\n",
      "Epoch 372/500\n",
      "\u001B[1m5/5\u001B[0m \u001B[32m━━━━━━━━━━━━━━━━━━━━\u001B[0m\u001B[37m\u001B[0m \u001B[1m0s\u001B[0m 7ms/step - accuracy: 0.2155 - loss: -15.3077 - val_accuracy: 0.2267 - val_loss: -14.4232\n",
      "Epoch 373/500\n",
      "\u001B[1m5/5\u001B[0m \u001B[32m━━━━━━━━━━━━━━━━━━━━\u001B[0m\u001B[37m\u001B[0m \u001B[1m0s\u001B[0m 7ms/step - accuracy: 0.2149 - loss: -15.1567 - val_accuracy: 0.2267 - val_loss: -14.4256\n",
      "Epoch 374/500\n",
      "\u001B[1m5/5\u001B[0m \u001B[32m━━━━━━━━━━━━━━━━━━━━\u001B[0m\u001B[37m\u001B[0m \u001B[1m0s\u001B[0m 7ms/step - accuracy: 0.2352 - loss: -15.2158 - val_accuracy: 0.2267 - val_loss: -14.4313\n",
      "Epoch 375/500\n",
      "\u001B[1m5/5\u001B[0m \u001B[32m━━━━━━━━━━━━━━━━━━━━\u001B[0m\u001B[37m\u001B[0m \u001B[1m0s\u001B[0m 7ms/step - accuracy: 0.2174 - loss: -15.3022 - val_accuracy: 0.2267 - val_loss: -14.4372\n",
      "Epoch 376/500\n",
      "\u001B[1m5/5\u001B[0m \u001B[32m━━━━━━━━━━━━━━━━━━━━\u001B[0m\u001B[37m\u001B[0m \u001B[1m0s\u001B[0m 7ms/step - accuracy: 0.2732 - loss: -15.6172 - val_accuracy: 0.2267 - val_loss: -14.4427\n",
      "Epoch 377/500\n",
      "\u001B[1m5/5\u001B[0m \u001B[32m━━━━━━━━━━━━━━━━━━━━\u001B[0m\u001B[37m\u001B[0m \u001B[1m0s\u001B[0m 7ms/step - accuracy: 0.2757 - loss: -15.8076 - val_accuracy: 0.2267 - val_loss: -14.4469\n",
      "Epoch 378/500\n",
      "\u001B[1m5/5\u001B[0m \u001B[32m━━━━━━━━━━━━━━━━━━━━\u001B[0m\u001B[37m\u001B[0m \u001B[1m0s\u001B[0m 7ms/step - accuracy: 0.2013 - loss: -14.9269 - val_accuracy: 0.2267 - val_loss: -14.4543\n",
      "Epoch 379/500\n",
      "\u001B[1m5/5\u001B[0m \u001B[32m━━━━━━━━━━━━━━━━━━━━\u001B[0m\u001B[37m\u001B[0m \u001B[1m0s\u001B[0m 7ms/step - accuracy: 0.2266 - loss: -14.9959 - val_accuracy: 0.2267 - val_loss: -14.4597\n",
      "Epoch 380/500\n",
      "\u001B[1m5/5\u001B[0m \u001B[32m━━━━━━━━━━━━━━━━━━━━\u001B[0m\u001B[37m\u001B[0m \u001B[1m0s\u001B[0m 7ms/step - accuracy: 0.2182 - loss: -14.9976 - val_accuracy: 0.2267 - val_loss: -14.4592\n",
      "Epoch 381/500\n",
      "\u001B[1m5/5\u001B[0m \u001B[32m━━━━━━━━━━━━━━━━━━━━\u001B[0m\u001B[37m\u001B[0m \u001B[1m0s\u001B[0m 7ms/step - accuracy: 0.2005 - loss: -15.0836 - val_accuracy: 0.2267 - val_loss: -14.4625\n",
      "Epoch 382/500\n",
      "\u001B[1m5/5\u001B[0m \u001B[32m━━━━━━━━━━━━━━━━━━━━\u001B[0m\u001B[37m\u001B[0m \u001B[1m0s\u001B[0m 7ms/step - accuracy: 0.2266 - loss: -15.1765 - val_accuracy: 0.2267 - val_loss: -14.4595\n",
      "Epoch 383/500\n",
      "\u001B[1m5/5\u001B[0m \u001B[32m━━━━━━━━━━━━━━━━━━━━\u001B[0m\u001B[37m\u001B[0m \u001B[1m0s\u001B[0m 7ms/step - accuracy: 0.2210 - loss: -15.3184 - val_accuracy: 0.2267 - val_loss: -14.4543\n",
      "Epoch 384/500\n",
      "\u001B[1m5/5\u001B[0m \u001B[32m━━━━━━━━━━━━━━━━━━━━\u001B[0m\u001B[37m\u001B[0m \u001B[1m0s\u001B[0m 7ms/step - accuracy: 0.2644 - loss: -15.4007 - val_accuracy: 0.2267 - val_loss: -14.4523\n",
      "Epoch 385/500\n",
      "\u001B[1m5/5\u001B[0m \u001B[32m━━━━━━━━━━━━━━━━━━━━\u001B[0m\u001B[37m\u001B[0m \u001B[1m0s\u001B[0m 7ms/step - accuracy: 0.2180 - loss: -15.4960 - val_accuracy: 0.2267 - val_loss: -14.4507\n",
      "Epoch 386/500\n",
      "\u001B[1m5/5\u001B[0m \u001B[32m━━━━━━━━━━━━━━━━━━━━\u001B[0m\u001B[37m\u001B[0m \u001B[1m0s\u001B[0m 7ms/step - accuracy: 0.2138 - loss: -15.0754 - val_accuracy: 0.2267 - val_loss: -14.4512\n",
      "Epoch 387/500\n",
      "\u001B[1m5/5\u001B[0m \u001B[32m━━━━━━━━━━━━━━━━━━━━\u001B[0m\u001B[37m\u001B[0m \u001B[1m0s\u001B[0m 7ms/step - accuracy: 0.2391 - loss: -15.3894 - val_accuracy: 0.2267 - val_loss: -14.4512\n",
      "Epoch 388/500\n",
      "\u001B[1m5/5\u001B[0m \u001B[32m━━━━━━━━━━━━━━━━━━━━\u001B[0m\u001B[37m\u001B[0m \u001B[1m0s\u001B[0m 7ms/step - accuracy: 0.2385 - loss: -15.6877 - val_accuracy: 0.2267 - val_loss: -14.4514\n",
      "Epoch 389/500\n",
      "\u001B[1m5/5\u001B[0m \u001B[32m━━━━━━━━━━━━━━━━━━━━\u001B[0m\u001B[37m\u001B[0m \u001B[1m0s\u001B[0m 7ms/step - accuracy: 0.2463 - loss: -15.5302 - val_accuracy: 0.2267 - val_loss: -14.4569\n",
      "Epoch 390/500\n",
      "\u001B[1m5/5\u001B[0m \u001B[32m━━━━━━━━━━━━━━━━━━━━\u001B[0m\u001B[37m\u001B[0m \u001B[1m0s\u001B[0m 7ms/step - accuracy: 0.2099 - loss: -14.9091 - val_accuracy: 0.2267 - val_loss: -14.4570\n",
      "Epoch 391/500\n",
      "\u001B[1m5/5\u001B[0m \u001B[32m━━━━━━━━━━━━━━━━━━━━\u001B[0m\u001B[37m\u001B[0m \u001B[1m0s\u001B[0m 7ms/step - accuracy: 0.2407 - loss: -15.4871 - val_accuracy: 0.3067 - val_loss: -14.4655\n",
      "Epoch 392/500\n",
      "\u001B[1m5/5\u001B[0m \u001B[32m━━━━━━━━━━━━━━━━━━━━\u001B[0m\u001B[37m\u001B[0m \u001B[1m0s\u001B[0m 6ms/step - accuracy: 0.3554 - loss: -14.8808 - val_accuracy: 0.3600 - val_loss: -14.4663\n",
      "Epoch 393/500\n",
      "\u001B[1m5/5\u001B[0m \u001B[32m━━━━━━━━━━━━━━━━━━━━\u001B[0m\u001B[37m\u001B[0m \u001B[1m0s\u001B[0m 7ms/step - accuracy: 0.3930 - loss: -15.2072 - val_accuracy: 0.3333 - val_loss: -14.4788\n",
      "Epoch 394/500\n",
      "\u001B[1m5/5\u001B[0m \u001B[32m━━━━━━━━━━━━━━━━━━━━\u001B[0m\u001B[37m\u001B[0m \u001B[1m0s\u001B[0m 7ms/step - accuracy: 0.3713 - loss: -15.3038 - val_accuracy: 0.3600 - val_loss: -14.4864\n",
      "Epoch 395/500\n",
      "\u001B[1m5/5\u001B[0m \u001B[32m━━━━━━━━━━━━━━━━━━━━\u001B[0m\u001B[37m\u001B[0m \u001B[1m0s\u001B[0m 7ms/step - accuracy: 0.3875 - loss: -15.4766 - val_accuracy: 0.3733 - val_loss: -14.4874\n",
      "Epoch 396/500\n",
      "\u001B[1m5/5\u001B[0m \u001B[32m━━━━━━━━━━━━━━━━━━━━\u001B[0m\u001B[37m\u001B[0m \u001B[1m0s\u001B[0m 7ms/step - accuracy: 0.4358 - loss: -15.4922 - val_accuracy: 0.3733 - val_loss: -14.4875\n",
      "Epoch 397/500\n",
      "\u001B[1m5/5\u001B[0m \u001B[32m━━━━━━━━━━━━━━━━━━━━\u001B[0m\u001B[37m\u001B[0m \u001B[1m0s\u001B[0m 7ms/step - accuracy: 0.4324 - loss: -15.5123 - val_accuracy: 0.3733 - val_loss: -14.4931\n",
      "Epoch 398/500\n",
      "\u001B[1m5/5\u001B[0m \u001B[32m━━━━━━━━━━━━━━━━━━━━\u001B[0m\u001B[37m\u001B[0m \u001B[1m0s\u001B[0m 7ms/step - accuracy: 0.3998 - loss: -15.0506 - val_accuracy: 0.3733 - val_loss: -14.4979\n",
      "Epoch 399/500\n",
      "\u001B[1m5/5\u001B[0m \u001B[32m━━━━━━━━━━━━━━━━━━━━\u001B[0m\u001B[37m\u001B[0m \u001B[1m0s\u001B[0m 7ms/step - accuracy: 0.3952 - loss: -15.2176 - val_accuracy: 0.3867 - val_loss: -14.4999\n",
      "Epoch 400/500\n",
      "\u001B[1m5/5\u001B[0m \u001B[32m━━━━━━━━━━━━━━━━━━━━\u001B[0m\u001B[37m\u001B[0m \u001B[1m0s\u001B[0m 7ms/step - accuracy: 0.4545 - loss: -15.2590 - val_accuracy: 0.3867 - val_loss: -14.5044\n",
      "Epoch 401/500\n",
      "\u001B[1m5/5\u001B[0m \u001B[32m━━━━━━━━━━━━━━━━━━━━\u001B[0m\u001B[37m\u001B[0m \u001B[1m0s\u001B[0m 7ms/step - accuracy: 0.4364 - loss: -15.4749 - val_accuracy: 0.3733 - val_loss: -14.5103\n",
      "Epoch 402/500\n",
      "\u001B[1m5/5\u001B[0m \u001B[32m━━━━━━━━━━━━━━━━━━━━\u001B[0m\u001B[37m\u001B[0m \u001B[1m0s\u001B[0m 7ms/step - accuracy: 0.3836 - loss: -15.2027 - val_accuracy: 0.3867 - val_loss: -14.5145\n",
      "Epoch 403/500\n",
      "\u001B[1m5/5\u001B[0m \u001B[32m━━━━━━━━━━━━━━━━━━━━\u001B[0m\u001B[37m\u001B[0m \u001B[1m0s\u001B[0m 6ms/step - accuracy: 0.4130 - loss: -15.2753 - val_accuracy: 0.4267 - val_loss: -14.5183\n",
      "Epoch 404/500\n",
      "\u001B[1m5/5\u001B[0m \u001B[32m━━━━━━━━━━━━━━━━━━━━\u001B[0m\u001B[37m\u001B[0m \u001B[1m0s\u001B[0m 8ms/step - accuracy: 0.4316 - loss: -15.6065 - val_accuracy: 0.3733 - val_loss: -14.5257\n",
      "Epoch 405/500\n",
      "\u001B[1m5/5\u001B[0m \u001B[32m━━━━━━━━━━━━━━━━━━━━\u001B[0m\u001B[37m\u001B[0m \u001B[1m0s\u001B[0m 7ms/step - accuracy: 0.4140 - loss: -15.1191 - val_accuracy: 0.3867 - val_loss: -14.5300\n",
      "Epoch 406/500\n",
      "\u001B[1m5/5\u001B[0m \u001B[32m━━━━━━━━━━━━━━━━━━━━\u001B[0m\u001B[37m\u001B[0m \u001B[1m0s\u001B[0m 7ms/step - accuracy: 0.4082 - loss: -15.4230 - val_accuracy: 0.3733 - val_loss: -14.5358\n",
      "Epoch 407/500\n",
      "\u001B[1m5/5\u001B[0m \u001B[32m━━━━━━━━━━━━━━━━━━━━\u001B[0m\u001B[37m\u001B[0m \u001B[1m0s\u001B[0m 7ms/step - accuracy: 0.4133 - loss: -15.2910 - val_accuracy: 0.3867 - val_loss: -14.5407\n",
      "Epoch 408/500\n",
      "\u001B[1m5/5\u001B[0m \u001B[32m━━━━━━━━━━━━━━━━━━━━\u001B[0m\u001B[37m\u001B[0m \u001B[1m0s\u001B[0m 7ms/step - accuracy: 0.4768 - loss: -15.4378 - val_accuracy: 0.3867 - val_loss: -14.5461\n",
      "Epoch 409/500\n",
      "\u001B[1m5/5\u001B[0m \u001B[32m━━━━━━━━━━━━━━━━━━━━\u001B[0m\u001B[37m\u001B[0m \u001B[1m0s\u001B[0m 7ms/step - accuracy: 0.4282 - loss: -15.4868 - val_accuracy: 0.3733 - val_loss: -14.5531\n",
      "Epoch 410/500\n",
      "\u001B[1m5/5\u001B[0m \u001B[32m━━━━━━━━━━━━━━━━━━━━\u001B[0m\u001B[37m\u001B[0m \u001B[1m0s\u001B[0m 7ms/step - accuracy: 0.4182 - loss: -15.4545 - val_accuracy: 0.3867 - val_loss: -14.5583\n",
      "Epoch 411/500\n",
      "\u001B[1m5/5\u001B[0m \u001B[32m━━━━━━━━━━━━━━━━━━━━\u001B[0m\u001B[37m\u001B[0m \u001B[1m0s\u001B[0m 7ms/step - accuracy: 0.4691 - loss: -16.1242 - val_accuracy: 0.3867 - val_loss: -14.5643\n",
      "Epoch 412/500\n",
      "\u001B[1m5/5\u001B[0m \u001B[32m━━━━━━━━━━━━━━━━━━━━\u001B[0m\u001B[37m\u001B[0m \u001B[1m0s\u001B[0m 7ms/step - accuracy: 0.4295 - loss: -15.6706 - val_accuracy: 0.4667 - val_loss: -14.5693\n",
      "Epoch 413/500\n",
      "\u001B[1m5/5\u001B[0m \u001B[32m━━━━━━━━━━━━━━━━━━━━\u001B[0m\u001B[37m\u001B[0m \u001B[1m0s\u001B[0m 7ms/step - accuracy: 0.4982 - loss: -15.3292 - val_accuracy: 0.4267 - val_loss: -14.5748\n",
      "Epoch 414/500\n",
      "\u001B[1m5/5\u001B[0m \u001B[32m━━━━━━━━━━━━━━━━━━━━\u001B[0m\u001B[37m\u001B[0m \u001B[1m0s\u001B[0m 7ms/step - accuracy: 0.4931 - loss: -15.0535 - val_accuracy: 0.4400 - val_loss: -14.5814\n",
      "Epoch 415/500\n",
      "\u001B[1m5/5\u001B[0m \u001B[32m━━━━━━━━━━━━━━━━━━━━\u001B[0m\u001B[37m\u001B[0m \u001B[1m0s\u001B[0m 7ms/step - accuracy: 0.4782 - loss: -15.2242 - val_accuracy: 0.4400 - val_loss: -14.5889\n",
      "Epoch 416/500\n",
      "\u001B[1m5/5\u001B[0m \u001B[32m━━━━━━━━━━━━━━━━━━━━\u001B[0m\u001B[37m\u001B[0m \u001B[1m0s\u001B[0m 7ms/step - accuracy: 0.5013 - loss: -15.4355 - val_accuracy: 0.4267 - val_loss: -14.5944\n",
      "Epoch 417/500\n",
      "\u001B[1m5/5\u001B[0m \u001B[32m━━━━━━━━━━━━━━━━━━━━\u001B[0m\u001B[37m\u001B[0m \u001B[1m0s\u001B[0m 6ms/step - accuracy: 0.5126 - loss: -15.8271 - val_accuracy: 0.4267 - val_loss: -14.5999\n",
      "Epoch 418/500\n",
      "\u001B[1m5/5\u001B[0m \u001B[32m━━━━━━━━━━━━━━━━━━━━\u001B[0m\u001B[37m\u001B[0m \u001B[1m0s\u001B[0m 7ms/step - accuracy: 0.4773 - loss: -15.3345 - val_accuracy: 0.4267 - val_loss: -14.6053\n",
      "Epoch 419/500\n",
      "\u001B[1m5/5\u001B[0m \u001B[32m━━━━━━━━━━━━━━━━━━━━\u001B[0m\u001B[37m\u001B[0m \u001B[1m0s\u001B[0m 7ms/step - accuracy: 0.4857 - loss: -15.9444 - val_accuracy: 0.4267 - val_loss: -14.6107\n",
      "Epoch 420/500\n",
      "\u001B[1m5/5\u001B[0m \u001B[32m━━━━━━━━━━━━━━━━━━━━\u001B[0m\u001B[37m\u001B[0m \u001B[1m0s\u001B[0m 8ms/step - accuracy: 0.5520 - loss: -15.8258 - val_accuracy: 0.4400 - val_loss: -14.6137\n",
      "Epoch 421/500\n",
      "\u001B[1m5/5\u001B[0m \u001B[32m━━━━━━━━━━━━━━━━━━━━\u001B[0m\u001B[37m\u001B[0m \u001B[1m0s\u001B[0m 7ms/step - accuracy: 0.5196 - loss: -15.4589 - val_accuracy: 0.4267 - val_loss: -14.6180\n",
      "Epoch 422/500\n",
      "\u001B[1m5/5\u001B[0m \u001B[32m━━━━━━━━━━━━━━━━━━━━\u001B[0m\u001B[37m\u001B[0m \u001B[1m0s\u001B[0m 7ms/step - accuracy: 0.4926 - loss: -15.4762 - val_accuracy: 0.4267 - val_loss: -14.6239\n",
      "Epoch 423/500\n",
      "\u001B[1m5/5\u001B[0m \u001B[32m━━━━━━━━━━━━━━━━━━━━\u001B[0m\u001B[37m\u001B[0m \u001B[1m0s\u001B[0m 7ms/step - accuracy: 0.4562 - loss: -15.6917 - val_accuracy: 0.4267 - val_loss: -14.6304\n",
      "Epoch 424/500\n",
      "\u001B[1m5/5\u001B[0m \u001B[32m━━━━━━━━━━━━━━━━━━━━\u001B[0m\u001B[37m\u001B[0m \u001B[1m0s\u001B[0m 7ms/step - accuracy: 0.4902 - loss: -15.4348 - val_accuracy: 0.4133 - val_loss: -14.6345\n",
      "Epoch 425/500\n",
      "\u001B[1m5/5\u001B[0m \u001B[32m━━━━━━━━━━━━━━━━━━━━\u001B[0m\u001B[37m\u001B[0m \u001B[1m0s\u001B[0m 7ms/step - accuracy: 0.4867 - loss: -15.4065 - val_accuracy: 0.4267 - val_loss: -14.6400\n",
      "Epoch 426/500\n",
      "\u001B[1m5/5\u001B[0m \u001B[32m━━━━━━━━━━━━━━━━━━━━\u001B[0m\u001B[37m\u001B[0m \u001B[1m0s\u001B[0m 7ms/step - accuracy: 0.4889 - loss: -15.4417 - val_accuracy: 0.4133 - val_loss: -14.6457\n",
      "Epoch 427/500\n",
      "\u001B[1m5/5\u001B[0m \u001B[32m━━━━━━━━━━━━━━━━━━━━\u001B[0m\u001B[37m\u001B[0m \u001B[1m0s\u001B[0m 7ms/step - accuracy: 0.4733 - loss: -15.4117 - val_accuracy: 0.4267 - val_loss: -14.6489\n",
      "Epoch 428/500\n",
      "\u001B[1m5/5\u001B[0m \u001B[32m━━━━━━━━━━━━━━━━━━━━\u001B[0m\u001B[37m\u001B[0m \u001B[1m0s\u001B[0m 7ms/step - accuracy: 0.5164 - loss: -15.6560 - val_accuracy: 0.4133 - val_loss: -14.6554\n",
      "Epoch 429/500\n",
      "\u001B[1m5/5\u001B[0m \u001B[32m━━━━━━━━━━━━━━━━━━━━\u001B[0m\u001B[37m\u001B[0m \u001B[1m0s\u001B[0m 7ms/step - accuracy: 0.4941 - loss: -15.4638 - val_accuracy: 0.4133 - val_loss: -14.6599\n",
      "Epoch 430/500\n",
      "\u001B[1m5/5\u001B[0m \u001B[32m━━━━━━━━━━━━━━━━━━━━\u001B[0m\u001B[37m\u001B[0m \u001B[1m0s\u001B[0m 7ms/step - accuracy: 0.5052 - loss: -15.6937 - val_accuracy: 0.4133 - val_loss: -14.6654\n",
      "Epoch 431/500\n",
      "\u001B[1m5/5\u001B[0m \u001B[32m━━━━━━━━━━━━━━━━━━━━\u001B[0m\u001B[37m\u001B[0m \u001B[1m0s\u001B[0m 7ms/step - accuracy: 0.5019 - loss: -15.6716 - val_accuracy: 0.4133 - val_loss: -14.6704\n",
      "Epoch 432/500\n",
      "\u001B[1m5/5\u001B[0m \u001B[32m━━━━━━━━━━━━━━━━━━━━\u001B[0m\u001B[37m\u001B[0m \u001B[1m0s\u001B[0m 7ms/step - accuracy: 0.4870 - loss: -15.3815 - val_accuracy: 0.4133 - val_loss: -14.6753\n",
      "Epoch 433/500\n",
      "\u001B[1m5/5\u001B[0m \u001B[32m━━━━━━━━━━━━━━━━━━━━\u001B[0m\u001B[37m\u001B[0m \u001B[1m0s\u001B[0m 7ms/step - accuracy: 0.4866 - loss: -15.4213 - val_accuracy: 0.4267 - val_loss: -14.6802\n",
      "Epoch 434/500\n",
      "\u001B[1m5/5\u001B[0m \u001B[32m━━━━━━━━━━━━━━━━━━━━\u001B[0m\u001B[37m\u001B[0m \u001B[1m0s\u001B[0m 7ms/step - accuracy: 0.4744 - loss: -15.3245 - val_accuracy: 0.4133 - val_loss: -14.6848\n",
      "Epoch 435/500\n",
      "\u001B[1m5/5\u001B[0m \u001B[32m━━━━━━━━━━━━━━━━━━━━\u001B[0m\u001B[37m\u001B[0m \u001B[1m0s\u001B[0m 7ms/step - accuracy: 0.4881 - loss: -15.8031 - val_accuracy: 0.4133 - val_loss: -14.6901\n",
      "Epoch 436/500\n",
      "\u001B[1m5/5\u001B[0m \u001B[32m━━━━━━━━━━━━━━━━━━━━\u001B[0m\u001B[37m\u001B[0m \u001B[1m0s\u001B[0m 6ms/step - accuracy: 0.4548 - loss: -15.1415 - val_accuracy: 0.4400 - val_loss: -14.6953\n",
      "Epoch 437/500\n",
      "\u001B[1m5/5\u001B[0m \u001B[32m━━━━━━━━━━━━━━━━━━━━\u001B[0m\u001B[37m\u001B[0m \u001B[1m0s\u001B[0m 7ms/step - accuracy: 0.5157 - loss: -15.5609 - val_accuracy: 0.4133 - val_loss: -14.7006\n",
      "Epoch 438/500\n",
      "\u001B[1m5/5\u001B[0m \u001B[32m━━━━━━━━━━━━━━━━━━━━\u001B[0m\u001B[37m\u001B[0m \u001B[1m0s\u001B[0m 7ms/step - accuracy: 0.4618 - loss: -15.3452 - val_accuracy: 0.4133 - val_loss: -14.7043\n",
      "Epoch 439/500\n",
      "\u001B[1m5/5\u001B[0m \u001B[32m━━━━━━━━━━━━━━━━━━━━\u001B[0m\u001B[37m\u001B[0m \u001B[1m0s\u001B[0m 7ms/step - accuracy: 0.4313 - loss: -15.5154 - val_accuracy: 0.4133 - val_loss: -14.7092\n",
      "Epoch 440/500\n",
      "\u001B[1m5/5\u001B[0m \u001B[32m━━━━━━━━━━━━━━━━━━━━\u001B[0m\u001B[37m\u001B[0m \u001B[1m0s\u001B[0m 7ms/step - accuracy: 0.4505 - loss: -15.0375 - val_accuracy: 0.4133 - val_loss: -14.7138\n",
      "Epoch 441/500\n",
      "\u001B[1m5/5\u001B[0m \u001B[32m━━━━━━━━━━━━━━━━━━━━\u001B[0m\u001B[37m\u001B[0m \u001B[1m0s\u001B[0m 8ms/step - accuracy: 0.4740 - loss: -15.5262 - val_accuracy: 0.4000 - val_loss: -14.7202\n",
      "Epoch 442/500\n",
      "\u001B[1m5/5\u001B[0m \u001B[32m━━━━━━━━━━━━━━━━━━━━\u001B[0m\u001B[37m\u001B[0m \u001B[1m0s\u001B[0m 8ms/step - accuracy: 0.4604 - loss: -15.5606 - val_accuracy: 0.4133 - val_loss: -14.7251\n",
      "Epoch 443/500\n",
      "\u001B[1m5/5\u001B[0m \u001B[32m━━━━━━━━━━━━━━━━━━━━\u001B[0m\u001B[37m\u001B[0m \u001B[1m0s\u001B[0m 8ms/step - accuracy: 0.4723 - loss: -15.8318 - val_accuracy: 0.4000 - val_loss: -14.7310\n",
      "Epoch 444/500\n",
      "\u001B[1m5/5\u001B[0m \u001B[32m━━━━━━━━━━━━━━━━━━━━\u001B[0m\u001B[37m\u001B[0m \u001B[1m0s\u001B[0m 7ms/step - accuracy: 0.4833 - loss: -15.9354 - val_accuracy: 0.4000 - val_loss: -14.7351\n",
      "Epoch 445/500\n",
      "\u001B[1m5/5\u001B[0m \u001B[32m━━━━━━━━━━━━━━━━━━━━\u001B[0m\u001B[37m\u001B[0m \u001B[1m0s\u001B[0m 15ms/step - accuracy: 0.4625 - loss: -15.6899 - val_accuracy: 0.4000 - val_loss: -14.7416\n",
      "Epoch 446/500\n",
      "\u001B[1m5/5\u001B[0m \u001B[32m━━━━━━━━━━━━━━━━━━━━\u001B[0m\u001B[37m\u001B[0m \u001B[1m0s\u001B[0m 12ms/step - accuracy: 0.4761 - loss: -15.6882 - val_accuracy: 0.4000 - val_loss: -14.7476\n",
      "Epoch 447/500\n",
      "\u001B[1m5/5\u001B[0m \u001B[32m━━━━━━━━━━━━━━━━━━━━\u001B[0m\u001B[37m\u001B[0m \u001B[1m0s\u001B[0m 8ms/step - accuracy: 0.4733 - loss: -15.7604 - val_accuracy: 0.4000 - val_loss: -14.7513\n",
      "Epoch 448/500\n",
      "\u001B[1m5/5\u001B[0m \u001B[32m━━━━━━━━━━━━━━━━━━━━\u001B[0m\u001B[37m\u001B[0m \u001B[1m0s\u001B[0m 11ms/step - accuracy: 0.4569 - loss: -15.7020 - val_accuracy: 0.4000 - val_loss: -14.7558\n",
      "Epoch 449/500\n",
      "\u001B[1m5/5\u001B[0m \u001B[32m━━━━━━━━━━━━━━━━━━━━\u001B[0m\u001B[37m\u001B[0m \u001B[1m0s\u001B[0m 9ms/step - accuracy: 0.4622 - loss: -15.3412 - val_accuracy: 0.4000 - val_loss: -14.7626\n",
      "Epoch 450/500\n",
      "\u001B[1m5/5\u001B[0m \u001B[32m━━━━━━━━━━━━━━━━━━━━\u001B[0m\u001B[37m\u001B[0m \u001B[1m0s\u001B[0m 10ms/step - accuracy: 0.4503 - loss: -15.7926 - val_accuracy: 0.4000 - val_loss: -14.7645\n",
      "Epoch 451/500\n",
      "\u001B[1m5/5\u001B[0m \u001B[32m━━━━━━━━━━━━━━━━━━━━\u001B[0m\u001B[37m\u001B[0m \u001B[1m0s\u001B[0m 9ms/step - accuracy: 0.4655 - loss: -15.5092 - val_accuracy: 0.4000 - val_loss: -14.7690\n",
      "Epoch 452/500\n",
      "\u001B[1m5/5\u001B[0m \u001B[32m━━━━━━━━━━━━━━━━━━━━\u001B[0m\u001B[37m\u001B[0m \u001B[1m0s\u001B[0m 7ms/step - accuracy: 0.4561 - loss: -15.7744 - val_accuracy: 0.4000 - val_loss: -14.7755\n",
      "Epoch 453/500\n",
      "\u001B[1m5/5\u001B[0m \u001B[32m━━━━━━━━━━━━━━━━━━━━\u001B[0m\u001B[37m\u001B[0m \u001B[1m0s\u001B[0m 7ms/step - accuracy: 0.4410 - loss: -15.5597 - val_accuracy: 0.4133 - val_loss: -14.7808\n",
      "Epoch 454/500\n",
      "\u001B[1m5/5\u001B[0m \u001B[32m━━━━━━━━━━━━━━━━━━━━\u001B[0m\u001B[37m\u001B[0m \u001B[1m0s\u001B[0m 7ms/step - accuracy: 0.4353 - loss: -15.4958 - val_accuracy: 0.4000 - val_loss: -14.7860\n",
      "Epoch 455/500\n",
      "\u001B[1m5/5\u001B[0m \u001B[32m━━━━━━━━━━━━━━━━━━━━\u001B[0m\u001B[37m\u001B[0m \u001B[1m0s\u001B[0m 7ms/step - accuracy: 0.4483 - loss: -15.5397 - val_accuracy: 0.4000 - val_loss: -14.7920\n",
      "Epoch 456/500\n",
      "\u001B[1m5/5\u001B[0m \u001B[32m━━━━━━━━━━━━━━━━━━━━\u001B[0m\u001B[37m\u001B[0m \u001B[1m0s\u001B[0m 7ms/step - accuracy: 0.4386 - loss: -15.6252 - val_accuracy: 0.4000 - val_loss: -14.7971\n",
      "Epoch 457/500\n",
      "\u001B[1m5/5\u001B[0m \u001B[32m━━━━━━━━━━━━━━━━━━━━\u001B[0m\u001B[37m\u001B[0m \u001B[1m0s\u001B[0m 7ms/step - accuracy: 0.4539 - loss: -15.3165 - val_accuracy: 0.4000 - val_loss: -14.8015\n",
      "Epoch 458/500\n",
      "\u001B[1m5/5\u001B[0m \u001B[32m━━━━━━━━━━━━━━━━━━━━\u001B[0m\u001B[37m\u001B[0m \u001B[1m0s\u001B[0m 6ms/step - accuracy: 0.4442 - loss: -15.7304 - val_accuracy: 0.4000 - val_loss: -14.8090\n",
      "Epoch 459/500\n",
      "\u001B[1m5/5\u001B[0m \u001B[32m━━━━━━━━━━━━━━━━━━━━\u001B[0m\u001B[37m\u001B[0m \u001B[1m0s\u001B[0m 7ms/step - accuracy: 0.4530 - loss: -16.0147 - val_accuracy: 0.4000 - val_loss: -14.8143\n",
      "Epoch 460/500\n",
      "\u001B[1m5/5\u001B[0m \u001B[32m━━━━━━━━━━━━━━━━━━━━\u001B[0m\u001B[37m\u001B[0m \u001B[1m0s\u001B[0m 7ms/step - accuracy: 0.4655 - loss: -15.8875 - val_accuracy: 0.4000 - val_loss: -14.8203\n",
      "Epoch 461/500\n",
      "\u001B[1m5/5\u001B[0m \u001B[32m━━━━━━━━━━━━━━━━━━━━\u001B[0m\u001B[37m\u001B[0m \u001B[1m0s\u001B[0m 7ms/step - accuracy: 0.4672 - loss: -16.0738 - val_accuracy: 0.4000 - val_loss: -14.8252\n",
      "Epoch 462/500\n",
      "\u001B[1m5/5\u001B[0m \u001B[32m━━━━━━━━━━━━━━━━━━━━\u001B[0m\u001B[37m\u001B[0m \u001B[1m0s\u001B[0m 7ms/step - accuracy: 0.4761 - loss: -16.2279 - val_accuracy: 0.4000 - val_loss: -14.8320\n",
      "Epoch 463/500\n",
      "\u001B[1m5/5\u001B[0m \u001B[32m━━━━━━━━━━━━━━━━━━━━\u001B[0m\u001B[37m\u001B[0m \u001B[1m0s\u001B[0m 7ms/step - accuracy: 0.4467 - loss: -15.7213 - val_accuracy: 0.4000 - val_loss: -14.8388\n",
      "Epoch 464/500\n",
      "\u001B[1m5/5\u001B[0m \u001B[32m━━━━━━━━━━━━━━━━━━━━\u001B[0m\u001B[37m\u001B[0m \u001B[1m0s\u001B[0m 7ms/step - accuracy: 0.4203 - loss: -15.4818 - val_accuracy: 0.4000 - val_loss: -14.8456\n",
      "Epoch 465/500\n",
      "\u001B[1m5/5\u001B[0m \u001B[32m━━━━━━━━━━━━━━━━━━━━\u001B[0m\u001B[37m\u001B[0m \u001B[1m0s\u001B[0m 7ms/step - accuracy: 0.4597 - loss: -15.4810 - val_accuracy: 0.4000 - val_loss: -14.8555\n",
      "Epoch 466/500\n",
      "\u001B[1m5/5\u001B[0m \u001B[32m━━━━━━━━━━━━━━━━━━━━\u001B[0m\u001B[37m\u001B[0m \u001B[1m0s\u001B[0m 7ms/step - accuracy: 0.4664 - loss: -15.7196 - val_accuracy: 0.4000 - val_loss: -14.8622\n",
      "Epoch 467/500\n",
      "\u001B[1m5/5\u001B[0m \u001B[32m━━━━━━━━━━━━━━━━━━━━\u001B[0m\u001B[37m\u001B[0m \u001B[1m0s\u001B[0m 7ms/step - accuracy: 0.4783 - loss: -15.5503 - val_accuracy: 0.4000 - val_loss: -14.8694\n",
      "Epoch 468/500\n",
      "\u001B[1m5/5\u001B[0m \u001B[32m━━━━━━━━━━━━━━━━━━━━\u001B[0m\u001B[37m\u001B[0m \u001B[1m0s\u001B[0m 7ms/step - accuracy: 0.4225 - loss: -15.3652 - val_accuracy: 0.4000 - val_loss: -14.8693\n",
      "Epoch 469/500\n",
      "\u001B[1m5/5\u001B[0m \u001B[32m━━━━━━━━━━━━━━━━━━━━\u001B[0m\u001B[37m\u001B[0m \u001B[1m0s\u001B[0m 7ms/step - accuracy: 0.4297 - loss: -15.4869 - val_accuracy: 0.4000 - val_loss: -14.8744\n",
      "Epoch 470/500\n",
      "\u001B[1m5/5\u001B[0m \u001B[32m━━━━━━━━━━━━━━━━━━━━\u001B[0m\u001B[37m\u001B[0m \u001B[1m0s\u001B[0m 7ms/step - accuracy: 0.4483 - loss: -15.7345 - val_accuracy: 0.4000 - val_loss: -14.8798\n",
      "Epoch 471/500\n",
      "\u001B[1m5/5\u001B[0m \u001B[32m━━━━━━━━━━━━━━━━━━━━\u001B[0m\u001B[37m\u001B[0m \u001B[1m0s\u001B[0m 7ms/step - accuracy: 0.4475 - loss: -15.7358 - val_accuracy: 0.4000 - val_loss: -14.8824\n",
      "Epoch 472/500\n",
      "\u001B[1m5/5\u001B[0m \u001B[32m━━━━━━━━━━━━━━━━━━━━\u001B[0m\u001B[37m\u001B[0m \u001B[1m0s\u001B[0m 7ms/step - accuracy: 0.4730 - loss: -15.6909 - val_accuracy: 0.4000 - val_loss: -14.8907\n",
      "Epoch 473/500\n",
      "\u001B[1m5/5\u001B[0m \u001B[32m━━━━━━━━━━━━━━━━━━━━\u001B[0m\u001B[37m\u001B[0m \u001B[1m0s\u001B[0m 7ms/step - accuracy: 0.4142 - loss: -15.6671 - val_accuracy: 0.4000 - val_loss: -14.8933\n",
      "Epoch 474/500\n",
      "\u001B[1m5/5\u001B[0m \u001B[32m━━━━━━━━━━━━━━━━━━━━\u001B[0m\u001B[37m\u001B[0m \u001B[1m0s\u001B[0m 6ms/step - accuracy: 0.4528 - loss: -15.3729 - val_accuracy: 0.4000 - val_loss: -14.8996\n",
      "Epoch 475/500\n",
      "\u001B[1m5/5\u001B[0m \u001B[32m━━━━━━━━━━━━━━━━━━━━\u001B[0m\u001B[37m\u001B[0m \u001B[1m0s\u001B[0m 7ms/step - accuracy: 0.4650 - loss: -15.6926 - val_accuracy: 0.4000 - val_loss: -14.9090\n",
      "Epoch 476/500\n",
      "\u001B[1m5/5\u001B[0m \u001B[32m━━━━━━━━━━━━━━━━━━━━\u001B[0m\u001B[37m\u001B[0m \u001B[1m0s\u001B[0m 7ms/step - accuracy: 0.4530 - loss: -16.0267 - val_accuracy: 0.4267 - val_loss: -14.9083\n",
      "Epoch 477/500\n",
      "\u001B[1m5/5\u001B[0m \u001B[32m━━━━━━━━━━━━━━━━━━━━\u001B[0m\u001B[37m\u001B[0m \u001B[1m0s\u001B[0m 7ms/step - accuracy: 0.4876 - loss: -15.5934 - val_accuracy: 0.4000 - val_loss: -14.9151\n",
      "Epoch 478/500\n",
      "\u001B[1m5/5\u001B[0m \u001B[32m━━━━━━━━━━━━━━━━━━━━\u001B[0m\u001B[37m\u001B[0m \u001B[1m0s\u001B[0m 7ms/step - accuracy: 0.4452 - loss: -15.9187 - val_accuracy: 0.4000 - val_loss: -14.9181\n",
      "Epoch 479/500\n",
      "\u001B[1m5/5\u001B[0m \u001B[32m━━━━━━━━━━━━━━━━━━━━\u001B[0m\u001B[37m\u001B[0m \u001B[1m0s\u001B[0m 7ms/step - accuracy: 0.4478 - loss: -16.1343 - val_accuracy: 0.4000 - val_loss: -14.9245\n",
      "Epoch 480/500\n",
      "\u001B[1m5/5\u001B[0m \u001B[32m━━━━━━━━━━━━━━━━━━━━\u001B[0m\u001B[37m\u001B[0m \u001B[1m0s\u001B[0m 7ms/step - accuracy: 0.4529 - loss: -15.6232 - val_accuracy: 0.4000 - val_loss: -14.9295\n",
      "Epoch 481/500\n",
      "\u001B[1m5/5\u001B[0m \u001B[32m━━━━━━━━━━━━━━━━━━━━\u001B[0m\u001B[37m\u001B[0m \u001B[1m0s\u001B[0m 7ms/step - accuracy: 0.4558 - loss: -15.3335 - val_accuracy: 0.4000 - val_loss: -14.9351\n",
      "Epoch 482/500\n",
      "\u001B[1m5/5\u001B[0m \u001B[32m━━━━━━━━━━━━━━━━━━━━\u001B[0m\u001B[37m\u001B[0m \u001B[1m0s\u001B[0m 6ms/step - accuracy: 0.4361 - loss: -15.9294 - val_accuracy: 0.4000 - val_loss: -14.9409\n",
      "Epoch 483/500\n",
      "\u001B[1m5/5\u001B[0m \u001B[32m━━━━━━━━━━━━━━━━━━━━\u001B[0m\u001B[37m\u001B[0m \u001B[1m0s\u001B[0m 7ms/step - accuracy: 0.4383 - loss: -15.8690 - val_accuracy: 0.4000 - val_loss: -14.9455\n",
      "Epoch 484/500\n",
      "\u001B[1m5/5\u001B[0m \u001B[32m━━━━━━━━━━━━━━━━━━━━\u001B[0m\u001B[37m\u001B[0m \u001B[1m0s\u001B[0m 7ms/step - accuracy: 0.4935 - loss: -16.0644 - val_accuracy: 0.4000 - val_loss: -14.9521\n",
      "Epoch 485/500\n",
      "\u001B[1m5/5\u001B[0m \u001B[32m━━━━━━━━━━━━━━━━━━━━\u001B[0m\u001B[37m\u001B[0m \u001B[1m0s\u001B[0m 7ms/step - accuracy: 0.4417 - loss: -15.9672 - val_accuracy: 0.4000 - val_loss: -14.9550\n",
      "Epoch 486/500\n",
      "\u001B[1m5/5\u001B[0m \u001B[32m━━━━━━━━━━━━━━━━━━━━\u001B[0m\u001B[37m\u001B[0m \u001B[1m0s\u001B[0m 7ms/step - accuracy: 0.4669 - loss: -15.7513 - val_accuracy: 0.4000 - val_loss: -14.9621\n",
      "Epoch 487/500\n",
      "\u001B[1m5/5\u001B[0m \u001B[32m━━━━━━━━━━━━━━━━━━━━\u001B[0m\u001B[37m\u001B[0m \u001B[1m0s\u001B[0m 7ms/step - accuracy: 0.4567 - loss: -15.5264 - val_accuracy: 0.4000 - val_loss: -14.9659\n",
      "Epoch 488/500\n",
      "\u001B[1m5/5\u001B[0m \u001B[32m━━━━━━━━━━━━━━━━━━━━\u001B[0m\u001B[37m\u001B[0m \u001B[1m0s\u001B[0m 7ms/step - accuracy: 0.4744 - loss: -15.9086 - val_accuracy: 0.4000 - val_loss: -14.9753\n",
      "Epoch 489/500\n",
      "\u001B[1m5/5\u001B[0m \u001B[32m━━━━━━━━━━━━━━━━━━━━\u001B[0m\u001B[37m\u001B[0m \u001B[1m0s\u001B[0m 7ms/step - accuracy: 0.4545 - loss: -16.0849 - val_accuracy: 0.4000 - val_loss: -14.9986\n",
      "Epoch 490/500\n",
      "\u001B[1m5/5\u001B[0m \u001B[32m━━━━━━━━━━━━━━━━━━━━\u001B[0m\u001B[37m\u001B[0m \u001B[1m0s\u001B[0m 8ms/step - accuracy: 0.4454 - loss: -16.0997 - val_accuracy: 0.4000 - val_loss: -14.9877\n",
      "Epoch 491/500\n",
      "\u001B[1m5/5\u001B[0m \u001B[32m━━━━━━━━━━━━━━━━━━━━\u001B[0m\u001B[37m\u001B[0m \u001B[1m0s\u001B[0m 7ms/step - accuracy: 0.4230 - loss: -15.4403 - val_accuracy: 0.4000 - val_loss: -14.9849\n",
      "Epoch 492/500\n",
      "\u001B[1m5/5\u001B[0m \u001B[32m━━━━━━━━━━━━━━━━━━━━\u001B[0m\u001B[37m\u001B[0m \u001B[1m0s\u001B[0m 7ms/step - accuracy: 0.4494 - loss: -15.6505 - val_accuracy: 0.4000 - val_loss: -14.9914\n",
      "Epoch 493/500\n",
      "\u001B[1m5/5\u001B[0m \u001B[32m━━━━━━━━━━━━━━━━━━━━\u001B[0m\u001B[37m\u001B[0m \u001B[1m0s\u001B[0m 7ms/step - accuracy: 0.4452 - loss: -15.9475 - val_accuracy: 0.4000 - val_loss: -14.9971\n",
      "Epoch 494/500\n",
      "\u001B[1m5/5\u001B[0m \u001B[32m━━━━━━━━━━━━━━━━━━━━\u001B[0m\u001B[37m\u001B[0m \u001B[1m0s\u001B[0m 7ms/step - accuracy: 0.4580 - loss: -15.6650 - val_accuracy: 0.4000 - val_loss: -14.9996\n",
      "Epoch 495/500\n",
      "\u001B[1m5/5\u001B[0m \u001B[32m━━━━━━━━━━━━━━━━━━━━\u001B[0m\u001B[37m\u001B[0m \u001B[1m0s\u001B[0m 6ms/step - accuracy: 0.4692 - loss: -16.0692 - val_accuracy: 0.4000 - val_loss: -15.0044\n",
      "Epoch 496/500\n",
      "\u001B[1m5/5\u001B[0m \u001B[32m━━━━━━━━━━━━━━━━━━━━\u001B[0m\u001B[37m\u001B[0m \u001B[1m0s\u001B[0m 6ms/step - accuracy: 0.4661 - loss: -16.1570 - val_accuracy: 0.4000 - val_loss: -15.0015\n",
      "Epoch 497/500\n",
      "\u001B[1m5/5\u001B[0m \u001B[32m━━━━━━━━━━━━━━━━━━━━\u001B[0m\u001B[37m\u001B[0m \u001B[1m0s\u001B[0m 7ms/step - accuracy: 0.4638 - loss: -15.6290 - val_accuracy: 0.4133 - val_loss: -15.0042\n",
      "Epoch 498/500\n",
      "\u001B[1m5/5\u001B[0m \u001B[32m━━━━━━━━━━━━━━━━━━━━\u001B[0m\u001B[37m\u001B[0m \u001B[1m0s\u001B[0m 7ms/step - accuracy: 0.4599 - loss: -15.7918 - val_accuracy: 0.4000 - val_loss: -15.0112\n",
      "Epoch 499/500\n",
      "\u001B[1m5/5\u001B[0m \u001B[32m━━━━━━━━━━━━━━━━━━━━\u001B[0m\u001B[37m\u001B[0m \u001B[1m0s\u001B[0m 7ms/step - accuracy: 0.4611 - loss: -16.1630 - val_accuracy: 0.4000 - val_loss: -15.0182\n",
      "Epoch 500/500\n",
      "\u001B[1m5/5\u001B[0m \u001B[32m━━━━━━━━━━━━━━━━━━━━\u001B[0m\u001B[37m\u001B[0m \u001B[1m0s\u001B[0m 6ms/step - accuracy: 0.4302 - loss: -15.5623 - val_accuracy: 0.4133 - val_loss: -15.0215\n"
     ]
    }
   ],
   "source": [
    "with tf.device(\"/device:CPU:0\"):    # у версії TF-DML для 2.10 можна писати \"/device:GPU:0\" замість \"/device:DML:0\"\n",
    "    start_time = time.time()\n",
    "    autoencoder.fit(train_x, train_x,\n",
    "        epochs=500,\n",
    "        batch_size=50,\n",
    "        shuffle=True,\n",
    "        validation_data=(valid_x, valid_x))\n",
    "    end_time = time.time()\n",
    "    #end_time-start_time"
   ]
  },
  {
   "cell_type": "code",
   "execution_count": 41,
   "metadata": {
    "id": "KNW9V8Ofi6sy",
    "ExecuteTime": {
     "end_time": "2025-03-24T20:03:44.965525Z",
     "start_time": "2025-03-24T20:03:44.963281Z"
    }
   },
   "outputs": [],
   "source": [
    "# зауважте, що час виконання залежно від версії DirectML або типу обладнання може суттєво відрізнятися\n",
    "# також час виконання на першій ітерації під відеокартою зазвичай вищий, ніж на наступних"
   ]
  },
  {
   "cell_type": "code",
   "execution_count": 42,
   "metadata": {
    "id": "qIcf1PKQi6sy",
    "outputId": "14465e40-8dca-4d57-a030-5be2ba4573e7",
    "ExecuteTime": {
     "end_time": "2025-03-24T20:03:49.041822Z",
     "start_time": "2025-03-24T20:03:48.813338Z"
    }
   },
   "outputs": [
    {
     "name": "stdout",
     "output_type": "stream",
     "text": [
      "\u001B[1m1/1\u001B[0m \u001B[32m━━━━━━━━━━━━━━━━━━━━\u001B[0m\u001B[37m\u001B[0m \u001B[1m0s\u001B[0m 33ms/step\n"
     ]
    },
    {
     "data": {
      "text/plain": "<Figure size 600x600 with 2 Axes>",
      "image/png": "[encoded data removed]"
     },
     "metadata": {},
     "output_type": "display_data"
    },
    {
     "name": "stdout",
     "output_type": "stream",
     "text": [
      "\u001B[1m1/1\u001B[0m \u001B[32m━━━━━━━━━━━━━━━━━━━━\u001B[0m\u001B[37m\u001B[0m \u001B[1m0s\u001B[0m 24ms/step\n"
     ]
    },
    {
     "data": {
      "text/plain": "<Figure size 600x600 with 2 Axes>",
      "image/png": "[encoded data removed]"
     },
     "metadata": {},
     "output_type": "display_data"
    }
   ],
   "source": [
    "#Because latent space is two-dimensional, there are a few visualizations that can be done at this point.\n",
    "#One is to look at the neighborhoods of different classes on the latent 2D plane:\n",
    "colors = np.array(list(islice(cycle(['#377eb8', '#ff7f00', '#4daf4a',\n",
    "                                             '#f781bf', '#a65628', '#984ea3',\n",
    "                                             '#999999', '#e41a1c', '#dede00']), int(max(valid_y) + 1))))\n",
    "\n",
    "start_time = time.time()\n",
    "x_train_encoded = encoder.predict(train_x, batch_size=500)\n",
    "plt.figure(figsize=(6, 6))\n",
    "plt.scatter(x_train_encoded[:, 0], x_train_encoded[:, 1], c = colors[train_y])\n",
    "plt.colorbar()\n",
    "plt.show()\n",
    "\n",
    "x_test_encoded = encoder.predict(valid_x, batch_size=500)\n",
    "plt.figure(figsize=(6, 6))\n",
    "plt.scatter(x_test_encoded[:, 0], x_test_encoded[:, 1], c = colors[valid_y])\n",
    "plt.colorbar()\n",
    "plt.show()\n",
    "end_time = time.time()"
   ]
  },
  {
   "cell_type": "code",
   "execution_count": 43,
   "metadata": {
    "id": "TQCFdOyli6sy",
    "outputId": "2ed78c02-a5ac-42b0-fcfa-eeeb86dd02ff",
    "ExecuteTime": {
     "end_time": "2025-03-24T20:03:56.013117Z",
     "start_time": "2025-03-24T20:03:56.008273Z"
    }
   },
   "outputs": [
    {
     "data": {
      "text/plain": "0.0010488033294677734"
     },
     "execution_count": 43,
     "metadata": {},
     "output_type": "execute_result"
    }
   ],
   "source": [
    "start_time = time.time()\n",
    "train_x, valid_x, train_y, valid_y = model_selection.train_test_split(ab, y_pred)\n",
    "end_time = time.time()\n",
    "end_time-start_time"
   ]
  },
  {
   "cell_type": "code",
   "execution_count": 44,
   "metadata": {
    "id": "8jMhMQ6oi6sz",
    "outputId": "e16331e0-bfc4-400b-80cc-36987b49b655",
    "ExecuteTime": {
     "end_time": "2025-03-24T20:03:59.034808Z",
     "start_time": "2025-03-24T20:03:59.007805Z"
    }
   },
   "outputs": [
    {
     "name": "stderr",
     "output_type": "stream",
     "text": [
      "/Users/maksymkhodakov/CVLab3/CVLab3/.venv/lib/python3.9/site-packages/sklearn/utils/deprecation.py:151: FutureWarning: 'force_all_finite' was renamed to 'ensure_all_finite' in 1.6 and will be removed in 1.8.\n",
      "  warnings.warn(\n",
      "/Users/maksymkhodakov/CVLab3/CVLab3/.venv/lib/python3.9/site-packages/sklearn/base.py:484: FutureWarning: `BaseEstimator._check_n_features` is deprecated in 1.6 and will be removed in 1.7. Use `sklearn.utils.validation._check_n_features` instead.\n",
      "  warnings.warn(\n",
      "/Users/maksymkhodakov/CVLab3/CVLab3/.venv/lib/python3.9/site-packages/sklearn/base.py:493: FutureWarning: `BaseEstimator._check_feature_names` is deprecated in 1.6 and will be removed in 1.7. Use `sklearn.utils.validation._check_feature_names` instead.\n",
      "  warnings.warn(\n"
     ]
    },
    {
     "data": {
      "text/plain": "0.001986980438232422"
     },
     "execution_count": 44,
     "metadata": {},
     "output_type": "execute_result"
    }
   ],
   "source": [
    "from sklearn.datasets import make_classification\n",
    "from imblearn.over_sampling import RandomOverSampler\n",
    "start_time = time.time()\n",
    "ros = RandomOverSampler(random_state=0)\n",
    "X_resampled, y_resampled = ros.fit_resample(X_embedded, y_pred)\n",
    "end_time = time.time()\n",
    "end_time-start_time"
   ]
  },
  {
   "cell_type": "code",
   "execution_count": 44,
   "metadata": {
    "id": "EodRtNS7i6sz",
    "ExecuteTime": {
     "end_time": "2025-03-24T20:04:06.795401Z",
     "start_time": "2025-03-24T20:04:06.793618Z"
    }
   },
   "outputs": [],
   "source": []
  },
  {
   "cell_type": "code",
   "execution_count": 45,
   "metadata": {
    "id": "fPElk0uZi6sz",
    "outputId": "5b7ac599-226c-4874-ebb8-cfe838935976",
    "ExecuteTime": {
     "end_time": "2025-03-24T20:04:08.207058Z",
     "start_time": "2025-03-24T20:04:08.072354Z"
    }
   },
   "outputs": [
    {
     "data": {
      "text/plain": "<Figure size 600x600 with 2 Axes>",
      "image/png": "[encoded data removed]"
     },
     "metadata": {},
     "output_type": "display_data"
    },
    {
     "data": {
      "text/plain": "<Figure size 600x600 with 2 Axes>",
      "image/png": "[encoded data removed]"
     },
     "metadata": {},
     "output_type": "display_data"
    }
   ],
   "source": [
    "colors = np.array(list(islice(cycle(['#377eb8', '#ff7f00', '#4daf4a',\n",
    "                                             '#f781bf', '#a65628', '#984ea3',\n",
    "                                             '#999999', '#e41a1c', '#dede00']), int(max(y_pred) + 1))))\n",
    "\n",
    "plt.figure(figsize=(6, 6))\n",
    "plt.scatter(X_embedded[:, 0], X_embedded[:, 1], s=2, c=colors[y_pred])\n",
    "plt.colorbar()\n",
    "plt.show()\n",
    "\n",
    "plt.figure(figsize=(6, 6))\n",
    "plt.scatter(X_resampled[:, 0], X_resampled[:, 1], s=2, c=colors[y_resampled])\n",
    "plt.colorbar()\n",
    "plt.show()"
   ]
  },
  {
   "cell_type": "code",
   "execution_count": 46,
   "metadata": {
    "id": "JlrB6Afli6sz",
    "ExecuteTime": {
     "end_time": "2025-03-24T20:04:13.532211Z",
     "start_time": "2025-03-24T20:04:13.528942Z"
    }
   },
   "outputs": [],
   "source": [
    "train_x, valid_x, train_y, valid_y = model_selection.train_test_split(X_resampled, y_resampled)"
   ]
  },
  {
   "cell_type": "code",
   "execution_count": 47,
   "metadata": {
    "id": "bKYov9sdi6s5",
    "ExecuteTime": {
     "end_time": "2025-03-24T20:04:14.866074Z",
     "start_time": "2025-03-24T20:04:14.864106Z"
    }
   },
   "outputs": [],
   "source": [
    "#X_resampled, y_resampled = ros.fit_resample(X_embedded, y_pred)"
   ]
  },
  {
   "cell_type": "code",
   "execution_count": 48,
   "metadata": {
    "id": "RkoTrBRki6s5",
    "outputId": "afbb9fdb-5eee-4285-aaca-6feca080335b",
    "ExecuteTime": {
     "end_time": "2025-03-24T20:04:15.983079Z",
     "start_time": "2025-03-24T20:04:15.972179Z"
    }
   },
   "outputs": [
    {
     "name": "stderr",
     "output_type": "stream",
     "text": [
      "/Users/maksymkhodakov/CVLab3/CVLab3/.venv/lib/python3.9/site-packages/sklearn/base.py:474: FutureWarning: `BaseEstimator._validate_data` is deprecated in 1.6 and will be removed in 1.7. Use `sklearn.utils.validation.validate_data` instead. This function becomes public and is part of the scikit-learn developer API.\n",
      "  warnings.warn(\n"
     ]
    },
    {
     "data": {
      "text/plain": "0.007703065872192383"
     },
     "execution_count": 48,
     "metadata": {},
     "output_type": "execute_result"
    }
   ],
   "source": [
    "from imblearn.over_sampling import SMOTE, ADASYN\n",
    "start_time = time.time()\n",
    "X_resampled2, y_resampled2 = SMOTE().fit_resample(X_embedded, y_pred)\n",
    "#print(sorted(Counter(y_resampled).items()))\n",
    "end_time = time.time()\n",
    "end_time-start_time"
   ]
  },
  {
   "cell_type": "code",
   "execution_count": 49,
   "metadata": {
    "id": "f_BY8Rt2i6s6",
    "outputId": "0a56b3ad-73ed-4906-bee3-2b58572dd54b",
    "ExecuteTime": {
     "end_time": "2025-03-24T20:04:22.504732Z",
     "start_time": "2025-03-24T20:04:22.495252Z"
    }
   },
   "outputs": [
    {
     "data": {
      "text/plain": "0.006310939788818359"
     },
     "execution_count": 49,
     "metadata": {},
     "output_type": "execute_result"
    }
   ],
   "source": [
    "start_time = time.time()\n",
    "clf_smote = LinearSVC().fit(X_resampled2, y_resampled2)\n",
    "end_time = time.time()\n",
    "end_time-start_time"
   ]
  },
  {
   "cell_type": "code",
   "execution_count": 50,
   "metadata": {
    "id": "ERTu4xeIi6s6",
    "outputId": "c0a32a1a-69fa-4ce1-e8e1-abb706ad8f9a",
    "ExecuteTime": {
     "end_time": "2025-03-24T20:04:26.511537Z",
     "start_time": "2025-03-24T20:04:26.497957Z"
    }
   },
   "outputs": [
    {
     "name": "stderr",
     "output_type": "stream",
     "text": [
      "/Users/maksymkhodakov/CVLab3/CVLab3/.venv/lib/python3.9/site-packages/sklearn/base.py:474: FutureWarning: `BaseEstimator._validate_data` is deprecated in 1.6 and will be removed in 1.7. Use `sklearn.utils.validation.validate_data` instead. This function becomes public and is part of the scikit-learn developer API.\n",
      "  warnings.warn(\n"
     ]
    },
    {
     "data": {
      "text/plain": "0.008714914321899414"
     },
     "execution_count": 50,
     "metadata": {},
     "output_type": "execute_result"
    }
   ],
   "source": [
    "start_time = time.time()\n",
    "X_resampled3, y_resampled3 = ADASYN().fit_resample(X_embedded, y_pred)\n",
    "#print(sorted(Counter(y_resampled).items()))\n",
    "end_time = time.time()\n",
    "end_time-start_time"
   ]
  },
  {
   "cell_type": "code",
   "execution_count": 51,
   "metadata": {
    "id": "57u-cmW6i6s6",
    "outputId": "6a345c6a-3fd1-4c93-9ab5-9e5fba9f4f0d",
    "ExecuteTime": {
     "end_time": "2025-03-24T20:04:30.166845Z",
     "start_time": "2025-03-24T20:04:30.159973Z"
    }
   },
   "outputs": [
    {
     "data": {
      "text/plain": "0.003484010696411133"
     },
     "execution_count": 51,
     "metadata": {},
     "output_type": "execute_result"
    }
   ],
   "source": [
    "start_time = time.time()\n",
    "clf_adasyn = LinearSVC().fit(X_resampled3, y_resampled3)\n",
    "end_time = time.time()\n",
    "end_time-start_time"
   ]
  },
  {
   "cell_type": "code",
   "execution_count": 52,
   "metadata": {
    "id": "H30Rk0G1i6s7",
    "outputId": "57251a5b-4fb2-4a96-e536-ed901ae2100c",
    "ExecuteTime": {
     "end_time": "2025-03-24T20:04:35.642170Z",
     "start_time": "2025-03-24T20:04:35.446843Z"
    }
   },
   "outputs": [
    {
     "data": {
      "text/plain": "<Figure size 600x600 with 2 Axes>",
      "image/png": "[encoded data removed]"
     },
     "metadata": {},
     "output_type": "display_data"
    },
    {
     "data": {
      "text/plain": "<Figure size 600x600 with 2 Axes>",
      "image/png": "[encoded data removed]"
     },
     "metadata": {},
     "output_type": "display_data"
    },
    {
     "data": {
      "text/plain": "<Figure size 600x600 with 2 Axes>",
      "image/png": "[encoded data removed]"
     },
     "metadata": {},
     "output_type": "display_data"
    }
   ],
   "source": [
    "plt.figure(figsize=(6, 6))\n",
    "plt.scatter(X_resampled[:, 0], X_resampled[:, 1], s=2, c=colors[y_resampled])\n",
    "plt.colorbar()\n",
    "plt.show()\n",
    "\n",
    "plt.figure(figsize=(6, 6))\n",
    "plt.scatter(X_resampled2[:, 0], X_resampled2[:, 1], s=2, c=colors[y_resampled2])\n",
    "plt.colorbar()\n",
    "plt.show()\n",
    "\n",
    "plt.figure(figsize=(6, 6))\n",
    "plt.scatter(X_resampled3[:, 0], X_resampled3[:, 1], s=2, c=colors[y_resampled3])\n",
    "plt.colorbar()\n",
    "plt.show()"
   ]
  },
  {
   "cell_type": "code",
   "execution_count": 53,
   "metadata": {
    "id": "PdA165ORi6s7",
    "ExecuteTime": {
     "end_time": "2025-03-24T20:04:42.853796Z",
     "start_time": "2025-03-24T20:04:42.851462Z"
    }
   },
   "outputs": [],
   "source": [
    "# stops here"
   ]
  },
  {
   "cell_type": "code",
   "outputs": [],
   "source": [],
   "metadata": {
    "collapsed": false
   }
  }
 ],
 "metadata": {
  "kernelspec": {
   "display_name": "Python 3 (ipykernel)",
   "language": "python",
   "name": "python3"
  },
  "language_info": {
   "codemirror_mode": {
    "name": "ipython",
    "version": 3
   },
   "file_extension": ".py",
   "mimetype": "text/x-python",
   "name": "python",
   "nbconvert_exporter": "python",
   "pygments_lexer": "ipython3",
   "version": "3.9.18"
  },
  "varInspector": {
   "cols": {
    "lenName": 16,
    "lenType": 16,
    "lenVar": 40
   },
   "kernels_config": {
    "python": {
     "delete_cmd_postfix": "",
     "delete_cmd_prefix": "del ",
     "library": "var_list.py",
     "varRefreshCmd": "print(var_dic_list())"
    },
    "r": {
     "delete_cmd_postfix": ") ",
     "delete_cmd_prefix": "rm(",
     "library": "var_list.r",
     "varRefreshCmd": "cat(var_dic_list()) "
    }
   },
   "types_to_exclude": [
    "module",
    "function",
    "builtin_function_or_method",
    "instance",
    "_Feature"
   ],
   "window_display": false
  },
  "colab": {
   "provenance": []
  }
 },
 "nbformat": 4,
 "nbformat_minor": 0
}
